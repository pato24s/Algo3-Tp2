{
 "cells": [
  {
   "cell_type": "code",
   "execution_count": 45,
   "metadata": {
    "collapsed": false,
    "deletable": true,
    "editable": true,
    "scrolled": false
   },
   "outputs": [
    {
     "data": {
      "text/html": [
       "<script>requirejs.config({paths: { 'plotly': ['https://cdn.plot.ly/plotly-latest.min']},});if(!window.Plotly) {{require(['plotly'],function(plotly) {window.Plotly=plotly;});}}</script>"
      ],
      "text/vnd.plotly.v1+html": [
       "<script>requirejs.config({paths: { 'plotly': ['https://cdn.plot.ly/plotly-latest.min']},});if(!window.Plotly) {{require(['plotly'],function(plotly) {window.Plotly=plotly;});}}</script>"
      ]
     },
     "metadata": {},
     "output_type": "display_data"
    },
    {
     "data": {
      "text/plain": [
       "[{'name': '5_1', 'type': 'bar', 'x': '5', 'y': 78607.350000000006},\n",
       " {'name': '5_2', 'type': 'bar', 'x': '5', 'y': 82815.5},\n",
       " {'name': '5_3', 'type': 'bar', 'x': '5', 'y': 62961.800000000003},\n",
       " {'name': '5_4', 'type': 'bar', 'x': '5', 'y': 60358.800000000003},\n",
       " {'name': '5_5', 'type': 'bar', 'x': '5', 'y': 69589.649999999994},\n",
       " {'name': '20_1', 'type': 'bar', 'x': '20', 'y': 6364639.0250000004},\n",
       " {'name': '20_5', 'type': 'bar', 'x': '20', 'y': 43165880.450000003},\n",
       " {'name': '20_10', 'type': 'bar', 'x': '20', 'y': 124867940.84999999},\n",
       " {'name': '20_15', 'type': 'bar', 'x': '20', 'y': 165044775.94999999},\n",
       " {'name': '20_20', 'type': 'bar', 'x': '20', 'y': 120450232.47499999}]"
      ]
     },
     "execution_count": 45,
     "metadata": {},
     "output_type": "execute_result"
    },
    {
     "data": {
      "application/vnd.plotly.v1+json": {
       "data": [
        {
         "mode": "0",
         "name": "ejer1_exp1_buenosCasos",
         "type": "scatter",
         "x": [
          5,
          10,
          15,
          20,
          25,
          30,
          35,
          40,
          50,
          75,
          80,
          95,
          100
         ],
         "y": [
          280190.95,
          474406.625,
          786028.4,
          1157863.85,
          1558893.238095238,
          1935885.85,
          2439966.375,
          3016560.85,
          4150210.4,
          7956493.9,
          8859797.175,
          11843651.55,
          12902483.625
         ]
        },
        {
         "mode": "0",
         "name": "ejer1_exp1_malosCasos",
         "type": "scatter",
         "x": [
          5,
          10,
          15,
          20,
          25,
          30,
          35,
          40,
          50,
          75,
          80,
          95,
          100
         ],
         "y": [
          708246.9,
          1941470.8,
          4350670.3,
          7591225.075,
          11227283.2,
          16314347.525,
          22167973.475,
          28607047.125,
          44602138.525,
          99883505.575,
          113547732.15,
          161009354.65,
          177205809.9
         ]
        }
       ],
       "layout": {
        "legend": {
         "bgcolor": "#E2E2E2",
         "bordercolor": "#FFFFFF",
         "borderwidth": 2,
         "font": {
          "color": "#000",
          "family": "sans-serif",
          "size": 12
         },
         "traceorder": "normal",
         "x": 10,
         "y": 1
        },
        "title": "ejer1_exp1 <br> Largo de los caminos = 20",
        "xaxis": {
         "tickangle": 0,
         "tickmode": "auto",
         "ticks": "inside",
         "title": "Cantidad de caminos"
        },
        "yaxis": {
         "tick0": 0,
         "tickcolor": "#000",
         "ticklen": 8,
         "ticks": "inside",
         "tickwidth": 3,
         "title": "Tiempo promedio (ns)",
         "zeroline": "False"
        }
       }
      },
      "text/html": [
       "<div id=\"8d0d28ef-15d3-47a4-9502-4796207d9e70\" style=\"height: 525px; width: 100%;\" class=\"plotly-graph-div\"></div><script type=\"text/javascript\">require([\"plotly\"], function(Plotly) { window.PLOTLYENV=window.PLOTLYENV || {};window.PLOTLYENV.BASE_URL=\"https://plot.ly\";Plotly.newPlot(\"8d0d28ef-15d3-47a4-9502-4796207d9e70\", [{\"y\": [280190.95, 474406.625, 786028.4, 1157863.85, 1558893.238095238, 1935885.85, 2439966.375, 3016560.85, 4150210.4, 7956493.9, 8859797.175, 11843651.55, 12902483.625], \"x\": [5, 10, 15, 20, 25, 30, 35, 40, 50, 75, 80, 95, 100], \"type\": \"scatter\", \"name\": \"ejer1_exp1_buenosCasos\", \"mode\": \"0\"}, {\"y\": [708246.9, 1941470.8, 4350670.3, 7591225.075, 11227283.2, 16314347.525, 22167973.475, 28607047.125, 44602138.525, 99883505.575, 113547732.15, 161009354.65, 177205809.9], \"x\": [5, 10, 15, 20, 25, 30, 35, 40, 50, 75, 80, 95, 100], \"type\": \"scatter\", \"name\": \"ejer1_exp1_malosCasos\", \"mode\": \"0\"}], {\"yaxis\": {\"ticks\": \"inside\", \"tickwidth\": 3, \"title\": \"Tiempo promedio (ns)\", \"tick0\": 0, \"ticklen\": 8, \"zeroline\": \"False\", \"tickcolor\": \"#000\"}, \"legend\": {\"bordercolor\": \"#FFFFFF\", \"traceorder\": \"normal\", \"bgcolor\": \"#E2E2E2\", \"borderwidth\": 2, \"y\": 1, \"x\": 10, \"font\": {\"color\": \"#000\", \"family\": \"sans-serif\", \"size\": 12}}, \"xaxis\": {\"tickangle\": 0, \"ticks\": \"inside\", \"tickmode\": \"auto\", \"title\": \"Cantidad de caminos\"}, \"title\": \"ejer1_exp1 <br> Largo de los caminos = 20\"}, {\"linkText\": \"Export to plot.ly\", \"showLink\": true})});</script>"
      ],
      "text/vnd.plotly.v1+html": [
       "<div id=\"8d0d28ef-15d3-47a4-9502-4796207d9e70\" style=\"height: 525px; width: 100%;\" class=\"plotly-graph-div\"></div><script type=\"text/javascript\">require([\"plotly\"], function(Plotly) { window.PLOTLYENV=window.PLOTLYENV || {};window.PLOTLYENV.BASE_URL=\"https://plot.ly\";Plotly.newPlot(\"8d0d28ef-15d3-47a4-9502-4796207d9e70\", [{\"y\": [280190.95, 474406.625, 786028.4, 1157863.85, 1558893.238095238, 1935885.85, 2439966.375, 3016560.85, 4150210.4, 7956493.9, 8859797.175, 11843651.55, 12902483.625], \"x\": [5, 10, 15, 20, 25, 30, 35, 40, 50, 75, 80, 95, 100], \"type\": \"scatter\", \"name\": \"ejer1_exp1_buenosCasos\", \"mode\": \"0\"}, {\"y\": [708246.9, 1941470.8, 4350670.3, 7591225.075, 11227283.2, 16314347.525, 22167973.475, 28607047.125, 44602138.525, 99883505.575, 113547732.15, 161009354.65, 177205809.9], \"x\": [5, 10, 15, 20, 25, 30, 35, 40, 50, 75, 80, 95, 100], \"type\": \"scatter\", \"name\": \"ejer1_exp1_malosCasos\", \"mode\": \"0\"}], {\"yaxis\": {\"ticks\": \"inside\", \"tickwidth\": 3, \"title\": \"Tiempo promedio (ns)\", \"tick0\": 0, \"ticklen\": 8, \"zeroline\": \"False\", \"tickcolor\": \"#000\"}, \"legend\": {\"bordercolor\": \"#FFFFFF\", \"traceorder\": \"normal\", \"bgcolor\": \"#E2E2E2\", \"borderwidth\": 2, \"y\": 1, \"x\": 10, \"font\": {\"color\": \"#000\", \"family\": \"sans-serif\", \"size\": 12}}, \"xaxis\": {\"tickangle\": 0, \"ticks\": \"inside\", \"tickmode\": \"auto\", \"title\": \"Cantidad de caminos\"}, \"title\": \"ejer1_exp1 <br> Largo de los caminos = 20\"}, {\"linkText\": \"Export to plot.ly\", \"showLink\": true})});</script>"
      ]
     },
     "metadata": {},
     "output_type": "display_data"
    },
    {
     "data": {
      "application/vnd.plotly.v1+json": {
       "data": [
        {
         "legendgroup": "5",
         "name": "5_1",
         "type": "bar",
         "x": [
          "5"
         ],
         "y": [
          78607.35
         ]
        },
        {
         "legendgroup": "5",
         "name": "5_2",
         "type": "bar",
         "x": [
          "5"
         ],
         "y": [
          82815.5
         ]
        },
        {
         "legendgroup": "5",
         "name": "5_3",
         "type": "bar",
         "x": [
          "5"
         ],
         "y": [
          62961.8
         ]
        },
        {
         "legendgroup": "5",
         "name": "5_4",
         "type": "bar",
         "x": [
          "5"
         ],
         "y": [
          60358.8
         ]
        },
        {
         "legendgroup": "5",
         "name": "5_5",
         "type": "bar",
         "x": [
          "5"
         ],
         "y": [
          69589.65
         ]
        },
        {
         "legendgroup": "20",
         "name": "20_1",
         "type": "bar",
         "x": [
          "20"
         ],
         "y": [
          6364639.025
         ]
        },
        {
         "legendgroup": "20",
         "name": "20_5",
         "type": "bar",
         "x": [
          "20"
         ],
         "y": [
          43165880.45
         ]
        },
        {
         "legendgroup": "20",
         "name": "20_10",
         "type": "bar",
         "x": [
          "20"
         ],
         "y": [
          124867940.85
         ]
        },
        {
         "legendgroup": "20",
         "name": "20_15",
         "type": "bar",
         "x": [
          "20"
         ],
         "y": [
          165044775.95
         ]
        },
        {
         "legendgroup": "20",
         "name": "20_20",
         "type": "bar",
         "x": [
          "20"
         ],
         "y": [
          120450232.475
         ]
        }
       ],
       "layout": {
        "barmode": "group",
        "title": "ejer1_exp2",
        "xaxis": {
         "title": "Cantidad de caminos"
        },
        "yaxis": {
         "title": "Tiempo (ns)"
        }
       }
      },
      "text/html": [
       "<div id=\"a0a3b92b-7646-4e2d-b923-b834aa94d2ce\" style=\"height: 525px; width: 100%;\" class=\"plotly-graph-div\"></div><script type=\"text/javascript\">require([\"plotly\"], function(Plotly) { window.PLOTLYENV=window.PLOTLYENV || {};window.PLOTLYENV.BASE_URL=\"https://plot.ly\";Plotly.newPlot(\"a0a3b92b-7646-4e2d-b923-b834aa94d2ce\", [{\"y\": [78607.35], \"x\": [\"5\"], \"legendgroup\": \"5\", \"type\": \"bar\", \"name\": \"5_1\"}, {\"y\": [82815.5], \"x\": [\"5\"], \"legendgroup\": \"5\", \"type\": \"bar\", \"name\": \"5_2\"}, {\"y\": [62961.8], \"x\": [\"5\"], \"legendgroup\": \"5\", \"type\": \"bar\", \"name\": \"5_3\"}, {\"y\": [60358.8], \"x\": [\"5\"], \"legendgroup\": \"5\", \"type\": \"bar\", \"name\": \"5_4\"}, {\"y\": [69589.65], \"x\": [\"5\"], \"legendgroup\": \"5\", \"type\": \"bar\", \"name\": \"5_5\"}, {\"y\": [6364639.025], \"x\": [\"20\"], \"legendgroup\": \"20\", \"type\": \"bar\", \"name\": \"20_1\"}, {\"y\": [43165880.45], \"x\": [\"20\"], \"legendgroup\": \"20\", \"type\": \"bar\", \"name\": \"20_5\"}, {\"y\": [124867940.85], \"x\": [\"20\"], \"legendgroup\": \"20\", \"type\": \"bar\", \"name\": \"20_10\"}, {\"y\": [165044775.95], \"x\": [\"20\"], \"legendgroup\": \"20\", \"type\": \"bar\", \"name\": \"20_15\"}, {\"y\": [120450232.475], \"x\": [\"20\"], \"legendgroup\": \"20\", \"type\": \"bar\", \"name\": \"20_20\"}], {\"barmode\": \"group\", \"title\": \"ejer1_exp2\", \"xaxis\": {\"title\": \"Cantidad de caminos\"}, \"yaxis\": {\"title\": \"Tiempo (ns)\"}}, {\"linkText\": \"Export to plot.ly\", \"showLink\": true})});</script>"
      ],
      "text/vnd.plotly.v1+html": [
       "<div id=\"a0a3b92b-7646-4e2d-b923-b834aa94d2ce\" style=\"height: 525px; width: 100%;\" class=\"plotly-graph-div\"></div><script type=\"text/javascript\">require([\"plotly\"], function(Plotly) { window.PLOTLYENV=window.PLOTLYENV || {};window.PLOTLYENV.BASE_URL=\"https://plot.ly\";Plotly.newPlot(\"a0a3b92b-7646-4e2d-b923-b834aa94d2ce\", [{\"y\": [78607.35], \"x\": [\"5\"], \"legendgroup\": \"5\", \"type\": \"bar\", \"name\": \"5_1\"}, {\"y\": [82815.5], \"x\": [\"5\"], \"legendgroup\": \"5\", \"type\": \"bar\", \"name\": \"5_2\"}, {\"y\": [62961.8], \"x\": [\"5\"], \"legendgroup\": \"5\", \"type\": \"bar\", \"name\": \"5_3\"}, {\"y\": [60358.8], \"x\": [\"5\"], \"legendgroup\": \"5\", \"type\": \"bar\", \"name\": \"5_4\"}, {\"y\": [69589.65], \"x\": [\"5\"], \"legendgroup\": \"5\", \"type\": \"bar\", \"name\": \"5_5\"}, {\"y\": [6364639.025], \"x\": [\"20\"], \"legendgroup\": \"20\", \"type\": \"bar\", \"name\": \"20_1\"}, {\"y\": [43165880.45], \"x\": [\"20\"], \"legendgroup\": \"20\", \"type\": \"bar\", \"name\": \"20_5\"}, {\"y\": [124867940.85], \"x\": [\"20\"], \"legendgroup\": \"20\", \"type\": \"bar\", \"name\": \"20_10\"}, {\"y\": [165044775.95], \"x\": [\"20\"], \"legendgroup\": \"20\", \"type\": \"bar\", \"name\": \"20_15\"}, {\"y\": [120450232.475], \"x\": [\"20\"], \"legendgroup\": \"20\", \"type\": \"bar\", \"name\": \"20_20\"}], {\"barmode\": \"group\", \"title\": \"ejer1_exp2\", \"xaxis\": {\"title\": \"Cantidad de caminos\"}, \"yaxis\": {\"title\": \"Tiempo (ns)\"}}, {\"linkText\": \"Export to plot.ly\", \"showLink\": true})});</script>"
      ]
     },
     "metadata": {},
     "output_type": "display_data"
    },
    {
     "data": {
      "application/vnd.plotly.v1+json": {
       "data": [
        {
         "mode": "0",
         "name": "ejer2_exp1",
         "type": "scatter",
         "x": [],
         "y": []
        }
       ],
       "layout": {
        "legend": {
         "bgcolor": "#E2E2E2",
         "bordercolor": "#FFFFFF",
         "borderwidth": 2,
         "font": {
          "color": "#000",
          "family": "sans-serif",
          "size": 12
         },
         "traceorder": "normal",
         "x": 10,
         "y": 1
        },
        "title": "ejer2_exp1",
        "xaxis": {
         "tickangle": 0,
         "tickmode": "auto",
         "ticks": "inside",
         "title": "Cantidad de vertices"
        },
        "yaxis": {
         "tick0": 0,
         "tickcolor": "#000",
         "ticklen": 8,
         "ticks": "inside",
         "tickwidth": 3,
         "title": "Tiempo promedio (ns)",
         "zeroline": "False"
        }
       }
      },
      "text/html": [
       "<div id=\"0cf7c359-3b15-4754-8130-9e5d766ef90f\" style=\"height: 525px; width: 100%;\" class=\"plotly-graph-div\"></div><script type=\"text/javascript\">require([\"plotly\"], function(Plotly) { window.PLOTLYENV=window.PLOTLYENV || {};window.PLOTLYENV.BASE_URL=\"https://plot.ly\";Plotly.newPlot(\"0cf7c359-3b15-4754-8130-9e5d766ef90f\", [{\"y\": [], \"x\": [], \"type\": \"scatter\", \"name\": \"ejer2_exp1\", \"mode\": \"0\"}], {\"yaxis\": {\"ticks\": \"inside\", \"tickwidth\": 3, \"title\": \"Tiempo promedio (ns)\", \"tick0\": 0, \"ticklen\": 8, \"zeroline\": \"False\", \"tickcolor\": \"#000\"}, \"legend\": {\"bordercolor\": \"#FFFFFF\", \"traceorder\": \"normal\", \"bgcolor\": \"#E2E2E2\", \"borderwidth\": 2, \"y\": 1, \"x\": 10, \"font\": {\"color\": \"#000\", \"family\": \"sans-serif\", \"size\": 12}}, \"xaxis\": {\"tickangle\": 0, \"ticks\": \"inside\", \"tickmode\": \"auto\", \"title\": \"Cantidad de vertices\"}, \"title\": \"ejer2_exp1\"}, {\"linkText\": \"Export to plot.ly\", \"showLink\": true})});</script>"
      ],
      "text/vnd.plotly.v1+html": [
       "<div id=\"0cf7c359-3b15-4754-8130-9e5d766ef90f\" style=\"height: 525px; width: 100%;\" class=\"plotly-graph-div\"></div><script type=\"text/javascript\">require([\"plotly\"], function(Plotly) { window.PLOTLYENV=window.PLOTLYENV || {};window.PLOTLYENV.BASE_URL=\"https://plot.ly\";Plotly.newPlot(\"0cf7c359-3b15-4754-8130-9e5d766ef90f\", [{\"y\": [], \"x\": [], \"type\": \"scatter\", \"name\": \"ejer2_exp1\", \"mode\": \"0\"}], {\"yaxis\": {\"ticks\": \"inside\", \"tickwidth\": 3, \"title\": \"Tiempo promedio (ns)\", \"tick0\": 0, \"ticklen\": 8, \"zeroline\": \"False\", \"tickcolor\": \"#000\"}, \"legend\": {\"bordercolor\": \"#FFFFFF\", \"traceorder\": \"normal\", \"bgcolor\": \"#E2E2E2\", \"borderwidth\": 2, \"y\": 1, \"x\": 10, \"font\": {\"color\": \"#000\", \"family\": \"sans-serif\", \"size\": 12}}, \"xaxis\": {\"tickangle\": 0, \"ticks\": \"inside\", \"tickmode\": \"auto\", \"title\": \"Cantidad de vertices\"}, \"title\": \"ejer2_exp1\"}, {\"linkText\": \"Export to plot.ly\", \"showLink\": true})});</script>"
      ]
     },
     "metadata": {},
     "output_type": "display_data"
    },
    {
     "data": {
      "application/vnd.plotly.v1+json": {
       "data": [
        {
         "mode": "0",
         "name": "ejer3_exp1",
         "type": "scatter",
         "x": [],
         "y": []
        }
       ],
       "layout": {
        "legend": {
         "bgcolor": "#E2E2E2",
         "bordercolor": "#FFFFFF",
         "borderwidth": 2,
         "font": {
          "color": "#000",
          "family": "sans-serif",
          "size": 12
         },
         "traceorder": "normal",
         "x": 10,
         "y": 1
        },
        "title": "ejer3_exp1",
        "xaxis": {
         "tickangle": 0,
         "tickmode": "auto",
         "ticks": "inside",
         "title": "Cantidad de vertices"
        },
        "yaxis": {
         "tick0": 0,
         "tickcolor": "#000",
         "ticklen": 8,
         "ticks": "inside",
         "tickwidth": 3,
         "title": "Tiempo promedio (ns)",
         "zeroline": "False"
        }
       }
      },
      "text/html": [
       "<div id=\"0ec716e8-c792-4aad-b44f-c9d079a49cbb\" style=\"height: 525px; width: 100%;\" class=\"plotly-graph-div\"></div><script type=\"text/javascript\">require([\"plotly\"], function(Plotly) { window.PLOTLYENV=window.PLOTLYENV || {};window.PLOTLYENV.BASE_URL=\"https://plot.ly\";Plotly.newPlot(\"0ec716e8-c792-4aad-b44f-c9d079a49cbb\", [{\"y\": [], \"x\": [], \"type\": \"scatter\", \"name\": \"ejer3_exp1\", \"mode\": \"0\"}], {\"yaxis\": {\"ticks\": \"inside\", \"tickwidth\": 3, \"title\": \"Tiempo promedio (ns)\", \"tick0\": 0, \"ticklen\": 8, \"zeroline\": \"False\", \"tickcolor\": \"#000\"}, \"legend\": {\"bordercolor\": \"#FFFFFF\", \"traceorder\": \"normal\", \"bgcolor\": \"#E2E2E2\", \"borderwidth\": 2, \"y\": 1, \"x\": 10, \"font\": {\"color\": \"#000\", \"family\": \"sans-serif\", \"size\": 12}}, \"xaxis\": {\"tickangle\": 0, \"ticks\": \"inside\", \"tickmode\": \"auto\", \"title\": \"Cantidad de vertices\"}, \"title\": \"ejer3_exp1\"}, {\"linkText\": \"Export to plot.ly\", \"showLink\": true})});</script>"
      ],
      "text/vnd.plotly.v1+html": [
       "<div id=\"0ec716e8-c792-4aad-b44f-c9d079a49cbb\" style=\"height: 525px; width: 100%;\" class=\"plotly-graph-div\"></div><script type=\"text/javascript\">require([\"plotly\"], function(Plotly) { window.PLOTLYENV=window.PLOTLYENV || {};window.PLOTLYENV.BASE_URL=\"https://plot.ly\";Plotly.newPlot(\"0ec716e8-c792-4aad-b44f-c9d079a49cbb\", [{\"y\": [], \"x\": [], \"type\": \"scatter\", \"name\": \"ejer3_exp1\", \"mode\": \"0\"}], {\"yaxis\": {\"ticks\": \"inside\", \"tickwidth\": 3, \"title\": \"Tiempo promedio (ns)\", \"tick0\": 0, \"ticklen\": 8, \"zeroline\": \"False\", \"tickcolor\": \"#000\"}, \"legend\": {\"bordercolor\": \"#FFFFFF\", \"traceorder\": \"normal\", \"bgcolor\": \"#E2E2E2\", \"borderwidth\": 2, \"y\": 1, \"x\": 10, \"font\": {\"color\": \"#000\", \"family\": \"sans-serif\", \"size\": 12}}, \"xaxis\": {\"tickangle\": 0, \"ticks\": \"inside\", \"tickmode\": \"auto\", \"title\": \"Cantidad de vertices\"}, \"title\": \"ejer3_exp1\"}, {\"linkText\": \"Export to plot.ly\", \"showLink\": true})});</script>"
      ]
     },
     "metadata": {},
     "output_type": "display_data"
    },
    {
     "data": {
      "application/vnd.plotly.v1+json": {
       "data": [
        {
         "mode": "0",
         "name": "ejer3_exp2",
         "type": "scatter",
         "x": [],
         "y": []
        }
       ],
       "layout": {
        "legend": {
         "bgcolor": "#E2E2E2",
         "bordercolor": "#FFFFFF",
         "borderwidth": 2,
         "font": {
          "color": "#000",
          "family": "sans-serif",
          "size": 12
         },
         "traceorder": "normal",
         "x": 10,
         "y": 1
        },
        "title": "ejer3_exp2 <br> n = 100",
        "xaxis": {
         "tickangle": 0,
         "tickmode": "auto",
         "ticks": "inside",
         "title": "Procentaje de rutas construidas"
        },
        "yaxis": {
         "tick0": 0,
         "tickcolor": "#000",
         "ticklen": 8,
         "ticks": "inside",
         "tickwidth": 3,
         "title": "Tiempo promedio (ns)",
         "zeroline": "False"
        }
       }
      },
      "text/html": [
       "<div id=\"b5fe20dc-f08d-40e2-8622-347f6bb68713\" style=\"height: 525px; width: 100%;\" class=\"plotly-graph-div\"></div><script type=\"text/javascript\">require([\"plotly\"], function(Plotly) { window.PLOTLYENV=window.PLOTLYENV || {};window.PLOTLYENV.BASE_URL=\"https://plot.ly\";Plotly.newPlot(\"b5fe20dc-f08d-40e2-8622-347f6bb68713\", [{\"y\": [], \"x\": [], \"type\": \"scatter\", \"name\": \"ejer3_exp2\", \"mode\": \"0\"}], {\"yaxis\": {\"ticks\": \"inside\", \"tickwidth\": 3, \"title\": \"Tiempo promedio (ns)\", \"tick0\": 0, \"ticklen\": 8, \"zeroline\": \"False\", \"tickcolor\": \"#000\"}, \"legend\": {\"bordercolor\": \"#FFFFFF\", \"traceorder\": \"normal\", \"bgcolor\": \"#E2E2E2\", \"borderwidth\": 2, \"y\": 1, \"x\": 10, \"font\": {\"color\": \"#000\", \"family\": \"sans-serif\", \"size\": 12}}, \"xaxis\": {\"tickangle\": 0, \"ticks\": \"inside\", \"tickmode\": \"auto\", \"title\": \"Procentaje de rutas construidas\"}, \"title\": \"ejer3_exp2 <br> n = 100\"}, {\"linkText\": \"Export to plot.ly\", \"showLink\": true})});</script>"
      ],
      "text/vnd.plotly.v1+html": [
       "<div id=\"b5fe20dc-f08d-40e2-8622-347f6bb68713\" style=\"height: 525px; width: 100%;\" class=\"plotly-graph-div\"></div><script type=\"text/javascript\">require([\"plotly\"], function(Plotly) { window.PLOTLYENV=window.PLOTLYENV || {};window.PLOTLYENV.BASE_URL=\"https://plot.ly\";Plotly.newPlot(\"b5fe20dc-f08d-40e2-8622-347f6bb68713\", [{\"y\": [], \"x\": [], \"type\": \"scatter\", \"name\": \"ejer3_exp2\", \"mode\": \"0\"}], {\"yaxis\": {\"ticks\": \"inside\", \"tickwidth\": 3, \"title\": \"Tiempo promedio (ns)\", \"tick0\": 0, \"ticklen\": 8, \"zeroline\": \"False\", \"tickcolor\": \"#000\"}, \"legend\": {\"bordercolor\": \"#FFFFFF\", \"traceorder\": \"normal\", \"bgcolor\": \"#E2E2E2\", \"borderwidth\": 2, \"y\": 1, \"x\": 10, \"font\": {\"color\": \"#000\", \"family\": \"sans-serif\", \"size\": 12}}, \"xaxis\": {\"tickangle\": 0, \"ticks\": \"inside\", \"tickmode\": \"auto\", \"title\": \"Procentaje de rutas construidas\"}, \"title\": \"ejer3_exp2 <br> n = 100\"}, {\"linkText\": \"Export to plot.ly\", \"showLink\": true})});</script>"
      ]
     },
     "metadata": {},
     "output_type": "display_data"
    }
   ],
   "source": [
    "import os\n",
    "import plotly\n",
    "import pandas as pd\n",
    "import numpy as np\n",
    "import plotly.plotly as py\n",
    "import plotly.figure_factory as ff\n",
    "import plotly.graph_objs as go\n",
    "import collections\n",
    "import re\n",
    "from operator import itemgetter\n",
    "\n",
    "from IPython.core.interactiveshell import InteractiveShell\n",
    "InteractiveShell.ast_node_interactivity = \"all\"\n",
    "\n",
    "plotly.tools.set_credentials_file(username='Fernet', api_key='zC7ogVfVT5UPcpu2VKse')\n",
    "plotly.offline.init_notebook_mode(connected=True)\n",
    "\n",
    "#---------------- Settings ----------------\n",
    "\n",
    "image_ext = \"svg\" #Extension para bajar los graficos\n",
    "poda = 5 #Cuantos datos se dejan a cada lado al podar\n",
    "image_h = 1000\n",
    "image_w = 1400\n",
    "\n",
    "#---------------- Funciones ----------------\n",
    "\n",
    "\n",
    "#Toma el archivo a leer y si se quiere ordenar por tam o por tiempo promedio. Por default, se ordenan por num_tira\n",
    "\n",
    "#Experimentos 1.1, 2.1 y 3.1, n variable\n",
    "def procesar_csv_nVar(data_path):\n",
    "    df = pd.read_csv(data_path, sep = \";\")\n",
    "    cant_exp = df.shape[0] #Shape = (filas, columnas)\n",
    "    proms = []\n",
    "    #Ordeno las instancias por tiempo\n",
    "    df.sort_values(\"Tiempo\", inplace = \"True\")\n",
    "    #Descarto los valores en los extremos\n",
    "    df = df.iloc[poda : cant_exp - poda, :]\n",
    "\n",
    "    promedio = df[\"Tiempo\"].mean() #Promedio podado de las instancias\n",
    "    varianza = df[\"Tiempo\"].var()  #Varianza de los tiempos\n",
    "    v = df[\"V\"].iloc[0]    \n",
    "    \n",
    "    \n",
    "    ret_data = v, promedio, varianza\n",
    "    \n",
    "    return ret_data\n",
    "\n",
    "def procesar_carpeta_nVar(folder_path):\n",
    "    tam = []\n",
    "    proms = []\n",
    "    vars = []\n",
    "    for root, dirs, files in os.walk(folder_path):\n",
    "        for file in files:\n",
    "            if file.endswith(\".csv\"):\n",
    "                file = folder_path + \"/\" + file\n",
    "                f = open(file, 'r')\n",
    "                datos = procesar_csv_nVar(file)\n",
    "                tam.append(datos[0])\n",
    "                proms.append(datos[1])\n",
    "                vars.append(datos[2])\n",
    "                f.close()\n",
    "    \n",
    "    dict = {\"Tam\": tam, \"Proms\": proms, \"Vars\": vars}\n",
    "    df = pd.DataFrame(data = dict)\n",
    "    df.sort_values(\"Tam\", inplace = True)\n",
    "    return df\n",
    "\n",
    "#Experimentos 1.2, 3.2, %k utilizables o %const variable\n",
    "def procesar_csv_pctVar(data_path, var):  #var es string. Ejs: pctConst, pctK\n",
    "    df = pd.read_csv(data_path, sep = \";\")\n",
    "    cant_exp = df.shape[0] #Shape = (filas, columnas)\n",
    "    pct_prom = df[var].mean().round()\n",
    "    proms = []\n",
    "    #Ordeno las instancias por tiempo\n",
    "    df.sort_values(\"Tiempo\", inplace = \"True\")\n",
    "    #Descarto los valores en los extremos\n",
    "    df = df.iloc[poda : cant_exp - poda, :]\n",
    "\n",
    "    promedio = df[\"Tiempo\"].mean() #Promedio podado de las instancias\n",
    "    \n",
    "    ret_data = pct_prom, promedio\n",
    "    \n",
    "    return ret_data\n",
    "\n",
    "def procesar_carpeta_pctVar(folder_path, var):\n",
    "    pctVar = []\n",
    "    proms = []\n",
    "    for root, dirs, files in os.walk(folder_path):\n",
    "        for file in files:\n",
    "            if file.endswith(\".csv\"):\n",
    "                file = folder_path + \"/\" + file\n",
    "                f = open(file, 'r')\n",
    "                datos = procesar_csv_pctVar(file, var)\n",
    "                pctVar.append(datos[0])\n",
    "                proms.append(datos[1])\n",
    "                f.close()\n",
    "    \n",
    "    dict = {var: pctVar, \"Proms\": proms}\n",
    "    df = pd.DataFrame(data = dict)\n",
    "    df.sort_values(var, inplace = True)\n",
    "    return df      \n",
    "\n",
    "#Exp 1.1\n",
    "def procesar_archivo_ej1_exp1(data_path):\n",
    "    df = pd.read_csv(data_path, sep = \";\")\n",
    "    cant_exp = df.shape[0] #Shape = (filas, columnas)\n",
    "    proms = []\n",
    "    #Ordeno las instancias por tiempo\n",
    "    df.sort_values(\"Tiempo\", inplace = \"True\")\n",
    "    #Descarto los valores en los extremos\n",
    "    df = df.iloc[poda : cant_exp - poda, :]\n",
    "\n",
    "    promedio = df[\"Tiempo\"].mean() #Promedio podado de las instancias\n",
    "    \n",
    "    return promedio\n",
    "\n",
    "def procesar_carpeta_ej1_exp1(folder_path):\n",
    "    #Settings\n",
    "    cant_caminos = [5, 10, 15, 20, 25, 30, 35, 40, 50, 75, 80, 95, 100]\n",
    "    buenosCasos = []\n",
    "    malosCasos = []\n",
    "    largo_camino = 20\n",
    "    for root, dirs, files in os.walk(folder_path):\n",
    "        for file in files:\n",
    "            if file.endswith(\".csv\"):\n",
    "                file = folder_path + \"/\" + file\n",
    "                f = open(file, 'r')\n",
    "                prom = procesar_archivo_ej1_exp1(file)\n",
    "                caminos_exp = [int(s) for s in re.split('[_ .]', file)  if s.isdigit()]\n",
    "                if \"buenCaso\" in file:\n",
    "                    buenosCasos.append((prom, caminos_exp))\n",
    "                else:\n",
    "                    malosCasos.append((prom, caminos_exp))\n",
    "                f.close()\n",
    "    \n",
    "    buenosCasos = sorted(buenosCasos, key = itemgetter(1))\n",
    "    malosCasos = sorted(malosCasos, key = itemgetter(1))\n",
    "    \n",
    "    return cant_caminos, largo_camino, buenosCasos, malosCasos\n",
    "\n",
    "#Exp 1.2\n",
    "def procesar_archivo_ej1_exp2(data_path): # NO SE USA\n",
    "    df = pd.read_csv(data_path, sep = \";\")\n",
    "    cant_instancias = df.shape[0] #Shape = (filas, columnas)\n",
    "    #Cuanto cantidad de veces que no encontro solucion\n",
    "    sin_solucion = df[\"Sol\"].tolist().count(-1)\n",
    "    print sin_solucion\n",
    "    con_solucion = cant_instancias - sin_solucion\n",
    "    \n",
    "    return sin_solucion, con_solucion\n",
    "\n",
    "def procesar_carpeta_ej1_exp2(folder_path):\n",
    "    #Settings\n",
    "    casos = []\n",
    "    promedios = []\n",
    "    for root, dirs, files in os.walk(folder_path):\n",
    "        for file in files:\n",
    "            if file.endswith(\".csv\"):\n",
    "                file = folder_path + \"/\" + file\n",
    "                f = open(file, 'r')\n",
    "                prom = procesar_archivo_ej1_exp1(file)\n",
    "                datos_exp = tuple([int(s) for s in re.split('[_ .]', file)  if s.isdigit()])\n",
    "                casos.append(datos_exp)\n",
    "                promedios.append(prom)\n",
    "                f.close()\n",
    "    \n",
    "    ordenados = zip(casos, promedios)\n",
    "    ordenados.sort()\n",
    "    c, p = zip(*ordenados)\n",
    "    return c, p\n",
    "\n",
    "def crearFig_ej1_exp2(ej1_exp2_casos, ej1_exp2_proms, fig_title):\n",
    "    traces = []\n",
    "    for tup, prom in zip(ej1_exp2_casos, ej1_exp2_proms):\n",
    "        grupo = str(tup[0])\n",
    "        k = str(tup[1])\n",
    "        trace = go.Bar(\n",
    "            x = [grupo],\n",
    "            y = [prom],\n",
    "            name = grupo + \"_\" + k,\n",
    "            legendgroup = grupo\n",
    "        )\n",
    "        traces.append(trace)\n",
    "    \n",
    "    layout = go.Layout(\n",
    "        title = fig_title,\n",
    "        barmode = 'group',\n",
    "        xaxis = dict(\n",
    "            title = \"Cantidad de caminos\"\n",
    "        ),\n",
    "        yaxis = dict(\n",
    "            title = \"Tiempo (ns)\"\n",
    "        )\n",
    "    )\n",
    "    return go.Figure(data = traces, layout = layout)\n",
    "\n",
    "\n",
    "#Toma un vector de tuplas (x, y, nombre) y devuelve una figura con cada tupla de datos\n",
    "def crear_fig(traces, xtitle, ytitle, fig_title):\n",
    "    data = []\n",
    "    for trace in traces:\n",
    "        #Para que todas las traces sean distintas ademas del color\n",
    "        i = 0\n",
    "        modo = str(i)\n",
    "        i += 1\n",
    "\n",
    "        new_trace = go.Scatter(\n",
    "            x = trace[0],\n",
    "            y = trace[1],\n",
    "            name = trace[2],\n",
    "            mode = modo\n",
    "                \n",
    "        )\n",
    "        data.append(new_trace)\n",
    "    \n",
    "    layout = go.Layout(\n",
    "        xaxis=dict(\n",
    "            tickmode = \"auto\",\n",
    "            #nticks = cant_exp,\n",
    "            ticks = \"inside\",\n",
    "            #tick0 = 0,\n",
    "            #ticklen = 8,\n",
    "            #dtick = 3,\n",
    "            title = xtitle,\n",
    "            tickangle = 0\n",
    "        ),\n",
    "        yaxis=dict(\n",
    "            tick0 = 0,\n",
    "            zeroline = \"False\",\n",
    "            ticks='inside',\n",
    "            ticklen=8,\n",
    "            tickwidth=3,\n",
    "            tickcolor='#000',\n",
    "            title = ytitle\n",
    "        ),\n",
    "        legend=dict(\n",
    "            x=10,\n",
    "            y=1,\n",
    "            traceorder='normal',\n",
    "            font=dict(\n",
    "                family='sans-serif',\n",
    "                size=12,\n",
    "                color='#000'\n",
    "            ),\n",
    "            bgcolor='#E2E2E2',\n",
    "            bordercolor='#FFFFFF',\n",
    "            borderwidth=2\n",
    "        ),\n",
    "        title = fig_title\n",
    "    )\n",
    "    \n",
    "    return go.Figure(data=data, layout=layout)\n",
    "\n",
    "#---------------- Script ----------------\n",
    "\n",
    "#Procesamiento de datos\n",
    "\n",
    "data_ej1_exp1 = procesar_carpeta_ej1_exp1(\"Outputs/Ej1/outsTiempo/exp1\")\n",
    "ej1_exp1_cantCaminos =  data_ej1_exp1[0]\n",
    "ej1_exp1_largoCaminos = data_ej1_exp1[1]\n",
    "ej1_exp1_buenosCasos =  [tiempo[0] for tiempo in data_ej1_exp1[2]]\n",
    "ej1_exp1_malosCasos =  [tiempo[0] for tiempo in data_ej1_exp1[3]]\n",
    "\n",
    "\n",
    "data_ej1_exp2 = procesar_carpeta_ej1_exp2(\"Outputs/Ej1/outsTiempo/exp2\")\n",
    "ej1_exp2_casos = data_ej1_exp2[0] # Vector de  tuplas (cant_caminos, k)\n",
    "ej1_exp2_proms = data_ej1_exp2[1]\n",
    "\n",
    "traces = []\n",
    "for tup, prom in zip(ej1_exp2_casos, ej1_exp2_proms):\n",
    "    grupo = str(tup[0])\n",
    "    k = str(tup[1])\n",
    "    trace = go.Bar(\n",
    "        x = grupo,\n",
    "        y = prom,\n",
    "        name = grupo + \"_\" + k\n",
    "    )\n",
    "    traces.append(trace)\n",
    "traces\n",
    "\n",
    "data_ejer2_exp1 = procesar_carpeta_nVar(\"Outputs/Ej2/outsTiempo/exp1\")\n",
    "ejer2_exp1_tams =  data_ejer2_exp1[\"Tam\"]\n",
    "ejer2_exp1_proms =  data_ejer2_exp1[\"Proms\"]\n",
    "\n",
    "data_ejer3_exp1 = procesar_carpeta_nVar(\"Outputs/Ej3/outsTiempo/exp1\")\n",
    "ejer3_exp1_tams =  data_ejer3_exp1[\"Tam\"]\n",
    "ejer3_exp1_proms =  data_ejer3_exp1[\"Proms\"]\n",
    "\n",
    "data_ejer3_exp2 = procesar_carpeta_pctVar(\"Outputs/Ej3/outsTiempo/exp2\", \"pctConst\")\n",
    "ejer3_exp2_pctConst =  data_ejer3_exp2[\"pctConst\"]\n",
    "ejer3_exp2_proms =  data_ejer3_exp2[\"Proms\"]\n",
    "\n",
    "# #Traces\n",
    "ejer1_exp1_buenosCasos_trace = (ej1_exp1_cantCaminos, ej1_exp1_buenosCasos, \"ejer1_exp1_buenosCasos\")\n",
    "ejer1_exp1_malosCasos_trace = (ej1_exp1_cantCaminos, ej1_exp1_malosCasos, \"ejer1_exp1_malosCasos\")\n",
    "\n",
    "ejer2_exp1_trace = (ejer2_exp1_tams, ejer2_exp1_proms, \"ejer2_exp1\")\n",
    "\n",
    "ejer3_exp1_trace = (ejer3_exp1_tams, ejer3_exp1_proms, \"ejer3_exp1\")\n",
    "ejer3_exp2_trace = (ejer3_exp2_pctConst, ejer3_exp2_proms, \"ejer3_exp2\")\n",
    "\n",
    "\n",
    "#Graficos\n",
    "\n",
    "#Exp 1.1\n",
    "nombre = \"ejer1_exp1 <br> Largo de los caminos = %d\" %ej1_exp1_largoCaminos\n",
    "\n",
    "traces = [ejer1_exp1_buenosCasos_trace, ejer1_exp1_malosCasos_trace]\n",
    "\n",
    "fig = crear_fig(traces, \"Cantidad de caminos\", \"Tiempo promedio (ns)\", nombre)\n",
    "\n",
    "plotly.offline.iplot(fig)\n",
    "\n",
    "#Exp 1.2\n",
    "nombre = \"ejer1_exp2\"\n",
    "\n",
    "fig = crearFig_ej1_exp2(ej1_exp2_casos, ej1_exp2_proms, nombre)\n",
    "\n",
    "plotly.offline.iplot(fig)\n",
    "\n",
    "#Exp 2.1\n",
    "nombre = \"ejer2_exp1\"\n",
    "\n",
    "traces = [ejer2_exp1_trace]\n",
    "\n",
    "fig = crear_fig(traces, \"Cantidad de vertices\", \"Tiempo promedio (ns)\", nombre)\n",
    "\n",
    "plotly.offline.iplot(fig)\n",
    "\n",
    "#Exp 3.1\n",
    "nombre = \"ejer3_exp1\"\n",
    "\n",
    "traces = [ejer3_exp1_trace]\n",
    "\n",
    "fig = crear_fig(traces, \"Cantidad de vertices\", \"Tiempo promedio (ns)\", nombre)\n",
    "\n",
    "plotly.offline.iplot(fig)\n",
    "\n",
    "#Exp 3.2\n",
    "nombre = \"ejer3_exp2 <br> n = 100\"\n",
    "\n",
    "traces = [ejer3_exp2_trace]\n",
    "\n",
    "fig = crear_fig(traces, \"Procentaje de rutas construidas\", \"Tiempo promedio (ns)\", nombre)\n",
    "\n",
    "plotly.offline.iplot(fig)\n",
    "\n"
   ]
  },
  {
   "cell_type": "code",
   "execution_count": 41,
   "metadata": {
    "collapsed": false,
    "deletable": true,
    "editable": true
   },
   "outputs": [
    {
     "data": {
      "text/html": [
       "<script>requirejs.config({paths: { 'plotly': ['https://cdn.plot.ly/plotly-latest.min']},});if(!window.Plotly) {{require(['plotly'],function(plotly) {window.Plotly=plotly;});}}</script>"
      ],
      "text/vnd.plotly.v1+html": [
       "<script>requirejs.config({paths: { 'plotly': ['https://cdn.plot.ly/plotly-latest.min']},});if(!window.Plotly) {{require(['plotly'],function(plotly) {window.Plotly=plotly;});}}</script>"
      ]
     },
     "metadata": {},
     "output_type": "display_data"
    },
    {
     "data": {
      "text/plain": [
       "((1, 2), (2, 1), (3, 1), (3, 3))"
      ]
     },
     "execution_count": 41,
     "metadata": {},
     "output_type": "execute_result"
    },
    {
     "data": {
      "text/plain": [
       "(2.4, 1, 4, 5)"
      ]
     },
     "execution_count": 41,
     "metadata": {},
     "output_type": "execute_result"
    }
   ],
   "source": [
    "#PRUEBAS\n",
    "\n",
    "import os\n",
    "import plotly\n",
    "import pandas as pd\n",
    "import numpy as np\n",
    "import plotly.plotly as py\n",
    "import plotly.figure_factory as ff\n",
    "import plotly.graph_objs as go\n",
    "import collections\n",
    "import re\n",
    "from operator import itemgetter\n",
    "\n",
    "from IPython.core.interactiveshell import InteractiveShell\n",
    "InteractiveShell.ast_node_interactivity = \"all\"\n",
    "\n",
    "plotly.tools.set_credentials_file(username='Fernet', api_key='zC7ogVfVT5UPcpu2VKse')\n",
    "plotly.offline.init_notebook_mode(connected=True)\n",
    "\n",
    "# x1 = ['grupo1']\n",
    "# y1 = [5]\n",
    "# trace1 = go.Bar(\n",
    "#     x=x1,\n",
    "#     y=y1,\n",
    "#     name=\"wtf1\"\n",
    "# )\n",
    "# x2 = ['grupo1']\n",
    "# y2 = [5]\n",
    "# trace2 = go.Bar(\n",
    "#     x=x2,\n",
    "#     y=y2,\n",
    "#     name=\"wtf2\"\n",
    "# )\n",
    "# x3 = ['grupo3']\n",
    "# y3 = [5]\n",
    "# trace3 = go.Bar(\n",
    "#     x=x3,\n",
    "#     y=y3,\n",
    "#     name=\"wtf3\"\n",
    "# )\n",
    "# x4 = ['grupo3']\n",
    "# y4 = [5]\n",
    "# trace4 = go.Bar(\n",
    "#     x=x4,\n",
    "#     y=y4,\n",
    "#     name=\"wtf4\"\n",
    "# )\n",
    "\n",
    "# layout = go.Layout(\n",
    "#     barmode='group',\n",
    "#     bargroupgap=0.1,\n",
    "#     bargap=0.010,\n",
    "# )\n",
    "\n",
    "# data=[trace1, trace2, trace3, trace4]\n",
    "# fig = go.Figure(data = data, layout = layout)\n",
    "# plotly.offline.iplot(fig)\n",
    "\n",
    "casos = [(2, 1), (3, 1), (1, 2), (3, 3)]\n",
    "proms = [1, 4, 2.4, 5]\n",
    "\n",
    "ordenados = zip(casos, proms)\n",
    "ordenados.sort()\n",
    "c, p = zip(*ordenados)\n",
    "c\n",
    "p"
   ]
  },
  {
   "cell_type": "code",
   "execution_count": null,
   "metadata": {
    "collapsed": true,
    "deletable": true,
    "editable": true
   },
   "outputs": [],
   "source": []
  }
 ],
 "metadata": {
  "kernelspec": {
   "display_name": "Python 2",
   "language": "python",
   "name": "python2"
  },
  "language_info": {
   "codemirror_mode": {
    "name": "ipython",
    "version": 2
   },
   "file_extension": ".py",
   "mimetype": "text/x-python",
   "name": "python",
   "nbconvert_exporter": "python",
   "pygments_lexer": "ipython2",
   "version": "2.7.12"
  }
 },
 "nbformat": 4,
 "nbformat_minor": 1
}
