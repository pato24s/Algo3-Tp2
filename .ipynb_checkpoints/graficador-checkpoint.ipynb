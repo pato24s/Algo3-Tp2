{
 "cells": [
  {
   "cell_type": "code",
   "execution_count": 1,
   "metadata": {
    "collapsed": false,
    "deletable": true,
    "editable": true,
    "scrolled": false
   },
   "outputs": [
    {
     "data": {
      "text/html": [
       "<script>requirejs.config({paths: { 'plotly': ['https://cdn.plot.ly/plotly-latest.min']},});if(!window.Plotly) {{require(['plotly'],function(plotly) {window.Plotly=plotly;});}}</script>"
      ],
      "text/vnd.plotly.v1+html": [
       "<script>requirejs.config({paths: { 'plotly': ['https://cdn.plot.ly/plotly-latest.min']},});if(!window.Plotly) {{require(['plotly'],function(plotly) {window.Plotly=plotly;});}}</script>"
      ]
     },
     "metadata": {},
     "output_type": "display_data"
    },
    {
     "data": {
      "application/vnd.plotly.v1+json": {
       "data": [
        {
         "mode": "0",
         "name": "ejer1_exp1",
         "type": "scatter",
         "x": [
          5,
          10,
          20,
          50,
          75,
          100,
          200,
          300,
          400,
          500,
          600,
          800
         ],
         "y": [
          3411.225,
          12208.35,
          57455.825,
          900818,
          1525708.9,
          4876937.975,
          25246291.075,
          109801523.725,
          260512113.575,
          436744724.1,
          707910230.725,
          1695216448.95
         ]
        }
       ],
       "layout": {
        "legend": {
         "bgcolor": "#E2E2E2",
         "bordercolor": "#FFFFFF",
         "borderwidth": 2,
         "font": {
          "color": "#000",
          "family": "sans-serif",
          "size": 12
         },
         "traceorder": "normal",
         "x": 10,
         "y": 1
        },
        "title": "ejer1_exp1",
        "xaxis": {
         "tickangle": 0,
         "tickmode": "auto",
         "ticks": "inside",
         "title": "Cantidad de vertices"
        },
        "yaxis": {
         "tick0": 0,
         "tickcolor": "#000",
         "ticklen": 8,
         "ticks": "inside",
         "tickwidth": 3,
         "title": "Tiempo promedio (ms)",
         "zeroline": "False"
        }
       }
      },
      "text/html": [
       "<div id=\"e9b36226-49ab-4cbc-b86e-9f4109a3143f\" style=\"height: 525px; width: 100%;\" class=\"plotly-graph-div\"></div><script type=\"text/javascript\">require([\"plotly\"], function(Plotly) { window.PLOTLYENV=window.PLOTLYENV || {};window.PLOTLYENV.BASE_URL=\"https://plot.ly\";Plotly.newPlot(\"e9b36226-49ab-4cbc-b86e-9f4109a3143f\", [{\"y\": [3411.225, 12208.35, 57455.825, 900818.0, 1525708.9, 4876937.975, 25246291.075, 109801523.725, 260512113.575, 436744724.1, 707910230.725, 1695216448.95], \"x\": [5, 10, 20, 50, 75, 100, 200, 300, 400, 500, 600, 800], \"type\": \"scatter\", \"name\": \"ejer1_exp1\", \"mode\": \"0\"}], {\"yaxis\": {\"ticks\": \"inside\", \"tickwidth\": 3, \"title\": \"Tiempo promedio (ms)\", \"tick0\": 0, \"ticklen\": 8, \"zeroline\": \"False\", \"tickcolor\": \"#000\"}, \"legend\": {\"bordercolor\": \"#FFFFFF\", \"traceorder\": \"normal\", \"bgcolor\": \"#E2E2E2\", \"borderwidth\": 2, \"y\": 1, \"x\": 10, \"font\": {\"color\": \"#000\", \"family\": \"sans-serif\", \"size\": 12}}, \"xaxis\": {\"tickangle\": 0, \"ticks\": \"inside\", \"tickmode\": \"auto\", \"title\": \"Cantidad de vertices\"}, \"title\": \"ejer1_exp1\"}, {\"linkText\": \"Export to plot.ly\", \"showLink\": true})});</script>"
      ],
      "text/vnd.plotly.v1+html": [
       "<div id=\"e9b36226-49ab-4cbc-b86e-9f4109a3143f\" style=\"height: 525px; width: 100%;\" class=\"plotly-graph-div\"></div><script type=\"text/javascript\">require([\"plotly\"], function(Plotly) { window.PLOTLYENV=window.PLOTLYENV || {};window.PLOTLYENV.BASE_URL=\"https://plot.ly\";Plotly.newPlot(\"e9b36226-49ab-4cbc-b86e-9f4109a3143f\", [{\"y\": [3411.225, 12208.35, 57455.825, 900818.0, 1525708.9, 4876937.975, 25246291.075, 109801523.725, 260512113.575, 436744724.1, 707910230.725, 1695216448.95], \"x\": [5, 10, 20, 50, 75, 100, 200, 300, 400, 500, 600, 800], \"type\": \"scatter\", \"name\": \"ejer1_exp1\", \"mode\": \"0\"}], {\"yaxis\": {\"ticks\": \"inside\", \"tickwidth\": 3, \"title\": \"Tiempo promedio (ms)\", \"tick0\": 0, \"ticklen\": 8, \"zeroline\": \"False\", \"tickcolor\": \"#000\"}, \"legend\": {\"bordercolor\": \"#FFFFFF\", \"traceorder\": \"normal\", \"bgcolor\": \"#E2E2E2\", \"borderwidth\": 2, \"y\": 1, \"x\": 10, \"font\": {\"color\": \"#000\", \"family\": \"sans-serif\", \"size\": 12}}, \"xaxis\": {\"tickangle\": 0, \"ticks\": \"inside\", \"tickmode\": \"auto\", \"title\": \"Cantidad de vertices\"}, \"title\": \"ejer1_exp1\"}, {\"linkText\": \"Export to plot.ly\", \"showLink\": true})});</script>"
      ]
     },
     "metadata": {},
     "output_type": "display_data"
    },
    {
     "data": {
      "application/vnd.plotly.v1+json": {
       "data": [
        {
         "mode": "0",
         "name": "ejer2_exp1",
         "type": "scatter",
         "x": [
          5,
          10,
          20,
          50,
          75,
          100,
          200,
          300,
          400,
          500,
          600,
          800
         ],
         "y": [
          7047.475,
          62087,
          430775.125,
          6722614.775,
          28166579.275,
          63064975.4,
          575596984.4,
          1881697000.8,
          4393370377.25,
          9552647707.775,
          27507963870.95,
          62917508099.325
         ]
        }
       ],
       "layout": {
        "legend": {
         "bgcolor": "#E2E2E2",
         "bordercolor": "#FFFFFF",
         "borderwidth": 2,
         "font": {
          "color": "#000",
          "family": "sans-serif",
          "size": 12
         },
         "traceorder": "normal",
         "x": 10,
         "y": 1
        },
        "title": "ejer2_exp1",
        "xaxis": {
         "tickangle": 0,
         "tickmode": "auto",
         "ticks": "inside",
         "title": "Cantidad de vertices"
        },
        "yaxis": {
         "tick0": 0,
         "tickcolor": "#000",
         "ticklen": 8,
         "ticks": "inside",
         "tickwidth": 3,
         "title": "Tiempo promedio (ms)",
         "zeroline": "False"
        }
       }
      },
      "text/html": [
       "<div id=\"94c027e2-0ceb-42d7-815d-3f8dbc94ad96\" style=\"height: 525px; width: 100%;\" class=\"plotly-graph-div\"></div><script type=\"text/javascript\">require([\"plotly\"], function(Plotly) { window.PLOTLYENV=window.PLOTLYENV || {};window.PLOTLYENV.BASE_URL=\"https://plot.ly\";Plotly.newPlot(\"94c027e2-0ceb-42d7-815d-3f8dbc94ad96\", [{\"y\": [7047.475, 62087.0, 430775.125, 6722614.775, 28166579.275, 63064975.4, 575596984.4, 1881697000.8, 4393370377.25, 9552647707.775, 27507963870.95, 62917508099.325], \"x\": [5, 10, 20, 50, 75, 100, 200, 300, 400, 500, 600, 800], \"type\": \"scatter\", \"name\": \"ejer2_exp1\", \"mode\": \"0\"}], {\"yaxis\": {\"ticks\": \"inside\", \"tickwidth\": 3, \"title\": \"Tiempo promedio (ms)\", \"tick0\": 0, \"ticklen\": 8, \"zeroline\": \"False\", \"tickcolor\": \"#000\"}, \"legend\": {\"bordercolor\": \"#FFFFFF\", \"traceorder\": \"normal\", \"bgcolor\": \"#E2E2E2\", \"borderwidth\": 2, \"y\": 1, \"x\": 10, \"font\": {\"color\": \"#000\", \"family\": \"sans-serif\", \"size\": 12}}, \"xaxis\": {\"tickangle\": 0, \"ticks\": \"inside\", \"tickmode\": \"auto\", \"title\": \"Cantidad de vertices\"}, \"title\": \"ejer2_exp1\"}, {\"linkText\": \"Export to plot.ly\", \"showLink\": true})});</script>"
      ],
      "text/vnd.plotly.v1+html": [
       "<div id=\"94c027e2-0ceb-42d7-815d-3f8dbc94ad96\" style=\"height: 525px; width: 100%;\" class=\"plotly-graph-div\"></div><script type=\"text/javascript\">require([\"plotly\"], function(Plotly) { window.PLOTLYENV=window.PLOTLYENV || {};window.PLOTLYENV.BASE_URL=\"https://plot.ly\";Plotly.newPlot(\"94c027e2-0ceb-42d7-815d-3f8dbc94ad96\", [{\"y\": [7047.475, 62087.0, 430775.125, 6722614.775, 28166579.275, 63064975.4, 575596984.4, 1881697000.8, 4393370377.25, 9552647707.775, 27507963870.95, 62917508099.325], \"x\": [5, 10, 20, 50, 75, 100, 200, 300, 400, 500, 600, 800], \"type\": \"scatter\", \"name\": \"ejer2_exp1\", \"mode\": \"0\"}], {\"yaxis\": {\"ticks\": \"inside\", \"tickwidth\": 3, \"title\": \"Tiempo promedio (ms)\", \"tick0\": 0, \"ticklen\": 8, \"zeroline\": \"False\", \"tickcolor\": \"#000\"}, \"legend\": {\"bordercolor\": \"#FFFFFF\", \"traceorder\": \"normal\", \"bgcolor\": \"#E2E2E2\", \"borderwidth\": 2, \"y\": 1, \"x\": 10, \"font\": {\"color\": \"#000\", \"family\": \"sans-serif\", \"size\": 12}}, \"xaxis\": {\"tickangle\": 0, \"ticks\": \"inside\", \"tickmode\": \"auto\", \"title\": \"Cantidad de vertices\"}, \"title\": \"ejer2_exp1\"}, {\"linkText\": \"Export to plot.ly\", \"showLink\": true})});</script>"
      ]
     },
     "metadata": {},
     "output_type": "display_data"
    },
    {
     "data": {
      "application/vnd.plotly.v1+json": {
       "data": [
        {
         "mode": "0",
         "name": "ejer3_exp1",
         "type": "scatter",
         "x": [
          5,
          10,
          20,
          50,
          75,
          100,
          200
         ],
         "y": [
          1184.625,
          17235.1,
          11184.15,
          53898.525,
          116667.15,
          205610.925,
          858532.575
         ]
        }
       ],
       "layout": {
        "legend": {
         "bgcolor": "#E2E2E2",
         "bordercolor": "#FFFFFF",
         "borderwidth": 2,
         "font": {
          "color": "#000",
          "family": "sans-serif",
          "size": 12
         },
         "traceorder": "normal",
         "x": 10,
         "y": 1
        },
        "title": "ejer3_exp1",
        "xaxis": {
         "tickangle": 0,
         "tickmode": "auto",
         "ticks": "inside",
         "title": "Cantidad de vertices"
        },
        "yaxis": {
         "tick0": 0,
         "tickcolor": "#000",
         "ticklen": 8,
         "ticks": "inside",
         "tickwidth": 3,
         "title": "Tiempo promedio (ms)",
         "zeroline": "False"
        }
       }
      },
      "text/html": [
       "<div id=\"9ed558a0-c20b-4c94-a3d2-cabec1a42406\" style=\"height: 525px; width: 100%;\" class=\"plotly-graph-div\"></div><script type=\"text/javascript\">require([\"plotly\"], function(Plotly) { window.PLOTLYENV=window.PLOTLYENV || {};window.PLOTLYENV.BASE_URL=\"https://plot.ly\";Plotly.newPlot(\"9ed558a0-c20b-4c94-a3d2-cabec1a42406\", [{\"y\": [1184.625, 17235.1, 11184.15, 53898.525, 116667.15, 205610.925, 858532.575], \"x\": [5, 10, 20, 50, 75, 100, 200], \"type\": \"scatter\", \"name\": \"ejer3_exp1\", \"mode\": \"0\"}], {\"yaxis\": {\"ticks\": \"inside\", \"tickwidth\": 3, \"title\": \"Tiempo promedio (ms)\", \"tick0\": 0, \"ticklen\": 8, \"zeroline\": \"False\", \"tickcolor\": \"#000\"}, \"legend\": {\"bordercolor\": \"#FFFFFF\", \"traceorder\": \"normal\", \"bgcolor\": \"#E2E2E2\", \"borderwidth\": 2, \"y\": 1, \"x\": 10, \"font\": {\"color\": \"#000\", \"family\": \"sans-serif\", \"size\": 12}}, \"xaxis\": {\"tickangle\": 0, \"ticks\": \"inside\", \"tickmode\": \"auto\", \"title\": \"Cantidad de vertices\"}, \"title\": \"ejer3_exp1\"}, {\"linkText\": \"Export to plot.ly\", \"showLink\": true})});</script>"
      ],
      "text/vnd.plotly.v1+html": [
       "<div id=\"9ed558a0-c20b-4c94-a3d2-cabec1a42406\" style=\"height: 525px; width: 100%;\" class=\"plotly-graph-div\"></div><script type=\"text/javascript\">require([\"plotly\"], function(Plotly) { window.PLOTLYENV=window.PLOTLYENV || {};window.PLOTLYENV.BASE_URL=\"https://plot.ly\";Plotly.newPlot(\"9ed558a0-c20b-4c94-a3d2-cabec1a42406\", [{\"y\": [1184.625, 17235.1, 11184.15, 53898.525, 116667.15, 205610.925, 858532.575], \"x\": [5, 10, 20, 50, 75, 100, 200], \"type\": \"scatter\", \"name\": \"ejer3_exp1\", \"mode\": \"0\"}], {\"yaxis\": {\"ticks\": \"inside\", \"tickwidth\": 3, \"title\": \"Tiempo promedio (ms)\", \"tick0\": 0, \"ticklen\": 8, \"zeroline\": \"False\", \"tickcolor\": \"#000\"}, \"legend\": {\"bordercolor\": \"#FFFFFF\", \"traceorder\": \"normal\", \"bgcolor\": \"#E2E2E2\", \"borderwidth\": 2, \"y\": 1, \"x\": 10, \"font\": {\"color\": \"#000\", \"family\": \"sans-serif\", \"size\": 12}}, \"xaxis\": {\"tickangle\": 0, \"ticks\": \"inside\", \"tickmode\": \"auto\", \"title\": \"Cantidad de vertices\"}, \"title\": \"ejer3_exp1\"}, {\"linkText\": \"Export to plot.ly\", \"showLink\": true})});</script>"
      ]
     },
     "metadata": {},
     "output_type": "display_data"
    },
    {
     "data": {
      "application/vnd.plotly.v1+json": {
       "data": [
        {
         "mode": "0",
         "name": "ejer3_exp2",
         "type": "scatter",
         "x": [
          0,
          5,
          10,
          25,
          50,
          75,
          100
         ],
         "y": [
          199588.525,
          201478.85,
          200911.2,
          202567.2,
          206456.75,
          204788.825,
          200832.825
         ]
        }
       ],
       "layout": {
        "legend": {
         "bgcolor": "#E2E2E2",
         "bordercolor": "#FFFFFF",
         "borderwidth": 2,
         "font": {
          "color": "#000",
          "family": "sans-serif",
          "size": 12
         },
         "traceorder": "normal",
         "x": 10,
         "y": 1
        },
        "title": "ejer3_exp2 <br> n = 100",
        "xaxis": {
         "tickangle": 0,
         "tickmode": "auto",
         "ticks": "inside",
         "title": "Procentaje de rutas construidas"
        },
        "yaxis": {
         "tick0": 0,
         "tickcolor": "#000",
         "ticklen": 8,
         "ticks": "inside",
         "tickwidth": 3,
         "title": "Tiempo promedio (ms)",
         "zeroline": "False"
        }
       }
      },
      "text/html": [
       "<div id=\"9a0f8cc1-c5ab-4d2b-84eb-7111b2ba06b7\" style=\"height: 525px; width: 100%;\" class=\"plotly-graph-div\"></div><script type=\"text/javascript\">require([\"plotly\"], function(Plotly) { window.PLOTLYENV=window.PLOTLYENV || {};window.PLOTLYENV.BASE_URL=\"https://plot.ly\";Plotly.newPlot(\"9a0f8cc1-c5ab-4d2b-84eb-7111b2ba06b7\", [{\"y\": [199588.525, 201478.85, 200911.2, 202567.2, 206456.75, 204788.825, 200832.825], \"x\": [0.0, 5.0, 10.0, 25.0, 50.0, 75.0, 100.0], \"type\": \"scatter\", \"name\": \"ejer3_exp2\", \"mode\": \"0\"}], {\"yaxis\": {\"ticks\": \"inside\", \"tickwidth\": 3, \"title\": \"Tiempo promedio (ms)\", \"tick0\": 0, \"ticklen\": 8, \"zeroline\": \"False\", \"tickcolor\": \"#000\"}, \"legend\": {\"bordercolor\": \"#FFFFFF\", \"traceorder\": \"normal\", \"bgcolor\": \"#E2E2E2\", \"borderwidth\": 2, \"y\": 1, \"x\": 10, \"font\": {\"color\": \"#000\", \"family\": \"sans-serif\", \"size\": 12}}, \"xaxis\": {\"tickangle\": 0, \"ticks\": \"inside\", \"tickmode\": \"auto\", \"title\": \"Procentaje de rutas construidas\"}, \"title\": \"ejer3_exp2 <br> n = 100\"}, {\"linkText\": \"Export to plot.ly\", \"showLink\": true})});</script>"
      ],
      "text/vnd.plotly.v1+html": [
       "<div id=\"9a0f8cc1-c5ab-4d2b-84eb-7111b2ba06b7\" style=\"height: 525px; width: 100%;\" class=\"plotly-graph-div\"></div><script type=\"text/javascript\">require([\"plotly\"], function(Plotly) { window.PLOTLYENV=window.PLOTLYENV || {};window.PLOTLYENV.BASE_URL=\"https://plot.ly\";Plotly.newPlot(\"9a0f8cc1-c5ab-4d2b-84eb-7111b2ba06b7\", [{\"y\": [199588.525, 201478.85, 200911.2, 202567.2, 206456.75, 204788.825, 200832.825], \"x\": [0.0, 5.0, 10.0, 25.0, 50.0, 75.0, 100.0], \"type\": \"scatter\", \"name\": \"ejer3_exp2\", \"mode\": \"0\"}], {\"yaxis\": {\"ticks\": \"inside\", \"tickwidth\": 3, \"title\": \"Tiempo promedio (ms)\", \"tick0\": 0, \"ticklen\": 8, \"zeroline\": \"False\", \"tickcolor\": \"#000\"}, \"legend\": {\"bordercolor\": \"#FFFFFF\", \"traceorder\": \"normal\", \"bgcolor\": \"#E2E2E2\", \"borderwidth\": 2, \"y\": 1, \"x\": 10, \"font\": {\"color\": \"#000\", \"family\": \"sans-serif\", \"size\": 12}}, \"xaxis\": {\"tickangle\": 0, \"ticks\": \"inside\", \"tickmode\": \"auto\", \"title\": \"Procentaje de rutas construidas\"}, \"title\": \"ejer3_exp2 <br> n = 100\"}, {\"linkText\": \"Export to plot.ly\", \"showLink\": true})});</script>"
      ]
     },
     "metadata": {},
     "output_type": "display_data"
    }
   ],
   "source": [
    "import os\n",
    "import plotly\n",
    "import pandas as pd\n",
    "import numpy as np\n",
    "import plotly.plotly as py\n",
    "import plotly.figure_factory as ff\n",
    "import plotly.graph_objs as go\n",
    "import collections\n",
    "\n",
    "plotly.tools.set_credentials_file(username='Fernet', api_key='zC7ogVfVT5UPcpu2VKse')\n",
    "plotly.offline.init_notebook_mode(connected=True)\n",
    "\n",
    "#---------------- Settings ----------------\n",
    "\n",
    "image_ext = \"svg\" #Extension para bajar los graficos\n",
    "poda = 5 #Cuantos datos se dejan a cada lado al podar\n",
    "image_h = 1000\n",
    "image_w = 1400\n",
    "\n",
    "#---------------- Funciones ----------------\n",
    "\n",
    "\n",
    "#Toma el archivo a leer y si se quiere ordenar por tam o por tiempo promedio. Por default, se ordenan por num_tira\n",
    "\n",
    "#Experimentos 1.1, 2.1 y 3.1, n variable\n",
    "def procesar_csv_nVar(data_path):\n",
    "    df = pd.read_csv(data_path, sep = \";\")\n",
    "    cant_exp = df.shape[0] #Shape = (filas, columnas)\n",
    "    proms = []\n",
    "    #Ordeno las instancias por tiempo\n",
    "    df.sort_values(\"Tiempo\", inplace = \"True\")\n",
    "    #Descarto los valores en los extremos\n",
    "    df = df.iloc[poda : cant_exp - poda, :]\n",
    "\n",
    "    promedio = df[\"Tiempo\"].mean() #Promedio podado de las instancias\n",
    "    v = df[\"V\"].iloc[0]    \n",
    "    \n",
    "    \n",
    "    ret_data = v, promedio\n",
    "    \n",
    "    return ret_data\n",
    "\n",
    "def procesar_carpeta_nVar(folder_path):\n",
    "    tam = []\n",
    "    proms = []\n",
    "    for root, dirs, files in os.walk(folder_path):\n",
    "        for file in files:\n",
    "            if file.endswith(\".csv\"):\n",
    "                file = folder_path + \"/\" + file\n",
    "                f = open(file, 'r')\n",
    "                datos = procesar_csv_nVar(file)\n",
    "                tam.append(datos[0])\n",
    "                proms.append(datos[1])\n",
    "                f.close()\n",
    "    \n",
    "    dict = {\"Tam\": tam, \"Proms\": proms}\n",
    "    df = pd.DataFrame(data = dict)\n",
    "    df.sort_values(\"Tam\", inplace = True)\n",
    "    return df\n",
    "\n",
    "#Experimentos 1.2, 3.2, %k utilizables o %const variable\n",
    "def procesar_csv_pctVar(data_path, var):  #var es string. Ejs: pctConst, pctK\n",
    "    df = pd.read_csv(data_path, sep = \";\")\n",
    "    cant_exp = df.shape[0] #Shape = (filas, columnas)\n",
    "    pct_prom = df[var].mean().round()\n",
    "    proms = []\n",
    "    #Ordeno las instancias por tiempo\n",
    "    df.sort_values(\"Tiempo\", inplace = \"True\")\n",
    "    #Descarto los valores en los extremos\n",
    "    df = df.iloc[poda : cant_exp - poda, :]\n",
    "\n",
    "    promedio = df[\"Tiempo\"].mean() #Promedio podado de las instancias\n",
    "    \n",
    "    ret_data = pct_prom, promedio\n",
    "    \n",
    "    return ret_data\n",
    "\n",
    "def procesar_carpeta_pctVar(folder_path, var):\n",
    "    pctVar = []\n",
    "    proms = []\n",
    "    for root, dirs, files in os.walk(folder_path):\n",
    "        for file in files:\n",
    "            if file.endswith(\".csv\"):\n",
    "                file = folder_path + \"/\" + file\n",
    "                f = open(file, 'r')\n",
    "                datos = procesar_csv_pctVar(file, var)\n",
    "                pctVar.append(datos[0])\n",
    "                proms.append(datos[1])\n",
    "                f.close()\n",
    "    \n",
    "    dict = {\"pctVar\": pctVar, \"Proms\": proms}\n",
    "    df = pd.DataFrame(data = dict)\n",
    "    df.sort_values(\"pctVar\", inplace = True)\n",
    "    return df      \n",
    "\n",
    "#Toma un vector de tuplas (x, y, nombre) y devuelve una figura con cada tupla de datos\n",
    "def crear_fig(traces, xtitle, ytitle, fig_title):\n",
    "    data = []\n",
    "    for trace in traces:\n",
    "        #Para que todas las traces sean distintas ademas del color\n",
    "        i = 0\n",
    "        modo = str(i)\n",
    "        i += 1\n",
    "\n",
    "        new_trace = go.Scatter(\n",
    "            x = trace[0],\n",
    "            y = trace[1],\n",
    "            name = trace[2],\n",
    "            mode = modo\n",
    "                \n",
    "        )\n",
    "        data.append(new_trace)\n",
    "    \n",
    "    layout = go.Layout(\n",
    "        xaxis=dict(\n",
    "            tickmode = \"auto\",\n",
    "            #nticks = cant_exp,\n",
    "            ticks = \"inside\",\n",
    "            #tick0 = 0,\n",
    "            #ticklen = 8,\n",
    "            #dtick = 3,\n",
    "            title = xtitle,\n",
    "            tickangle = 0\n",
    "        ),\n",
    "        yaxis=dict(\n",
    "            tick0 = 0,\n",
    "            zeroline = \"False\",\n",
    "            ticks='inside',\n",
    "            ticklen=8,\n",
    "            tickwidth=3,\n",
    "            tickcolor='#000',\n",
    "            title = ytitle\n",
    "        ),\n",
    "        legend=dict(\n",
    "            x=10,\n",
    "            y=1,\n",
    "            traceorder='normal',\n",
    "            font=dict(\n",
    "                family='sans-serif',\n",
    "                size=12,\n",
    "                color='#000'\n",
    "            ),\n",
    "            bgcolor='#E2E2E2',\n",
    "            bordercolor='#FFFFFF',\n",
    "            borderwidth=2\n",
    "        ),\n",
    "        title = fig_title\n",
    "    )\n",
    "    \n",
    "    return go.Figure(data=data, layout=layout)\n",
    "\n",
    "#---------------- Script ----------------\n",
    "\n",
    "#Procesamiento de datos\n",
    "\n",
    "data_ejer1_exp1 = procesar_carpeta_nVar(\"Outputs/Ej1/outsTiempo/exp1\")\n",
    "ejer1_exp1_tams =  data_ejer1_exp1[\"Tam\"]\n",
    "ejer1_exp1_proms =  data_ejer1_exp1[\"Proms\"]\n",
    "\n",
    "data_ejer2_exp1 = procesar_carpeta_nVar(\"Outputs/Ej2/outsTiempo/exp1\")\n",
    "ejer2_exp1_tams =  data_ejer2_exp1[\"Tam\"]\n",
    "ejer2_exp1_proms =  data_ejer2_exp1[\"Proms\"]\n",
    "\n",
    "data_ejer3_exp1 = procesar_carpeta_nVar(\"Outputs/Ej3/outsTiempo/exp1\")\n",
    "ejer3_exp1_tams =  data_ejer3_exp1[\"Tam\"]\n",
    "ejer3_exp1_proms =  data_ejer3_exp1[\"Proms\"]\n",
    "\n",
    "data_ejer3_exp2 = procesar_carpeta_pctConstVar(\"Outputs/Ej3/outsTiempo/exp2\")\n",
    "ejer3_exp2_pctConst =  data_ejer3_exp2[\"pctConst\"]\n",
    "ejer3_exp2_proms =  data_ejer3_exp2[\"Proms\"]\n",
    "\n",
    "# #Traces\n",
    "ejer1_exp1_trace = (ejer1_exp1_tams, ejer1_exp1_proms, \"ejer1_exp1\")\n",
    "\n",
    "ejer2_exp1_trace = (ejer2_exp1_tams, ejer2_exp1_proms, \"ejer2_exp1\")\n",
    "\n",
    "ejer3_exp1_trace = (ejer3_exp1_tams, ejer3_exp1_proms, \"ejer3_exp1\")\n",
    "ejer3_exp2_trace = (ejer3_exp2_pctConst, ejer3_exp2_proms, \"ejer3_exp2\")\n",
    "\n",
    "\n",
    "#Graficos\n",
    "\n",
    "#Exp 1.1\n",
    "nombre = \"ejer1_exp1\"\n",
    "\n",
    "traces = [ejer1_exp1_trace]\n",
    "\n",
    "fig = crear_fig(traces, \"Cantidad de vertices\", \"Tiempo promedio (ms)\", nombre)\n",
    "\n",
    "plotly.offline.iplot(fig)\n",
    "\n",
    "#Exp 2.1\n",
    "nombre = \"ejer2_exp1\"\n",
    "\n",
    "traces = [ejer2_exp1_trace]\n",
    "\n",
    "fig = crear_fig(traces, \"Cantidad de vertices\", \"Tiempo promedio (ms)\", nombre)\n",
    "\n",
    "plotly.offline.iplot(fig)\n",
    "\n",
    "#Exp 3.1\n",
    "nombre = \"ejer3_exp1\"\n",
    "\n",
    "traces = [ejer3_exp1_trace]\n",
    "\n",
    "fig = crear_fig(traces, \"Cantidad de vertices\", \"Tiempo promedio (ms)\", nombre)\n",
    "\n",
    "plotly.offline.iplot(fig)\n",
    "\n",
    "#Exp 3.2\n",
    "nombre = \"ejer3_exp2 <br> n = 100\"\n",
    "\n",
    "traces = [ejer3_exp2_trace]\n",
    "\n",
    "fig = crear_fig(traces, \"Procentaje de rutas construidas\", \"Tiempo promedio (ms)\", nombre)\n",
    "\n",
    "plotly.offline.iplot(fig)\n",
    "\n"
   ]
  },
  {
   "cell_type": "code",
   "execution_count": null,
   "metadata": {
    "collapsed": true,
    "deletable": true,
    "editable": true
   },
   "outputs": [],
   "source": []
  }
 ],
 "metadata": {
  "kernelspec": {
   "display_name": "Python 2",
   "language": "python",
   "name": "python2"
  },
  "language_info": {
   "codemirror_mode": {
    "name": "ipython",
    "version": 2
   },
   "file_extension": ".py",
   "mimetype": "text/x-python",
   "name": "python",
   "nbconvert_exporter": "python",
   "pygments_lexer": "ipython2",
   "version": "2.7.12"
  }
 },
 "nbformat": 4,
 "nbformat_minor": 1
}
