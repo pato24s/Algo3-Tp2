{
 "cells": [
  {
   "cell_type": "code",
   "execution_count": 20,
   "metadata": {
    "collapsed": false,
    "deletable": true,
    "editable": true,
    "scrolled": false
   },
   "outputs": [
    {
     "data": {
      "text/html": [
       "<script>requirejs.config({paths: { 'plotly': ['https://cdn.plot.ly/plotly-latest.min']},});if(!window.Plotly) {{require(['plotly'],function(plotly) {window.Plotly=plotly;});}}</script>"
      ],
      "text/vnd.plotly.v1+html": [
       "<script>requirejs.config({paths: { 'plotly': ['https://cdn.plot.ly/plotly-latest.min']},});if(!window.Plotly) {{require(['plotly'],function(plotly) {window.Plotly=plotly;});}}</script>"
      ]
     },
     "metadata": {},
     "output_type": "display_data"
    },
    {
     "data": {
      "application/vnd.plotly.v1+json": {
       "data": [
        {
         "mode": "0",
         "name": "ejer1_exp1_buenosCasos",
         "type": "scatter",
         "x": [
          5,
          10,
          15,
          20,
          25,
          30,
          35,
          40,
          50,
          75,
          80,
          95,
          100
         ],
         "y": [
          225270.825,
          462808.275,
          762923.825,
          1126341.625,
          1539881.55,
          1967943.2608695652,
          2460178.375,
          2995618.6,
          4190167.7,
          8262023.95,
          9128723.825,
          12063003.15,
          13131204.9,
          19479075.25,
          26898664.05,
          35269109.875,
          45713072.525
         ]
        },
        {
         "mode": "0",
         "name": "ejer1_exp1_malosCasos",
         "type": "scatter",
         "x": [
          5,
          10,
          15,
          20,
          25,
          30,
          35,
          40,
          50,
          75,
          80,
          95,
          100
         ],
         "y": [
          491943.475,
          1873543.75,
          4185794.975,
          7340543.325,
          11435978.225,
          16525419.425,
          22304975.25,
          29433087.025,
          45117260.35,
          101731138.525,
          115484266.575,
          162354136.05,
          179659527.075,
          280768191.625,
          407391624.8,
          551081820.7142857,
          750236143.975
         ]
        }
       ],
       "layout": {
        "legend": {
         "bgcolor": "#E2E2E2",
         "bordercolor": "#FFFFFF",
         "borderwidth": 2,
         "font": {
          "color": "#000",
          "family": "sans-serif",
          "size": 12
         },
         "traceorder": "normal",
         "x": 10,
         "y": 1
        },
        "title": "Ejercicio 1, experimento 1. <br> Largo de los caminos = 20",
        "xaxis": {
         "tickangle": 0,
         "tickmode": "auto",
         "ticks": "inside",
         "title": "Cantidad de caminos"
        },
        "yaxis": {
         "tick0": 0,
         "tickcolor": "#000",
         "ticklen": 8,
         "ticks": "inside",
         "tickwidth": 3,
         "title": "Tiempo promedio (ns)",
         "zeroline": "False"
        }
       }
      },
      "text/html": [
       "<div id=\"470afe74-2a31-46e2-b3a7-45562828135b\" style=\"height: 525px; width: 100%;\" class=\"plotly-graph-div\"></div><script type=\"text/javascript\">require([\"plotly\"], function(Plotly) { window.PLOTLYENV=window.PLOTLYENV || {};window.PLOTLYENV.BASE_URL=\"https://plot.ly\";Plotly.newPlot(\"470afe74-2a31-46e2-b3a7-45562828135b\", [{\"y\": [225270.825, 462808.275, 762923.825, 1126341.625, 1539881.55, 1967943.2608695652, 2460178.375, 2995618.6, 4190167.7, 8262023.95, 9128723.825, 12063003.15, 13131204.9, 19479075.25, 26898664.05, 35269109.875, 45713072.525], \"x\": [5, 10, 15, 20, 25, 30, 35, 40, 50, 75, 80, 95, 100], \"type\": \"scatter\", \"name\": \"ejer1_exp1_buenosCasos\", \"mode\": \"0\"}, {\"y\": [491943.475, 1873543.75, 4185794.975, 7340543.325, 11435978.225, 16525419.425, 22304975.25, 29433087.025, 45117260.35, 101731138.525, 115484266.575, 162354136.05, 179659527.075, 280768191.625, 407391624.8, 551081820.7142857, 750236143.975], \"x\": [5, 10, 15, 20, 25, 30, 35, 40, 50, 75, 80, 95, 100], \"type\": \"scatter\", \"name\": \"ejer1_exp1_malosCasos\", \"mode\": \"0\"}], {\"yaxis\": {\"ticks\": \"inside\", \"tickwidth\": 3, \"title\": \"Tiempo promedio (ns)\", \"tick0\": 0, \"ticklen\": 8, \"zeroline\": \"False\", \"tickcolor\": \"#000\"}, \"legend\": {\"bordercolor\": \"#FFFFFF\", \"traceorder\": \"normal\", \"bgcolor\": \"#E2E2E2\", \"borderwidth\": 2, \"y\": 1, \"x\": 10, \"font\": {\"color\": \"#000\", \"family\": \"sans-serif\", \"size\": 12}}, \"xaxis\": {\"tickangle\": 0, \"ticks\": \"inside\", \"tickmode\": \"auto\", \"title\": \"Cantidad de caminos\"}, \"title\": \"Ejercicio 1, experimento 1. <br> Largo de los caminos = 20\"}, {\"linkText\": \"Export to plot.ly\", \"showLink\": true})});</script>"
      ],
      "text/vnd.plotly.v1+html": [
       "<div id=\"470afe74-2a31-46e2-b3a7-45562828135b\" style=\"height: 525px; width: 100%;\" class=\"plotly-graph-div\"></div><script type=\"text/javascript\">require([\"plotly\"], function(Plotly) { window.PLOTLYENV=window.PLOTLYENV || {};window.PLOTLYENV.BASE_URL=\"https://plot.ly\";Plotly.newPlot(\"470afe74-2a31-46e2-b3a7-45562828135b\", [{\"y\": [225270.825, 462808.275, 762923.825, 1126341.625, 1539881.55, 1967943.2608695652, 2460178.375, 2995618.6, 4190167.7, 8262023.95, 9128723.825, 12063003.15, 13131204.9, 19479075.25, 26898664.05, 35269109.875, 45713072.525], \"x\": [5, 10, 15, 20, 25, 30, 35, 40, 50, 75, 80, 95, 100], \"type\": \"scatter\", \"name\": \"ejer1_exp1_buenosCasos\", \"mode\": \"0\"}, {\"y\": [491943.475, 1873543.75, 4185794.975, 7340543.325, 11435978.225, 16525419.425, 22304975.25, 29433087.025, 45117260.35, 101731138.525, 115484266.575, 162354136.05, 179659527.075, 280768191.625, 407391624.8, 551081820.7142857, 750236143.975], \"x\": [5, 10, 15, 20, 25, 30, 35, 40, 50, 75, 80, 95, 100], \"type\": \"scatter\", \"name\": \"ejer1_exp1_malosCasos\", \"mode\": \"0\"}], {\"yaxis\": {\"ticks\": \"inside\", \"tickwidth\": 3, \"title\": \"Tiempo promedio (ns)\", \"tick0\": 0, \"ticklen\": 8, \"zeroline\": \"False\", \"tickcolor\": \"#000\"}, \"legend\": {\"bordercolor\": \"#FFFFFF\", \"traceorder\": \"normal\", \"bgcolor\": \"#E2E2E2\", \"borderwidth\": 2, \"y\": 1, \"x\": 10, \"font\": {\"color\": \"#000\", \"family\": \"sans-serif\", \"size\": 12}}, \"xaxis\": {\"tickangle\": 0, \"ticks\": \"inside\", \"tickmode\": \"auto\", \"title\": \"Cantidad de caminos\"}, \"title\": \"Ejercicio 1, experimento 1. <br> Largo de los caminos = 20\"}, {\"linkText\": \"Export to plot.ly\", \"showLink\": true})});</script>"
      ]
     },
     "metadata": {},
     "output_type": "display_data"
    },
    {
     "data": {
      "application/vnd.plotly.v1+json": {
       "data": [
        {
         "legendgroup": "8",
         "name": "8_1",
         "type": "bar",
         "x": [
          8
         ],
         "y": [
          211893.1
         ]
        },
        {
         "legendgroup": "8",
         "name": "8_3",
         "type": "bar",
         "x": [
          8
         ],
         "y": [
          535022.15
         ]
        },
        {
         "legendgroup": "8",
         "name": "8_5",
         "type": "bar",
         "x": [
          8
         ],
         "y": [
          734984.2
         ]
        },
        {
         "legendgroup": "8",
         "name": "8_7",
         "type": "bar",
         "x": [
          8
         ],
         "y": [
          546568.6
         ]
        },
        {
         "legendgroup": "8",
         "name": "8_8",
         "type": "bar",
         "x": [
          8
         ],
         "y": [
          612869.775
         ]
        },
        {
         "legendgroup": "10",
         "name": "10_1",
         "type": "bar",
         "x": [
          10
         ],
         "y": [
          442592.85
         ]
        },
        {
         "legendgroup": "10",
         "name": "10_3",
         "type": "bar",
         "x": [
          10
         ],
         "y": [
          1337226.475
         ]
        },
        {
         "legendgroup": "10",
         "name": "10_5",
         "type": "bar",
         "x": [
          10
         ],
         "y": [
          2284302.075
         ]
        },
        {
         "legendgroup": "10",
         "name": "10_8",
         "type": "bar",
         "x": [
          10
         ],
         "y": [
          2281625.6
         ]
        },
        {
         "legendgroup": "10",
         "name": "10_10",
         "type": "bar",
         "x": [
          10
         ],
         "y": [
          2002550.85
         ]
        },
        {
         "legendgroup": "12",
         "name": "12_1",
         "type": "bar",
         "x": [
          12
         ],
         "y": [
          875794.575
         ]
        },
        {
         "legendgroup": "12",
         "name": "12_3",
         "type": "bar",
         "x": [
          12
         ],
         "y": [
          2793288.75
         ]
        },
        {
         "legendgroup": "12",
         "name": "12_5",
         "type": "bar",
         "x": [
          12
         ],
         "y": [
          5157026.675
         ]
        },
        {
         "legendgroup": "12",
         "name": "12_10",
         "type": "bar",
         "x": [
          12
         ],
         "y": [
          6603651.625
         ]
        },
        {
         "legendgroup": "12",
         "name": "12_12",
         "type": "bar",
         "x": [
          12
         ],
         "y": [
          5614093.325
         ]
        }
       ],
       "layout": {
        "barmode": "group",
        "title": "Ejercicio 1, experimento 2. <br> Largo de los caminos = cantidad de caminos - 1",
        "xaxis": {
         "title": "Cantidad de caminos"
        },
        "yaxis": {
         "title": "Tiempo (ns)"
        }
       }
      },
      "text/html": [
       "<div id=\"f0b56167-bed4-4d1d-9568-7a87c2e533b2\" style=\"height: 525px; width: 100%;\" class=\"plotly-graph-div\"></div><script type=\"text/javascript\">require([\"plotly\"], function(Plotly) { window.PLOTLYENV=window.PLOTLYENV || {};window.PLOTLYENV.BASE_URL=\"https://plot.ly\";Plotly.newPlot(\"f0b56167-bed4-4d1d-9568-7a87c2e533b2\", [{\"y\": [211893.1], \"x\": [8], \"legendgroup\": \"8\", \"type\": \"bar\", \"name\": \"8_1\"}, {\"y\": [535022.15], \"x\": [8], \"legendgroup\": \"8\", \"type\": \"bar\", \"name\": \"8_3\"}, {\"y\": [734984.2], \"x\": [8], \"legendgroup\": \"8\", \"type\": \"bar\", \"name\": \"8_5\"}, {\"y\": [546568.6], \"x\": [8], \"legendgroup\": \"8\", \"type\": \"bar\", \"name\": \"8_7\"}, {\"y\": [612869.775], \"x\": [8], \"legendgroup\": \"8\", \"type\": \"bar\", \"name\": \"8_8\"}, {\"y\": [442592.85], \"x\": [10], \"legendgroup\": \"10\", \"type\": \"bar\", \"name\": \"10_1\"}, {\"y\": [1337226.475], \"x\": [10], \"legendgroup\": \"10\", \"type\": \"bar\", \"name\": \"10_3\"}, {\"y\": [2284302.075], \"x\": [10], \"legendgroup\": \"10\", \"type\": \"bar\", \"name\": \"10_5\"}, {\"y\": [2281625.6], \"x\": [10], \"legendgroup\": \"10\", \"type\": \"bar\", \"name\": \"10_8\"}, {\"y\": [2002550.85], \"x\": [10], \"legendgroup\": \"10\", \"type\": \"bar\", \"name\": \"10_10\"}, {\"y\": [875794.575], \"x\": [12], \"legendgroup\": \"12\", \"type\": \"bar\", \"name\": \"12_1\"}, {\"y\": [2793288.75], \"x\": [12], \"legendgroup\": \"12\", \"type\": \"bar\", \"name\": \"12_3\"}, {\"y\": [5157026.675], \"x\": [12], \"legendgroup\": \"12\", \"type\": \"bar\", \"name\": \"12_5\"}, {\"y\": [6603651.625], \"x\": [12], \"legendgroup\": \"12\", \"type\": \"bar\", \"name\": \"12_10\"}, {\"y\": [5614093.325], \"x\": [12], \"legendgroup\": \"12\", \"type\": \"bar\", \"name\": \"12_12\"}], {\"barmode\": \"group\", \"title\": \"Ejercicio 1, experimento 2. <br> Largo de los caminos = cantidad de caminos - 1\", \"xaxis\": {\"title\": \"Cantidad de caminos\"}, \"yaxis\": {\"title\": \"Tiempo (ns)\"}}, {\"linkText\": \"Export to plot.ly\", \"showLink\": true})});</script>"
      ],
      "text/vnd.plotly.v1+html": [
       "<div id=\"f0b56167-bed4-4d1d-9568-7a87c2e533b2\" style=\"height: 525px; width: 100%;\" class=\"plotly-graph-div\"></div><script type=\"text/javascript\">require([\"plotly\"], function(Plotly) { window.PLOTLYENV=window.PLOTLYENV || {};window.PLOTLYENV.BASE_URL=\"https://plot.ly\";Plotly.newPlot(\"f0b56167-bed4-4d1d-9568-7a87c2e533b2\", [{\"y\": [211893.1], \"x\": [8], \"legendgroup\": \"8\", \"type\": \"bar\", \"name\": \"8_1\"}, {\"y\": [535022.15], \"x\": [8], \"legendgroup\": \"8\", \"type\": \"bar\", \"name\": \"8_3\"}, {\"y\": [734984.2], \"x\": [8], \"legendgroup\": \"8\", \"type\": \"bar\", \"name\": \"8_5\"}, {\"y\": [546568.6], \"x\": [8], \"legendgroup\": \"8\", \"type\": \"bar\", \"name\": \"8_7\"}, {\"y\": [612869.775], \"x\": [8], \"legendgroup\": \"8\", \"type\": \"bar\", \"name\": \"8_8\"}, {\"y\": [442592.85], \"x\": [10], \"legendgroup\": \"10\", \"type\": \"bar\", \"name\": \"10_1\"}, {\"y\": [1337226.475], \"x\": [10], \"legendgroup\": \"10\", \"type\": \"bar\", \"name\": \"10_3\"}, {\"y\": [2284302.075], \"x\": [10], \"legendgroup\": \"10\", \"type\": \"bar\", \"name\": \"10_5\"}, {\"y\": [2281625.6], \"x\": [10], \"legendgroup\": \"10\", \"type\": \"bar\", \"name\": \"10_8\"}, {\"y\": [2002550.85], \"x\": [10], \"legendgroup\": \"10\", \"type\": \"bar\", \"name\": \"10_10\"}, {\"y\": [875794.575], \"x\": [12], \"legendgroup\": \"12\", \"type\": \"bar\", \"name\": \"12_1\"}, {\"y\": [2793288.75], \"x\": [12], \"legendgroup\": \"12\", \"type\": \"bar\", \"name\": \"12_3\"}, {\"y\": [5157026.675], \"x\": [12], \"legendgroup\": \"12\", \"type\": \"bar\", \"name\": \"12_5\"}, {\"y\": [6603651.625], \"x\": [12], \"legendgroup\": \"12\", \"type\": \"bar\", \"name\": \"12_10\"}, {\"y\": [5614093.325], \"x\": [12], \"legendgroup\": \"12\", \"type\": \"bar\", \"name\": \"12_12\"}], {\"barmode\": \"group\", \"title\": \"Ejercicio 1, experimento 2. <br> Largo de los caminos = cantidad de caminos - 1\", \"xaxis\": {\"title\": \"Cantidad de caminos\"}, \"yaxis\": {\"title\": \"Tiempo (ns)\"}}, {\"linkText\": \"Export to plot.ly\", \"showLink\": true})});</script>"
      ]
     },
     "metadata": {},
     "output_type": "display_data"
    },
    {
     "data": {
      "application/vnd.plotly.v1+json": {
       "data": [
        {
         "mode": "0",
         "name": "ejer2_exp1",
         "type": "scatter",
         "x": [
          5,
          10,
          20,
          50,
          75,
          100,
          125,
          150,
          175,
          200,
          225,
          250,
          275,
          300,
          325,
          350,
          375,
          400
         ],
         "y": [
          19344.525,
          70313.625,
          209230.725,
          1282801.075,
          2839067.4,
          4972736.475,
          7958150.6,
          11202774.2,
          15358300.925,
          20346118.275,
          25104891.25,
          30842735.6,
          38817067,
          45854773.275,
          52941775.475,
          62699838.05,
          70598145.25,
          80442827.875
         ]
        }
       ],
       "layout": {
        "legend": {
         "bgcolor": "#E2E2E2",
         "bordercolor": "#FFFFFF",
         "borderwidth": 2,
         "font": {
          "color": "#000",
          "family": "sans-serif",
          "size": 12
         },
         "traceorder": "normal",
         "x": 10,
         "y": 1
        },
        "title": "Ejercicio 2, experimento 1.",
        "xaxis": {
         "tickangle": 0,
         "tickmode": "auto",
         "ticks": "inside",
         "title": "Cantidad de vertices"
        },
        "yaxis": {
         "tick0": 0,
         "tickcolor": "#000",
         "ticklen": 8,
         "ticks": "inside",
         "tickwidth": 3,
         "title": "Tiempo promedio (ns)",
         "zeroline": "False"
        }
       }
      },
      "text/html": [
       "<div id=\"eb68e8b3-b047-4d4c-a381-7ef7bde3183a\" style=\"height: 525px; width: 100%;\" class=\"plotly-graph-div\"></div><script type=\"text/javascript\">require([\"plotly\"], function(Plotly) { window.PLOTLYENV=window.PLOTLYENV || {};window.PLOTLYENV.BASE_URL=\"https://plot.ly\";Plotly.newPlot(\"eb68e8b3-b047-4d4c-a381-7ef7bde3183a\", [{\"y\": [19344.525, 70313.625, 209230.725, 1282801.075, 2839067.4, 4972736.475, 7958150.6, 11202774.2, 15358300.925, 20346118.275, 25104891.25, 30842735.6, 38817067.0, 45854773.275, 52941775.475, 62699838.05, 70598145.25, 80442827.875], \"x\": [5, 10, 20, 50, 75, 100, 125, 150, 175, 200, 225, 250, 275, 300, 325, 350, 375, 400], \"type\": \"scatter\", \"name\": \"ejer2_exp1\", \"mode\": \"0\"}], {\"yaxis\": {\"ticks\": \"inside\", \"tickwidth\": 3, \"title\": \"Tiempo promedio (ns)\", \"tick0\": 0, \"ticklen\": 8, \"zeroline\": \"False\", \"tickcolor\": \"#000\"}, \"legend\": {\"bordercolor\": \"#FFFFFF\", \"traceorder\": \"normal\", \"bgcolor\": \"#E2E2E2\", \"borderwidth\": 2, \"y\": 1, \"x\": 10, \"font\": {\"color\": \"#000\", \"family\": \"sans-serif\", \"size\": 12}}, \"xaxis\": {\"tickangle\": 0, \"ticks\": \"inside\", \"tickmode\": \"auto\", \"title\": \"Cantidad de vertices\"}, \"title\": \"Ejercicio 2, experimento 1.\"}, {\"linkText\": \"Export to plot.ly\", \"showLink\": true})});</script>"
      ],
      "text/vnd.plotly.v1+html": [
       "<div id=\"eb68e8b3-b047-4d4c-a381-7ef7bde3183a\" style=\"height: 525px; width: 100%;\" class=\"plotly-graph-div\"></div><script type=\"text/javascript\">require([\"plotly\"], function(Plotly) { window.PLOTLYENV=window.PLOTLYENV || {};window.PLOTLYENV.BASE_URL=\"https://plot.ly\";Plotly.newPlot(\"eb68e8b3-b047-4d4c-a381-7ef7bde3183a\", [{\"y\": [19344.525, 70313.625, 209230.725, 1282801.075, 2839067.4, 4972736.475, 7958150.6, 11202774.2, 15358300.925, 20346118.275, 25104891.25, 30842735.6, 38817067.0, 45854773.275, 52941775.475, 62699838.05, 70598145.25, 80442827.875], \"x\": [5, 10, 20, 50, 75, 100, 125, 150, 175, 200, 225, 250, 275, 300, 325, 350, 375, 400], \"type\": \"scatter\", \"name\": \"ejer2_exp1\", \"mode\": \"0\"}], {\"yaxis\": {\"ticks\": \"inside\", \"tickwidth\": 3, \"title\": \"Tiempo promedio (ns)\", \"tick0\": 0, \"ticklen\": 8, \"zeroline\": \"False\", \"tickcolor\": \"#000\"}, \"legend\": {\"bordercolor\": \"#FFFFFF\", \"traceorder\": \"normal\", \"bgcolor\": \"#E2E2E2\", \"borderwidth\": 2, \"y\": 1, \"x\": 10, \"font\": {\"color\": \"#000\", \"family\": \"sans-serif\", \"size\": 12}}, \"xaxis\": {\"tickangle\": 0, \"ticks\": \"inside\", \"tickmode\": \"auto\", \"title\": \"Cantidad de vertices\"}, \"title\": \"Ejercicio 2, experimento 1.\"}, {\"linkText\": \"Export to plot.ly\", \"showLink\": true})});</script>"
      ]
     },
     "metadata": {},
     "output_type": "display_data"
    },
    {
     "data": {
      "application/vnd.plotly.v1+json": {
       "data": [
        {
         "mode": "0",
         "name": "ejer2_exp2",
         "type": "scatter",
         "x": [
          10,
          20,
          30,
          50,
          70,
          100,
          125,
          150,
          175,
          200,
          225,
          250,
          275,
          300,
          325,
          350,
          375,
          400
         ],
         "y": [
          12511016.375,
          15424569.95,
          17536885,
          19868808.925,
          20946147.2,
          23108570.05,
          23695007.4,
          24496975.375,
          25735473.9,
          25487180.15,
          26111281.275,
          26727340.85,
          26841854.8,
          27235968.625,
          27937693.125,
          28728893.175,
          28395866.3,
          29099076.35
         ]
        }
       ],
       "layout": {
        "legend": {
         "bgcolor": "#E2E2E2",
         "bordercolor": "#FFFFFF",
         "borderwidth": 2,
         "font": {
          "color": "#000",
          "family": "sans-serif",
          "size": 12
         },
         "traceorder": "normal",
         "x": 10,
         "y": 1
        },
        "title": "Ejercicio 2, experimento 2. <br> n = 200",
        "xaxis": {
         "tickangle": 0,
         "tickmode": "auto",
         "ticks": "inside",
         "title": "Costo del peaje más caro"
        },
        "yaxis": {
         "tick0": 0,
         "tickcolor": "#000",
         "ticklen": 8,
         "ticks": "inside",
         "tickwidth": 3,
         "title": "Tiempo promedio (ns)",
         "zeroline": "False"
        }
       }
      },
      "text/html": [
       "<div id=\"8ee24eb4-b77a-451b-93d8-0107a15a9d37\" style=\"height: 525px; width: 100%;\" class=\"plotly-graph-div\"></div><script type=\"text/javascript\">require([\"plotly\"], function(Plotly) { window.PLOTLYENV=window.PLOTLYENV || {};window.PLOTLYENV.BASE_URL=\"https://plot.ly\";Plotly.newPlot(\"8ee24eb4-b77a-451b-93d8-0107a15a9d37\", [{\"y\": [12511016.375, 15424569.95, 17536885.0, 19868808.925, 20946147.2, 23108570.05, 23695007.4, 24496975.375, 25735473.9, 25487180.15, 26111281.275, 26727340.85, 26841854.8, 27235968.625, 27937693.125, 28728893.175, 28395866.3, 29099076.35], \"x\": [10, 20, 30, 50, 70, 100, 125, 150, 175, 200, 225, 250, 275, 300, 325, 350, 375, 400], \"type\": \"scatter\", \"name\": \"ejer2_exp2\", \"mode\": \"0\"}], {\"yaxis\": {\"ticks\": \"inside\", \"tickwidth\": 3, \"title\": \"Tiempo promedio (ns)\", \"tick0\": 0, \"ticklen\": 8, \"zeroline\": \"False\", \"tickcolor\": \"#000\"}, \"legend\": {\"bordercolor\": \"#FFFFFF\", \"traceorder\": \"normal\", \"bgcolor\": \"#E2E2E2\", \"borderwidth\": 2, \"y\": 1, \"x\": 10, \"font\": {\"color\": \"#000\", \"family\": \"sans-serif\", \"size\": 12}}, \"xaxis\": {\"tickangle\": 0, \"ticks\": \"inside\", \"tickmode\": \"auto\", \"title\": \"Costo del peaje m\\u00e1s caro\"}, \"title\": \"Ejercicio 2, experimento 2. <br> n = 200\"}, {\"linkText\": \"Export to plot.ly\", \"showLink\": true})});</script>"
      ],
      "text/vnd.plotly.v1+html": [
       "<div id=\"8ee24eb4-b77a-451b-93d8-0107a15a9d37\" style=\"height: 525px; width: 100%;\" class=\"plotly-graph-div\"></div><script type=\"text/javascript\">require([\"plotly\"], function(Plotly) { window.PLOTLYENV=window.PLOTLYENV || {};window.PLOTLYENV.BASE_URL=\"https://plot.ly\";Plotly.newPlot(\"8ee24eb4-b77a-451b-93d8-0107a15a9d37\", [{\"y\": [12511016.375, 15424569.95, 17536885.0, 19868808.925, 20946147.2, 23108570.05, 23695007.4, 24496975.375, 25735473.9, 25487180.15, 26111281.275, 26727340.85, 26841854.8, 27235968.625, 27937693.125, 28728893.175, 28395866.3, 29099076.35], \"x\": [10, 20, 30, 50, 70, 100, 125, 150, 175, 200, 225, 250, 275, 300, 325, 350, 375, 400], \"type\": \"scatter\", \"name\": \"ejer2_exp2\", \"mode\": \"0\"}], {\"yaxis\": {\"ticks\": \"inside\", \"tickwidth\": 3, \"title\": \"Tiempo promedio (ns)\", \"tick0\": 0, \"ticklen\": 8, \"zeroline\": \"False\", \"tickcolor\": \"#000\"}, \"legend\": {\"bordercolor\": \"#FFFFFF\", \"traceorder\": \"normal\", \"bgcolor\": \"#E2E2E2\", \"borderwidth\": 2, \"y\": 1, \"x\": 10, \"font\": {\"color\": \"#000\", \"family\": \"sans-serif\", \"size\": 12}}, \"xaxis\": {\"tickangle\": 0, \"ticks\": \"inside\", \"tickmode\": \"auto\", \"title\": \"Costo del peaje m\\u00e1s caro\"}, \"title\": \"Ejercicio 2, experimento 2. <br> n = 200\"}, {\"linkText\": \"Export to plot.ly\", \"showLink\": true})});</script>"
      ]
     },
     "metadata": {},
     "output_type": "display_data"
    },
    {
     "data": {
      "application/vnd.plotly.v1+json": {
       "data": [
        {
         "mode": "0",
         "name": "ejer3_exp1",
         "type": "scatter",
         "x": [],
         "y": []
        }
       ],
       "layout": {
        "legend": {
         "bgcolor": "#E2E2E2",
         "bordercolor": "#FFFFFF",
         "borderwidth": 2,
         "font": {
          "color": "#000",
          "family": "sans-serif",
          "size": 12
         },
         "traceorder": "normal",
         "x": 10,
         "y": 1
        },
        "title": "Ejercicio 3, experimento 1.",
        "xaxis": {
         "tickangle": 0,
         "tickmode": "auto",
         "ticks": "inside",
         "title": "Cantidad de vertices"
        },
        "yaxis": {
         "tick0": 0,
         "tickcolor": "#000",
         "ticklen": 8,
         "ticks": "inside",
         "tickwidth": 3,
         "title": "Tiempo promedio (ns)",
         "zeroline": "False"
        }
       }
      },
      "text/html": [
       "<div id=\"36f413e7-7843-49c1-bbca-5e63a990625b\" style=\"height: 525px; width: 100%;\" class=\"plotly-graph-div\"></div><script type=\"text/javascript\">require([\"plotly\"], function(Plotly) { window.PLOTLYENV=window.PLOTLYENV || {};window.PLOTLYENV.BASE_URL=\"https://plot.ly\";Plotly.newPlot(\"36f413e7-7843-49c1-bbca-5e63a990625b\", [{\"y\": [], \"x\": [], \"type\": \"scatter\", \"name\": \"ejer3_exp1\", \"mode\": \"0\"}], {\"yaxis\": {\"ticks\": \"inside\", \"tickwidth\": 3, \"title\": \"Tiempo promedio (ns)\", \"tick0\": 0, \"ticklen\": 8, \"zeroline\": \"False\", \"tickcolor\": \"#000\"}, \"legend\": {\"bordercolor\": \"#FFFFFF\", \"traceorder\": \"normal\", \"bgcolor\": \"#E2E2E2\", \"borderwidth\": 2, \"y\": 1, \"x\": 10, \"font\": {\"color\": \"#000\", \"family\": \"sans-serif\", \"size\": 12}}, \"xaxis\": {\"tickangle\": 0, \"ticks\": \"inside\", \"tickmode\": \"auto\", \"title\": \"Cantidad de vertices\"}, \"title\": \"Ejercicio 3, experimento 1.\"}, {\"linkText\": \"Export to plot.ly\", \"showLink\": true})});</script>"
      ],
      "text/vnd.plotly.v1+html": [
       "<div id=\"36f413e7-7843-49c1-bbca-5e63a990625b\" style=\"height: 525px; width: 100%;\" class=\"plotly-graph-div\"></div><script type=\"text/javascript\">require([\"plotly\"], function(Plotly) { window.PLOTLYENV=window.PLOTLYENV || {};window.PLOTLYENV.BASE_URL=\"https://plot.ly\";Plotly.newPlot(\"36f413e7-7843-49c1-bbca-5e63a990625b\", [{\"y\": [], \"x\": [], \"type\": \"scatter\", \"name\": \"ejer3_exp1\", \"mode\": \"0\"}], {\"yaxis\": {\"ticks\": \"inside\", \"tickwidth\": 3, \"title\": \"Tiempo promedio (ns)\", \"tick0\": 0, \"ticklen\": 8, \"zeroline\": \"False\", \"tickcolor\": \"#000\"}, \"legend\": {\"bordercolor\": \"#FFFFFF\", \"traceorder\": \"normal\", \"bgcolor\": \"#E2E2E2\", \"borderwidth\": 2, \"y\": 1, \"x\": 10, \"font\": {\"color\": \"#000\", \"family\": \"sans-serif\", \"size\": 12}}, \"xaxis\": {\"tickangle\": 0, \"ticks\": \"inside\", \"tickmode\": \"auto\", \"title\": \"Cantidad de vertices\"}, \"title\": \"Ejercicio 3, experimento 1.\"}, {\"linkText\": \"Export to plot.ly\", \"showLink\": true})});</script>"
      ]
     },
     "metadata": {},
     "output_type": "display_data"
    },
    {
     "data": {
      "application/vnd.plotly.v1+json": {
       "data": [
        {
         "mode": "0",
         "name": "ejer3_exp2",
         "type": "scatter",
         "x": [],
         "y": []
        }
       ],
       "layout": {
        "legend": {
         "bgcolor": "#E2E2E2",
         "bordercolor": "#FFFFFF",
         "borderwidth": 2,
         "font": {
          "color": "#000",
          "family": "sans-serif",
          "size": 12
         },
         "traceorder": "normal",
         "x": 10,
         "y": 1
        },
        "title": "Ejercicio 3, experimento 2.",
        "xaxis": {
         "tickangle": 0,
         "tickmode": "auto",
         "ticks": "inside",
         "title": "Procentaje de rutas construidas"
        },
        "yaxis": {
         "tick0": 0,
         "tickcolor": "#000",
         "ticklen": 8,
         "ticks": "inside",
         "tickwidth": 3,
         "title": "Tiempo promedio (ns)",
         "zeroline": "False"
        }
       }
      },
      "text/html": [
       "<div id=\"36fc484f-b537-426d-b4c7-31a69a476e14\" style=\"height: 525px; width: 100%;\" class=\"plotly-graph-div\"></div><script type=\"text/javascript\">require([\"plotly\"], function(Plotly) { window.PLOTLYENV=window.PLOTLYENV || {};window.PLOTLYENV.BASE_URL=\"https://plot.ly\";Plotly.newPlot(\"36fc484f-b537-426d-b4c7-31a69a476e14\", [{\"y\": [], \"x\": [], \"type\": \"scatter\", \"name\": \"ejer3_exp2\", \"mode\": \"0\"}], {\"yaxis\": {\"ticks\": \"inside\", \"tickwidth\": 3, \"title\": \"Tiempo promedio (ns)\", \"tick0\": 0, \"ticklen\": 8, \"zeroline\": \"False\", \"tickcolor\": \"#000\"}, \"legend\": {\"bordercolor\": \"#FFFFFF\", \"traceorder\": \"normal\", \"bgcolor\": \"#E2E2E2\", \"borderwidth\": 2, \"y\": 1, \"x\": 10, \"font\": {\"color\": \"#000\", \"family\": \"sans-serif\", \"size\": 12}}, \"xaxis\": {\"tickangle\": 0, \"ticks\": \"inside\", \"tickmode\": \"auto\", \"title\": \"Procentaje de rutas construidas\"}, \"title\": \"Ejercicio 3, experimento 2.\"}, {\"linkText\": \"Export to plot.ly\", \"showLink\": true})});</script>"
      ],
      "text/vnd.plotly.v1+html": [
       "<div id=\"36fc484f-b537-426d-b4c7-31a69a476e14\" style=\"height: 525px; width: 100%;\" class=\"plotly-graph-div\"></div><script type=\"text/javascript\">require([\"plotly\"], function(Plotly) { window.PLOTLYENV=window.PLOTLYENV || {};window.PLOTLYENV.BASE_URL=\"https://plot.ly\";Plotly.newPlot(\"36fc484f-b537-426d-b4c7-31a69a476e14\", [{\"y\": [], \"x\": [], \"type\": \"scatter\", \"name\": \"ejer3_exp2\", \"mode\": \"0\"}], {\"yaxis\": {\"ticks\": \"inside\", \"tickwidth\": 3, \"title\": \"Tiempo promedio (ns)\", \"tick0\": 0, \"ticklen\": 8, \"zeroline\": \"False\", \"tickcolor\": \"#000\"}, \"legend\": {\"bordercolor\": \"#FFFFFF\", \"traceorder\": \"normal\", \"bgcolor\": \"#E2E2E2\", \"borderwidth\": 2, \"y\": 1, \"x\": 10, \"font\": {\"color\": \"#000\", \"family\": \"sans-serif\", \"size\": 12}}, \"xaxis\": {\"tickangle\": 0, \"ticks\": \"inside\", \"tickmode\": \"auto\", \"title\": \"Procentaje de rutas construidas\"}, \"title\": \"Ejercicio 3, experimento 2.\"}, {\"linkText\": \"Export to plot.ly\", \"showLink\": true})});</script>"
      ]
     },
     "metadata": {},
     "output_type": "display_data"
    }
   ],
   "source": [
    "import os\n",
    "import plotly\n",
    "import pandas as pd\n",
    "import numpy as np\n",
    "import plotly.plotly as py\n",
    "import plotly.figure_factory as ff\n",
    "import plotly.graph_objs as go\n",
    "import collections\n",
    "import re\n",
    "from operator import itemgetter\n",
    "\n",
    "from IPython.core.interactiveshell import InteractiveShell\n",
    "InteractiveShell.ast_node_interactivity = \"all\"\n",
    "\n",
    "plotly.tools.set_credentials_file(username='Fernet', api_key='zC7ogVfVT5UPcpu2VKse')\n",
    "plotly.offline.init_notebook_mode(connected=True)\n",
    "\n",
    "#---------------- Settings ----------------\n",
    "\n",
    "image_ext = \"svg\" #Extension para bajar los graficos\n",
    "poda = 5 #Cuantos datos se dejan a cada lado al podar\n",
    "image_h = 1000\n",
    "image_w = 1400\n",
    "\n",
    "#---------------- Funciones ----------------\n",
    "\n",
    "\n",
    "#Toma el archivo a leer y si se quiere ordenar por tam o por tiempo promedio. Por default, se ordenan por num_tira\n",
    "\n",
    "def procesar_carpeta_nVar(folder_path):\n",
    "    tam = []\n",
    "    proms = []\n",
    "    vars = []\n",
    "    for root, dirs, files in os.walk(folder_path):\n",
    "        for file in files:\n",
    "            if file.endswith(\".csv\"):\n",
    "                file = folder_path + \"/\" + file\n",
    "                f = open(file, 'r')\n",
    "                datos = procesar_csv_nVar(file)\n",
    "                tam.append(datos[0])\n",
    "                proms.append(datos[1])\n",
    "                vars.append(datos[2])\n",
    "                f.close()\n",
    "    \n",
    "    dict = {\"Tam\": tam, \"Proms\": proms, \"Vars\": vars}\n",
    "    df = pd.DataFrame(data = dict)\n",
    "    df.sort_values(\"Tam\", inplace = True)\n",
    "    return df\n",
    "\n",
    "#Experimentos 1.2, 3.2, %k utilizables o %const variable\n",
    "def procesar_csv_pctVar(data_path, var):  #var es string. Ejs: pctConst, pctK\n",
    "    df = pd.read_csv(data_path, sep = \";\")\n",
    "    cant_exp = df.shape[0] #Shape = (filas, columnas)\n",
    "    pct_prom = df[var].mean().round()\n",
    "    proms = []\n",
    "    #Ordeno las instancias por tiempo\n",
    "    df.sort_values(\"Tiempo\", inplace = \"True\")\n",
    "    #Descarto los valores en los extremos\n",
    "    df = df.iloc[poda : cant_exp - poda, :]\n",
    "\n",
    "    promedio = df[\"Tiempo\"].mean() #Promedio podado de las instancias\n",
    "    \n",
    "    ret_data = pct_prom, promedio\n",
    "    \n",
    "    return ret_data\n",
    "\n",
    "def procesar_carpeta_pctVar(folder_path, var):\n",
    "    pctVar = []\n",
    "    proms = []\n",
    "    for root, dirs, files in os.walk(folder_path):\n",
    "        for file in files:\n",
    "            if file.endswith(\".csv\"):\n",
    "                file = folder_path + \"/\" + file\n",
    "                f = open(file, 'r')\n",
    "                datos = procesar_csv_pctVar(file, var)\n",
    "                pctVar.append(datos[0])\n",
    "                proms.append(datos[1])\n",
    "                f.close()\n",
    "    \n",
    "    dict = {var: pctVar, \"Proms\": proms}\n",
    "    df = pd.DataFrame(data = dict)\n",
    "    df.sort_values(var, inplace = True)\n",
    "    return df      \n",
    "\n",
    "#Exp 1.1\n",
    "def procesar_archivo_ej1_exp1(data_path):\n",
    "    df = pd.read_csv(data_path, sep = \";\")\n",
    "    cant_exp = df.shape[0] #Shape = (filas, columnas)\n",
    "    proms = []\n",
    "    #Ordeno las instancias por tiempo\n",
    "    df.sort_values(\"Tiempo\", inplace = \"True\")\n",
    "    #Descarto los valores en los extremos\n",
    "    df = df.iloc[poda : cant_exp - poda, :]\n",
    "\n",
    "    promedio = df[\"Tiempo\"].mean() #Promedio podado de las instancias\n",
    "    \n",
    "    return promedio\n",
    "\n",
    "def procesar_carpeta_ej1_exp1(folder_path):\n",
    "    #Settings\n",
    "    cant_caminos = [5, 10, 15, 20, 25, 30, 35, 40, 50, 75, 80, 95, 100]\n",
    "    buenosCasos = []\n",
    "    malosCasos = []\n",
    "    largo_camino = 20\n",
    "    for root, dirs, files in os.walk(folder_path):\n",
    "        for file in files:\n",
    "            if file.endswith(\".csv\"):\n",
    "                file = folder_path + \"/\" + file\n",
    "                f = open(file, 'r')\n",
    "                prom = procesar_archivo_ej1_exp1(file)\n",
    "                caminos_exp = [int(s) for s in re.split('[_ .]', file)  if s.isdigit()]\n",
    "                if \"buenCaso\" in file:\n",
    "                    buenosCasos.append((prom, caminos_exp))\n",
    "                else:\n",
    "                    malosCasos.append((prom, caminos_exp))\n",
    "                f.close()\n",
    "    \n",
    "    buenosCasos = sorted(buenosCasos, key = itemgetter(1))\n",
    "    malosCasos = sorted(malosCasos, key = itemgetter(1))\n",
    "    \n",
    "    return cant_caminos, largo_camino, buenosCasos, malosCasos\n",
    "\n",
    "#Exp 1.2\n",
    "def procesar_archivo_ej1_exp2(data_path): # NO SE USA\n",
    "    df = pd.read_csv(data_path, sep = \";\")\n",
    "    cant_instancias = df.shape[0] #Shape = (filas, columnas)\n",
    "    #Cuanto cantidad de veces que no encontro solucion\n",
    "    sin_solucion = df[\"Sol\"].tolist().count(-1)\n",
    "    print sin_solucion\n",
    "    con_solucion = cant_instancias - sin_solucion\n",
    "    \n",
    "    return sin_solucion, con_solucion\n",
    "\n",
    "def procesar_carpeta_ej1_exp2(folder_path):\n",
    "    #Settings\n",
    "    casos = []\n",
    "    promedios = []\n",
    "    for root, dirs, files in os.walk(folder_path):\n",
    "        for file in files:\n",
    "            if file.endswith(\".csv\"):\n",
    "                file = folder_path + \"/\" + file\n",
    "                f = open(file, 'r')\n",
    "                prom = procesar_archivo_ej1_exp1(file)\n",
    "                datos_exp = tuple([int(s) for s in re.split('[_ .]', file)  if s.isdigit()])\n",
    "                casos.append(datos_exp)\n",
    "                promedios.append(prom)\n",
    "                f.close()\n",
    "    \n",
    "    ordenados = zip(casos, promedios)\n",
    "    ordenados.sort()\n",
    "    c, p = zip(*ordenados)\n",
    "    return c, p\n",
    "\n",
    "def crearFig_ej1_exp2(ej1_exp2_casos, ej1_exp2_proms, fig_title):\n",
    "    traces = []\n",
    "    grupos = []\n",
    "    for tup, prom in zip(ej1_exp2_casos, ej1_exp2_proms):\n",
    "        grupo = str(tup[0])\n",
    "        grupos.append(grupo)\n",
    "        k = str(tup[1])\n",
    "        trace = go.Bar(\n",
    "            x = [int(grupo)],\n",
    "            y = [prom],\n",
    "            name = grupo + \"_\" + k,\n",
    "            legendgroup = grupo\n",
    "        )\n",
    "        traces.append(trace)\n",
    "    \n",
    "    layout = go.Layout(\n",
    "        title = fig_title,\n",
    "        barmode = 'group',\n",
    "        xaxis = dict(\n",
    "            title = \"Cantidad de caminos\"\n",
    "        ),\n",
    "        yaxis = dict(\n",
    "            title = \"Tiempo (ns)\"\n",
    "        )\n",
    "    )\n",
    "    return go.Figure(data = traces, layout = layout)\n",
    "\n",
    "#Experimentos 2.1 y 3.1, n variable\n",
    "def procesar_archivo_tiempoVsTam(data_path):\n",
    "    df = pd.read_csv(data_path, sep = \";\")\n",
    "    cant_exp = df.shape[0] #Shape = (filas, columnas)\n",
    "    proms = []\n",
    "    #Ordeno las instancias por tiempo\n",
    "    df.sort_values(\"Tiempo\", inplace = \"True\")\n",
    "    #Descarto los valores en los extremos\n",
    "    df = df.iloc[poda : cant_exp - poda, :]\n",
    "\n",
    "    promedio = df[\"Tiempo\"].mean() #Promedio podado de las instancias\n",
    "    varianza = df[\"Tiempo\"].var()  #Varianza de los tiempos\n",
    "    v = df[\"V\"].iloc[0]    \n",
    "    \n",
    "    \n",
    "    ret_data = v, promedio, varianza\n",
    "    \n",
    "    return ret_data\n",
    "\n",
    "def procesar_carpeta_ej2_exp1(folder_path):\n",
    "    #Settings\n",
    "    tams = []\n",
    "    promedios = []\n",
    "    varianzas = []\n",
    "    for root, dirs, files in os.walk(folder_path):\n",
    "        for file in files:\n",
    "            if file.endswith(\".csv\"):\n",
    "                file = folder_path + \"/\" + file\n",
    "                f = open(file, 'r')\n",
    "                tam, prom, var = procesar_archivo_tiempoVsTam(file)\n",
    "                tams.append(tam)\n",
    "                promedios.append(prom)\n",
    "                varianzas.append(var)\n",
    "                f.close()\n",
    "    \n",
    "    ordenados = zip(tams, promedios, varianzas)\n",
    "    ordenados.sort()\n",
    "    t, p, v = zip(*ordenados)\n",
    "    return t, p, v\n",
    "\n",
    "def procesar_archivo_ej2_exp2(data_path):\n",
    "    df = pd.read_csv(data_path, sep = \";\")\n",
    "    cant_exp = df.shape[0] #Shape = (filas, columnas)\n",
    "    proms = []\n",
    "    #Ordeno las instancias por tiempo\n",
    "    df.sort_values(\"Tiempo\", inplace = \"True\")\n",
    "    #Descarto los valores en los extremos\n",
    "    df = df.iloc[poda : cant_exp - poda, :]\n",
    "\n",
    "    promedio = df[\"Tiempo\"].mean() #Promedio podado de las instancias\n",
    "    varianza = df[\"Tiempo\"].var()  #Varianza de los tiempos\n",
    "    v = df[\"V\"].iloc[0]    \n",
    "    maxPeaje = df[\"MaxPeaje\"].iloc[0]\n",
    "    \n",
    "    return v, maxPeaje, promedio, varianza\n",
    "\n",
    "def procesar_carpeta_ej2_exp2(folder_path):\n",
    "    #Settings\n",
    "    maxPeajes = []\n",
    "    promedios = []\n",
    "    varianzas = []\n",
    "    for root, dirs, files in os.walk(folder_path):\n",
    "        for file in files:\n",
    "            if file.endswith(\".csv\"):\n",
    "                file = folder_path + \"/\" + file\n",
    "                f = open(file, 'r')\n",
    "                tam, maxPeaje, prom, var = procesar_archivo_ej2_exp2(file)\n",
    "                maxPeajes.append(maxPeaje)\n",
    "                promedios.append(prom)\n",
    "                varianzas.append(var)\n",
    "                f.close()\n",
    "    \n",
    "    ordenados = zip(maxPeajes, promedios, varianzas)\n",
    "    ordenados.sort()\n",
    "    mp, p, v = zip(*ordenados)\n",
    "    return tam, mp, p, v\n",
    "\n",
    "#Toma un vector de tuplas (x, y, nombre) y devuelve una figura con cada tupla de datos\n",
    "def crear_fig(traces, xtitle, ytitle, fig_title):\n",
    "    data = []\n",
    "    for trace in traces:\n",
    "        #Para que todas las traces sean distintas ademas del color\n",
    "        i = 0\n",
    "        modo = str(i)\n",
    "        i += 1\n",
    "\n",
    "        new_trace = go.Scatter(\n",
    "            x = trace[0],\n",
    "            y = trace[1],\n",
    "            name = trace[2],\n",
    "            mode = modo\n",
    "                \n",
    "        )\n",
    "        data.append(new_trace)\n",
    "    \n",
    "    layout = go.Layout(\n",
    "        xaxis=dict(\n",
    "            tickmode = \"auto\",\n",
    "            #nticks = cant_exp,\n",
    "            ticks = \"inside\",\n",
    "            #tick0 = 0,\n",
    "            #ticklen = 8,\n",
    "            #dtick = 3,\n",
    "            title = xtitle,\n",
    "            tickangle = 0\n",
    "        ),\n",
    "        yaxis=dict(\n",
    "            tick0 = 0,\n",
    "            zeroline = \"False\",\n",
    "            ticks='inside',\n",
    "            ticklen=8,\n",
    "            tickwidth=3,\n",
    "            tickcolor='#000',\n",
    "            title = ytitle\n",
    "        ),\n",
    "        legend=dict(\n",
    "            x=10,\n",
    "            y=1,\n",
    "            traceorder='normal',\n",
    "            font=dict(\n",
    "                family='sans-serif',\n",
    "                size=12,\n",
    "                color='#000'\n",
    "            ),\n",
    "            bgcolor='#E2E2E2',\n",
    "            bordercolor='#FFFFFF',\n",
    "            borderwidth=2\n",
    "        ),\n",
    "        title = fig_title\n",
    "    )\n",
    "    \n",
    "    return go.Figure(data=data, layout=layout)\n",
    "\n",
    "#---------------- Script ----------------\n",
    "\n",
    "#Procesamiento de datos\n",
    "\n",
    "data_ej1_exp1 = procesar_carpeta_ej1_exp1(\"Outputs/Ej1/outsTiempo/exp1\")\n",
    "ej1_exp1_cantCaminos =  data_ej1_exp1[0]\n",
    "ej1_exp1_largoCaminos = data_ej1_exp1[1]\n",
    "ej1_exp1_buenosCasos =  [tiempo[0] for tiempo in data_ej1_exp1[2]]\n",
    "ej1_exp1_malosCasos =  [tiempo[0] for tiempo in data_ej1_exp1[3]]\n",
    "\n",
    "\n",
    "data_ej1_exp2 = procesar_carpeta_ej1_exp2(\"Outputs/Ej1/outsTiempo/exp2\")\n",
    "ej1_exp2_casos = data_ej1_exp2[0] # Vector de  tuplas (cant_caminos, k)\n",
    "ej1_exp2_proms = data_ej1_exp2[1]\n",
    "\n",
    "data_ejer2_exp1 = procesar_carpeta_ej2_exp1(\"Outputs/Ej2/outsTiempo/exp1\")\n",
    "ejer2_exp1_tams =  data_ejer2_exp1[0]\n",
    "ejer2_exp1_proms =  data_ejer2_exp1[1]\n",
    "ejer2_exp1_vars =  data_ejer2_exp1[2]\n",
    "#ejer2_exp1_vars\n",
    "\n",
    "data_ejer2_exp2 = procesar_carpeta_ej2_exp2(\"Outputs/Ej2/outsTiempo/exp2\")\n",
    "ejer2_exp2_tam =  data_ejer2_exp2[0]\n",
    "ejer2_exp2_maxPeajes =  data_ejer2_exp2[1]\n",
    "ejer2_exp2_proms =  data_ejer2_exp2[2]\n",
    "ejer2_exp2_vars =  data_ejer2_exp2[3]\n",
    "\n",
    "data_ejer3_exp1 = procesar_carpeta_nVar(\"Outputs/Ej3/outsTiempo/exp1\")\n",
    "ejer3_exp1_tams =  data_ejer3_exp1[\"Tam\"]\n",
    "ejer3_exp1_proms =  data_ejer3_exp1[\"Proms\"]\n",
    "\n",
    "data_ejer3_exp2 = procesar_carpeta_pctVar(\"Outputs/Ej3/outsTiempo/exp2\", \"pctConst\")\n",
    "ejer3_exp2_pctConst =  data_ejer3_exp2[\"pctConst\"]\n",
    "ejer3_exp2_proms =  data_ejer3_exp2[\"Proms\"]\n",
    "\n",
    "#Traces\n",
    "ejer1_exp1_buenosCasos_trace = (ej1_exp1_cantCaminos, ej1_exp1_buenosCasos, \"ejer1_exp1_buenosCasos\")\n",
    "ejer1_exp1_malosCasos_trace = (ej1_exp1_cantCaminos, ej1_exp1_malosCasos, \"ejer1_exp1_malosCasos\")\n",
    "\n",
    "ejer2_exp1_trace = (ejer2_exp1_tams, ejer2_exp1_proms, \"ejer2_exp1\")\n",
    "ejer2_exp2_trace = (ejer2_exp2_maxPeajes, ejer2_exp2_proms, \"ejer2_exp2\")\n",
    "\n",
    "ejer3_exp1_trace = (ejer3_exp1_tams, ejer3_exp1_proms, \"ejer3_exp1\")\n",
    "ejer3_exp2_trace = (ejer3_exp2_pctConst, ejer3_exp2_proms, \"ejer3_exp2\")\n",
    "\n",
    "\n",
    "#Graficos\n",
    "\n",
    "#Exp 1.1\n",
    "nombre = \"Ejercicio 1, experimento 1. <br> Largo de los caminos = %d\" %ej1_exp1_largoCaminos\n",
    "\n",
    "traces = [ejer1_exp1_buenosCasos_trace, ejer1_exp1_malosCasos_trace]\n",
    "\n",
    "fig = crear_fig(traces, \"Cantidad de caminos\", \"Tiempo promedio (ns)\", nombre)\n",
    "\n",
    "plotly.offline.iplot(fig)\n",
    "\n",
    "#Exp 1.2\n",
    "nombre = \"Ejercicio 1, experimento 2. <br> Largo de los caminos = cantidad de caminos - 1\"\n",
    "\n",
    "fig = crearFig_ej1_exp2(ej1_exp2_casos, ej1_exp2_proms, nombre)\n",
    "\n",
    "plotly.offline.iplot(fig)\n",
    "\n",
    "#Exp 2.1\n",
    "nombre = \"Ejercicio 2, experimento 1.\"\n",
    "\n",
    "traces = [ejer2_exp1_trace]\n",
    "\n",
    "fig = crear_fig(traces, \"Cantidad de vertices\", \"Tiempo promedio (ns)\", nombre)\n",
    "\n",
    "plotly.offline.iplot(fig)\n",
    "\n",
    "#Exp 2.1\n",
    "nombre = \"Ejercicio 2, experimento 2. <br> n = %d\" %ejer2_exp2_tam\n",
    "\n",
    "traces = [ejer2_exp2_trace]\n",
    "\n",
    "fig = crear_fig(traces, \"Costo del peaje más caro\", \"Tiempo promedio (ns)\", nombre)\n",
    "\n",
    "plotly.offline.iplot(fig)\n",
    "\n",
    "#Exp 3.1\n",
    "nombre = \"Ejercicio 3, experimento 1.\"\n",
    "\n",
    "traces = [ejer3_exp1_trace]\n",
    "\n",
    "fig = crear_fig(traces, \"Cantidad de vertices\", \"Tiempo promedio (ns)\", nombre)\n",
    "\n",
    "plotly.offline.iplot(fig)\n",
    "\n",
    "#Exp 3.2\n",
    "nombre = \"Ejercicio 3, experimento 2.\"\n",
    "\n",
    "traces = [ejer3_exp2_trace]\n",
    "\n",
    "fig = crear_fig(traces, \"Procentaje de rutas construidas\", \"Tiempo promedio (ns)\", nombre)\n",
    "\n",
    "plotly.offline.iplot(fig)\n",
    "\n"
   ]
  },
  {
   "cell_type": "code",
   "execution_count": null,
   "metadata": {
    "collapsed": true,
    "deletable": true,
    "editable": true
   },
   "outputs": [],
   "source": []
  }
 ],
 "metadata": {
  "kernelspec": {
   "display_name": "Python 2",
   "language": "python",
   "name": "python2"
  },
  "language_info": {
   "codemirror_mode": {
    "name": "ipython",
    "version": 2
   },
   "file_extension": ".py",
   "mimetype": "text/x-python",
   "name": "python",
   "nbconvert_exporter": "python",
   "pygments_lexer": "ipython2",
   "version": "2.7.12"
  }
 },
 "nbformat": 4,
 "nbformat_minor": 1
}
