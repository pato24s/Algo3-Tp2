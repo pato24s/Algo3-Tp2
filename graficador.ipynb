{
 "cells": [
  {
   "cell_type": "code",
   "execution_count": 23,
   "metadata": {
    "collapsed": false,
    "deletable": true,
    "editable": true,
    "scrolled": false
   },
   "outputs": [
    {
     "data": {
      "text/html": [
       "<script>requirejs.config({paths: { 'plotly': ['https://cdn.plot.ly/plotly-latest.min']},});if(!window.Plotly) {{require(['plotly'],function(plotly) {window.Plotly=plotly;});}}</script>"
      ],
      "text/vnd.plotly.v1+html": [
       "<script>requirejs.config({paths: { 'plotly': ['https://cdn.plot.ly/plotly-latest.min']},});if(!window.Plotly) {{require(['plotly'],function(plotly) {window.Plotly=plotly;});}}</script>"
      ]
     },
     "metadata": {},
     "output_type": "display_data"
    },
    {
     "data": {
      "text/plain": [
       "[311086.70000000001,\n",
       " 466438.04999999999,\n",
       " 753056.32499999995,\n",
       " 1109279.2250000001,\n",
       " 1505904.95,\n",
       " 1935885.8500000001,\n",
       " 2439966.375,\n",
       " 3016560.8500000001,\n",
       " 4150210.3999999999,\n",
       " 7956493.9000000004,\n",
       " 8859797.1750000007,\n",
       " 11843651.550000001,\n",
       " 12902483.625]"
      ]
     },
     "execution_count": 23,
     "metadata": {},
     "output_type": "execute_result"
    },
    {
     "data": {
      "text/plain": [
       "[486855.5,\n",
       " 1845368.925,\n",
       " 4092114.7999999998,\n",
       " 7210127.875,\n",
       " 11227283.199999999,\n",
       " 16314347.525,\n",
       " 22167973.475000001,\n",
       " 28607047.125,\n",
       " 44602138.524999999,\n",
       " 99883505.575000003,\n",
       " 113547732.15000001,\n",
       " 161009354.65000001,\n",
       " 177205809.90000001]"
      ]
     },
     "execution_count": 23,
     "metadata": {},
     "output_type": "execute_result"
    },
    {
     "data": {
      "application/vnd.plotly.v1+json": {
       "data": [
        {
         "mode": "0",
         "name": "ejer1_exp1_buenosCasos",
         "type": "scatter",
         "x": [
          5,
          10,
          15,
          20,
          25,
          30,
          35,
          40,
          50,
          75,
          80,
          95,
          100
         ],
         "y": [
          311086.7,
          466438.05,
          753056.325,
          1109279.225,
          1505904.95,
          1935885.85,
          2439966.375,
          3016560.85,
          4150210.4,
          7956493.9,
          8859797.175,
          11843651.55,
          12902483.625
         ]
        },
        {
         "mode": "0",
         "name": "ejer1_exp1_malosCasos",
         "type": "scatter",
         "x": [
          5,
          10,
          15,
          20,
          25,
          30,
          35,
          40,
          50,
          75,
          80,
          95,
          100
         ],
         "y": [
          486855.5,
          1845368.925,
          4092114.8,
          7210127.875,
          11227283.2,
          16314347.525,
          22167973.475,
          28607047.125,
          44602138.525,
          99883505.575,
          113547732.15,
          161009354.65,
          177205809.9
         ]
        }
       ],
       "layout": {
        "legend": {
         "bgcolor": "#E2E2E2",
         "bordercolor": "#FFFFFF",
         "borderwidth": 2,
         "font": {
          "color": "#000",
          "family": "sans-serif",
          "size": 12
         },
         "traceorder": "normal",
         "x": 10,
         "y": 1
        },
        "title": "ejer1_exp1 <br> Largo de los caminos = 20",
        "xaxis": {
         "tickangle": 0,
         "tickmode": "auto",
         "ticks": "inside",
         "title": "Cantidad de caminos"
        },
        "yaxis": {
         "tick0": 0,
         "tickcolor": "#000",
         "ticklen": 8,
         "ticks": "inside",
         "tickwidth": 3,
         "title": "Tiempo promedio (ms)",
         "zeroline": "False"
        }
       }
      },
      "text/html": [
       "<div id=\"886361d8-fab0-402e-8412-52b65f4f80d4\" style=\"height: 525px; width: 100%;\" class=\"plotly-graph-div\"></div><script type=\"text/javascript\">require([\"plotly\"], function(Plotly) { window.PLOTLYENV=window.PLOTLYENV || {};window.PLOTLYENV.BASE_URL=\"https://plot.ly\";Plotly.newPlot(\"886361d8-fab0-402e-8412-52b65f4f80d4\", [{\"y\": [311086.7, 466438.05, 753056.325, 1109279.225, 1505904.95, 1935885.85, 2439966.375, 3016560.85, 4150210.4, 7956493.9, 8859797.175, 11843651.55, 12902483.625], \"x\": [5, 10, 15, 20, 25, 30, 35, 40, 50, 75, 80, 95, 100], \"type\": \"scatter\", \"name\": \"ejer1_exp1_buenosCasos\", \"mode\": \"0\"}, {\"y\": [486855.5, 1845368.925, 4092114.8, 7210127.875, 11227283.2, 16314347.525, 22167973.475, 28607047.125, 44602138.525, 99883505.575, 113547732.15, 161009354.65, 177205809.9], \"x\": [5, 10, 15, 20, 25, 30, 35, 40, 50, 75, 80, 95, 100], \"type\": \"scatter\", \"name\": \"ejer1_exp1_malosCasos\", \"mode\": \"0\"}], {\"yaxis\": {\"ticks\": \"inside\", \"tickwidth\": 3, \"title\": \"Tiempo promedio (ms)\", \"tick0\": 0, \"ticklen\": 8, \"zeroline\": \"False\", \"tickcolor\": \"#000\"}, \"legend\": {\"bordercolor\": \"#FFFFFF\", \"traceorder\": \"normal\", \"bgcolor\": \"#E2E2E2\", \"borderwidth\": 2, \"y\": 1, \"x\": 10, \"font\": {\"color\": \"#000\", \"family\": \"sans-serif\", \"size\": 12}}, \"xaxis\": {\"tickangle\": 0, \"ticks\": \"inside\", \"tickmode\": \"auto\", \"title\": \"Cantidad de caminos\"}, \"title\": \"ejer1_exp1 <br> Largo de los caminos = 20\"}, {\"linkText\": \"Export to plot.ly\", \"showLink\": true})});</script>"
      ],
      "text/vnd.plotly.v1+html": [
       "<div id=\"886361d8-fab0-402e-8412-52b65f4f80d4\" style=\"height: 525px; width: 100%;\" class=\"plotly-graph-div\"></div><script type=\"text/javascript\">require([\"plotly\"], function(Plotly) { window.PLOTLYENV=window.PLOTLYENV || {};window.PLOTLYENV.BASE_URL=\"https://plot.ly\";Plotly.newPlot(\"886361d8-fab0-402e-8412-52b65f4f80d4\", [{\"y\": [311086.7, 466438.05, 753056.325, 1109279.225, 1505904.95, 1935885.85, 2439966.375, 3016560.85, 4150210.4, 7956493.9, 8859797.175, 11843651.55, 12902483.625], \"x\": [5, 10, 15, 20, 25, 30, 35, 40, 50, 75, 80, 95, 100], \"type\": \"scatter\", \"name\": \"ejer1_exp1_buenosCasos\", \"mode\": \"0\"}, {\"y\": [486855.5, 1845368.925, 4092114.8, 7210127.875, 11227283.2, 16314347.525, 22167973.475, 28607047.125, 44602138.525, 99883505.575, 113547732.15, 161009354.65, 177205809.9], \"x\": [5, 10, 15, 20, 25, 30, 35, 40, 50, 75, 80, 95, 100], \"type\": \"scatter\", \"name\": \"ejer1_exp1_malosCasos\", \"mode\": \"0\"}], {\"yaxis\": {\"ticks\": \"inside\", \"tickwidth\": 3, \"title\": \"Tiempo promedio (ms)\", \"tick0\": 0, \"ticklen\": 8, \"zeroline\": \"False\", \"tickcolor\": \"#000\"}, \"legend\": {\"bordercolor\": \"#FFFFFF\", \"traceorder\": \"normal\", \"bgcolor\": \"#E2E2E2\", \"borderwidth\": 2, \"y\": 1, \"x\": 10, \"font\": {\"color\": \"#000\", \"family\": \"sans-serif\", \"size\": 12}}, \"xaxis\": {\"tickangle\": 0, \"ticks\": \"inside\", \"tickmode\": \"auto\", \"title\": \"Cantidad de caminos\"}, \"title\": \"ejer1_exp1 <br> Largo de los caminos = 20\"}, {\"linkText\": \"Export to plot.ly\", \"showLink\": true})});</script>"
      ]
     },
     "metadata": {},
     "output_type": "display_data"
    },
    {
     "data": {
      "application/vnd.plotly.v1+json": {
       "data": [
        {
         "mode": "0",
         "name": "ejer1_exp2",
         "type": "scatter",
         "x": [],
         "y": []
        }
       ],
       "layout": {
        "legend": {
         "bgcolor": "#E2E2E2",
         "bordercolor": "#FFFFFF",
         "borderwidth": 2,
         "font": {
          "color": "#000",
          "family": "sans-serif",
          "size": 12
         },
         "traceorder": "normal",
         "x": 10,
         "y": 1
        },
        "title": "ejer1_exp2",
        "xaxis": {
         "tickangle": 0,
         "tickmode": "auto",
         "ticks": "inside",
         "title": "Porcentaje de premiums utilizables"
        },
        "yaxis": {
         "tick0": 0,
         "tickcolor": "#000",
         "ticklen": 8,
         "ticks": "inside",
         "tickwidth": 3,
         "title": "Tiempo promedio (ms)",
         "zeroline": "False"
        }
       }
      },
      "text/html": [
       "<div id=\"025dd3bb-0d63-40e4-840e-a81ef53ee844\" style=\"height: 525px; width: 100%;\" class=\"plotly-graph-div\"></div><script type=\"text/javascript\">require([\"plotly\"], function(Plotly) { window.PLOTLYENV=window.PLOTLYENV || {};window.PLOTLYENV.BASE_URL=\"https://plot.ly\";Plotly.newPlot(\"025dd3bb-0d63-40e4-840e-a81ef53ee844\", [{\"y\": [], \"x\": [], \"type\": \"scatter\", \"name\": \"ejer1_exp2\", \"mode\": \"0\"}], {\"yaxis\": {\"ticks\": \"inside\", \"tickwidth\": 3, \"title\": \"Tiempo promedio (ms)\", \"tick0\": 0, \"ticklen\": 8, \"zeroline\": \"False\", \"tickcolor\": \"#000\"}, \"legend\": {\"bordercolor\": \"#FFFFFF\", \"traceorder\": \"normal\", \"bgcolor\": \"#E2E2E2\", \"borderwidth\": 2, \"y\": 1, \"x\": 10, \"font\": {\"color\": \"#000\", \"family\": \"sans-serif\", \"size\": 12}}, \"xaxis\": {\"tickangle\": 0, \"ticks\": \"inside\", \"tickmode\": \"auto\", \"title\": \"Porcentaje de premiums utilizables\"}, \"title\": \"ejer1_exp2\"}, {\"linkText\": \"Export to plot.ly\", \"showLink\": true})});</script>"
      ],
      "text/vnd.plotly.v1+html": [
       "<div id=\"025dd3bb-0d63-40e4-840e-a81ef53ee844\" style=\"height: 525px; width: 100%;\" class=\"plotly-graph-div\"></div><script type=\"text/javascript\">require([\"plotly\"], function(Plotly) { window.PLOTLYENV=window.PLOTLYENV || {};window.PLOTLYENV.BASE_URL=\"https://plot.ly\";Plotly.newPlot(\"025dd3bb-0d63-40e4-840e-a81ef53ee844\", [{\"y\": [], \"x\": [], \"type\": \"scatter\", \"name\": \"ejer1_exp2\", \"mode\": \"0\"}], {\"yaxis\": {\"ticks\": \"inside\", \"tickwidth\": 3, \"title\": \"Tiempo promedio (ms)\", \"tick0\": 0, \"ticklen\": 8, \"zeroline\": \"False\", \"tickcolor\": \"#000\"}, \"legend\": {\"bordercolor\": \"#FFFFFF\", \"traceorder\": \"normal\", \"bgcolor\": \"#E2E2E2\", \"borderwidth\": 2, \"y\": 1, \"x\": 10, \"font\": {\"color\": \"#000\", \"family\": \"sans-serif\", \"size\": 12}}, \"xaxis\": {\"tickangle\": 0, \"ticks\": \"inside\", \"tickmode\": \"auto\", \"title\": \"Porcentaje de premiums utilizables\"}, \"title\": \"ejer1_exp2\"}, {\"linkText\": \"Export to plot.ly\", \"showLink\": true})});</script>"
      ]
     },
     "metadata": {},
     "output_type": "display_data"
    },
    {
     "data": {
      "application/vnd.plotly.v1+json": {
       "data": [
        {
         "mode": "0",
         "name": "ejer2_exp1",
         "type": "scatter",
         "x": [],
         "y": []
        }
       ],
       "layout": {
        "legend": {
         "bgcolor": "#E2E2E2",
         "bordercolor": "#FFFFFF",
         "borderwidth": 2,
         "font": {
          "color": "#000",
          "family": "sans-serif",
          "size": 12
         },
         "traceorder": "normal",
         "x": 10,
         "y": 1
        },
        "title": "ejer2_exp1",
        "xaxis": {
         "tickangle": 0,
         "tickmode": "auto",
         "ticks": "inside",
         "title": "Cantidad de vertices"
        },
        "yaxis": {
         "tick0": 0,
         "tickcolor": "#000",
         "ticklen": 8,
         "ticks": "inside",
         "tickwidth": 3,
         "title": "Tiempo promedio (ms)",
         "zeroline": "False"
        }
       }
      },
      "text/html": [
       "<div id=\"7f148e85-4587-4124-b3fc-194740836ef8\" style=\"height: 525px; width: 100%;\" class=\"plotly-graph-div\"></div><script type=\"text/javascript\">require([\"plotly\"], function(Plotly) { window.PLOTLYENV=window.PLOTLYENV || {};window.PLOTLYENV.BASE_URL=\"https://plot.ly\";Plotly.newPlot(\"7f148e85-4587-4124-b3fc-194740836ef8\", [{\"y\": [], \"x\": [], \"type\": \"scatter\", \"name\": \"ejer2_exp1\", \"mode\": \"0\"}], {\"yaxis\": {\"ticks\": \"inside\", \"tickwidth\": 3, \"title\": \"Tiempo promedio (ms)\", \"tick0\": 0, \"ticklen\": 8, \"zeroline\": \"False\", \"tickcolor\": \"#000\"}, \"legend\": {\"bordercolor\": \"#FFFFFF\", \"traceorder\": \"normal\", \"bgcolor\": \"#E2E2E2\", \"borderwidth\": 2, \"y\": 1, \"x\": 10, \"font\": {\"color\": \"#000\", \"family\": \"sans-serif\", \"size\": 12}}, \"xaxis\": {\"tickangle\": 0, \"ticks\": \"inside\", \"tickmode\": \"auto\", \"title\": \"Cantidad de vertices\"}, \"title\": \"ejer2_exp1\"}, {\"linkText\": \"Export to plot.ly\", \"showLink\": true})});</script>"
      ],
      "text/vnd.plotly.v1+html": [
       "<div id=\"7f148e85-4587-4124-b3fc-194740836ef8\" style=\"height: 525px; width: 100%;\" class=\"plotly-graph-div\"></div><script type=\"text/javascript\">require([\"plotly\"], function(Plotly) { window.PLOTLYENV=window.PLOTLYENV || {};window.PLOTLYENV.BASE_URL=\"https://plot.ly\";Plotly.newPlot(\"7f148e85-4587-4124-b3fc-194740836ef8\", [{\"y\": [], \"x\": [], \"type\": \"scatter\", \"name\": \"ejer2_exp1\", \"mode\": \"0\"}], {\"yaxis\": {\"ticks\": \"inside\", \"tickwidth\": 3, \"title\": \"Tiempo promedio (ms)\", \"tick0\": 0, \"ticklen\": 8, \"zeroline\": \"False\", \"tickcolor\": \"#000\"}, \"legend\": {\"bordercolor\": \"#FFFFFF\", \"traceorder\": \"normal\", \"bgcolor\": \"#E2E2E2\", \"borderwidth\": 2, \"y\": 1, \"x\": 10, \"font\": {\"color\": \"#000\", \"family\": \"sans-serif\", \"size\": 12}}, \"xaxis\": {\"tickangle\": 0, \"ticks\": \"inside\", \"tickmode\": \"auto\", \"title\": \"Cantidad de vertices\"}, \"title\": \"ejer2_exp1\"}, {\"linkText\": \"Export to plot.ly\", \"showLink\": true})});</script>"
      ]
     },
     "metadata": {},
     "output_type": "display_data"
    },
    {
     "data": {
      "application/vnd.plotly.v1+json": {
       "data": [
        {
         "mode": "0",
         "name": "ejer3_exp1",
         "type": "scatter",
         "x": [],
         "y": []
        }
       ],
       "layout": {
        "legend": {
         "bgcolor": "#E2E2E2",
         "bordercolor": "#FFFFFF",
         "borderwidth": 2,
         "font": {
          "color": "#000",
          "family": "sans-serif",
          "size": 12
         },
         "traceorder": "normal",
         "x": 10,
         "y": 1
        },
        "title": "ejer3_exp1",
        "xaxis": {
         "tickangle": 0,
         "tickmode": "auto",
         "ticks": "inside",
         "title": "Cantidad de vertices"
        },
        "yaxis": {
         "tick0": 0,
         "tickcolor": "#000",
         "ticklen": 8,
         "ticks": "inside",
         "tickwidth": 3,
         "title": "Tiempo promedio (ms)",
         "zeroline": "False"
        }
       }
      },
      "text/html": [
       "<div id=\"9b4751c7-6fdd-45fe-97ce-9add913de1f4\" style=\"height: 525px; width: 100%;\" class=\"plotly-graph-div\"></div><script type=\"text/javascript\">require([\"plotly\"], function(Plotly) { window.PLOTLYENV=window.PLOTLYENV || {};window.PLOTLYENV.BASE_URL=\"https://plot.ly\";Plotly.newPlot(\"9b4751c7-6fdd-45fe-97ce-9add913de1f4\", [{\"y\": [], \"x\": [], \"type\": \"scatter\", \"name\": \"ejer3_exp1\", \"mode\": \"0\"}], {\"yaxis\": {\"ticks\": \"inside\", \"tickwidth\": 3, \"title\": \"Tiempo promedio (ms)\", \"tick0\": 0, \"ticklen\": 8, \"zeroline\": \"False\", \"tickcolor\": \"#000\"}, \"legend\": {\"bordercolor\": \"#FFFFFF\", \"traceorder\": \"normal\", \"bgcolor\": \"#E2E2E2\", \"borderwidth\": 2, \"y\": 1, \"x\": 10, \"font\": {\"color\": \"#000\", \"family\": \"sans-serif\", \"size\": 12}}, \"xaxis\": {\"tickangle\": 0, \"ticks\": \"inside\", \"tickmode\": \"auto\", \"title\": \"Cantidad de vertices\"}, \"title\": \"ejer3_exp1\"}, {\"linkText\": \"Export to plot.ly\", \"showLink\": true})});</script>"
      ],
      "text/vnd.plotly.v1+html": [
       "<div id=\"9b4751c7-6fdd-45fe-97ce-9add913de1f4\" style=\"height: 525px; width: 100%;\" class=\"plotly-graph-div\"></div><script type=\"text/javascript\">require([\"plotly\"], function(Plotly) { window.PLOTLYENV=window.PLOTLYENV || {};window.PLOTLYENV.BASE_URL=\"https://plot.ly\";Plotly.newPlot(\"9b4751c7-6fdd-45fe-97ce-9add913de1f4\", [{\"y\": [], \"x\": [], \"type\": \"scatter\", \"name\": \"ejer3_exp1\", \"mode\": \"0\"}], {\"yaxis\": {\"ticks\": \"inside\", \"tickwidth\": 3, \"title\": \"Tiempo promedio (ms)\", \"tick0\": 0, \"ticklen\": 8, \"zeroline\": \"False\", \"tickcolor\": \"#000\"}, \"legend\": {\"bordercolor\": \"#FFFFFF\", \"traceorder\": \"normal\", \"bgcolor\": \"#E2E2E2\", \"borderwidth\": 2, \"y\": 1, \"x\": 10, \"font\": {\"color\": \"#000\", \"family\": \"sans-serif\", \"size\": 12}}, \"xaxis\": {\"tickangle\": 0, \"ticks\": \"inside\", \"tickmode\": \"auto\", \"title\": \"Cantidad de vertices\"}, \"title\": \"ejer3_exp1\"}, {\"linkText\": \"Export to plot.ly\", \"showLink\": true})});</script>"
      ]
     },
     "metadata": {},
     "output_type": "display_data"
    },
    {
     "data": {
      "application/vnd.plotly.v1+json": {
       "data": [
        {
         "mode": "0",
         "name": "ejer3_exp2",
         "type": "scatter",
         "x": [],
         "y": []
        }
       ],
       "layout": {
        "legend": {
         "bgcolor": "#E2E2E2",
         "bordercolor": "#FFFFFF",
         "borderwidth": 2,
         "font": {
          "color": "#000",
          "family": "sans-serif",
          "size": 12
         },
         "traceorder": "normal",
         "x": 10,
         "y": 1
        },
        "title": "ejer3_exp2 <br> n = 100",
        "xaxis": {
         "tickangle": 0,
         "tickmode": "auto",
         "ticks": "inside",
         "title": "Procentaje de rutas construidas"
        },
        "yaxis": {
         "tick0": 0,
         "tickcolor": "#000",
         "ticklen": 8,
         "ticks": "inside",
         "tickwidth": 3,
         "title": "Tiempo promedio (ms)",
         "zeroline": "False"
        }
       }
      },
      "text/html": [
       "<div id=\"c5e601a9-bd58-4ba5-a95e-a74fa21ba5fb\" style=\"height: 525px; width: 100%;\" class=\"plotly-graph-div\"></div><script type=\"text/javascript\">require([\"plotly\"], function(Plotly) { window.PLOTLYENV=window.PLOTLYENV || {};window.PLOTLYENV.BASE_URL=\"https://plot.ly\";Plotly.newPlot(\"c5e601a9-bd58-4ba5-a95e-a74fa21ba5fb\", [{\"y\": [], \"x\": [], \"type\": \"scatter\", \"name\": \"ejer3_exp2\", \"mode\": \"0\"}], {\"yaxis\": {\"ticks\": \"inside\", \"tickwidth\": 3, \"title\": \"Tiempo promedio (ms)\", \"tick0\": 0, \"ticklen\": 8, \"zeroline\": \"False\", \"tickcolor\": \"#000\"}, \"legend\": {\"bordercolor\": \"#FFFFFF\", \"traceorder\": \"normal\", \"bgcolor\": \"#E2E2E2\", \"borderwidth\": 2, \"y\": 1, \"x\": 10, \"font\": {\"color\": \"#000\", \"family\": \"sans-serif\", \"size\": 12}}, \"xaxis\": {\"tickangle\": 0, \"ticks\": \"inside\", \"tickmode\": \"auto\", \"title\": \"Procentaje de rutas construidas\"}, \"title\": \"ejer3_exp2 <br> n = 100\"}, {\"linkText\": \"Export to plot.ly\", \"showLink\": true})});</script>"
      ],
      "text/vnd.plotly.v1+html": [
       "<div id=\"c5e601a9-bd58-4ba5-a95e-a74fa21ba5fb\" style=\"height: 525px; width: 100%;\" class=\"plotly-graph-div\"></div><script type=\"text/javascript\">require([\"plotly\"], function(Plotly) { window.PLOTLYENV=window.PLOTLYENV || {};window.PLOTLYENV.BASE_URL=\"https://plot.ly\";Plotly.newPlot(\"c5e601a9-bd58-4ba5-a95e-a74fa21ba5fb\", [{\"y\": [], \"x\": [], \"type\": \"scatter\", \"name\": \"ejer3_exp2\", \"mode\": \"0\"}], {\"yaxis\": {\"ticks\": \"inside\", \"tickwidth\": 3, \"title\": \"Tiempo promedio (ms)\", \"tick0\": 0, \"ticklen\": 8, \"zeroline\": \"False\", \"tickcolor\": \"#000\"}, \"legend\": {\"bordercolor\": \"#FFFFFF\", \"traceorder\": \"normal\", \"bgcolor\": \"#E2E2E2\", \"borderwidth\": 2, \"y\": 1, \"x\": 10, \"font\": {\"color\": \"#000\", \"family\": \"sans-serif\", \"size\": 12}}, \"xaxis\": {\"tickangle\": 0, \"ticks\": \"inside\", \"tickmode\": \"auto\", \"title\": \"Procentaje de rutas construidas\"}, \"title\": \"ejer3_exp2 <br> n = 100\"}, {\"linkText\": \"Export to plot.ly\", \"showLink\": true})});</script>"
      ]
     },
     "metadata": {},
     "output_type": "display_data"
    }
   ],
   "source": [
    "import os\n",
    "import plotly\n",
    "import pandas as pd\n",
    "import numpy as np\n",
    "import plotly.plotly as py\n",
    "import plotly.figure_factory as ff\n",
    "import plotly.graph_objs as go\n",
    "import collections\n",
    "import re\n",
    "from operator import itemgetter\n",
    "\n",
    "from IPython.core.interactiveshell import InteractiveShell\n",
    "InteractiveShell.ast_node_interactivity = \"all\"\n",
    "\n",
    "plotly.tools.set_credentials_file(username='Fernet', api_key='zC7ogVfVT5UPcpu2VKse')\n",
    "plotly.offline.init_notebook_mode(connected=True)\n",
    "\n",
    "#---------------- Settings ----------------\n",
    "\n",
    "image_ext = \"svg\" #Extension para bajar los graficos\n",
    "poda = 5 #Cuantos datos se dejan a cada lado al podar\n",
    "image_h = 1000\n",
    "image_w = 1400\n",
    "\n",
    "#---------------- Funciones ----------------\n",
    "\n",
    "\n",
    "#Toma el archivo a leer y si se quiere ordenar por tam o por tiempo promedio. Por default, se ordenan por num_tira\n",
    "\n",
    "#Experimentos 1.1, 2.1 y 3.1, n variable\n",
    "def procesar_csv_nVar(data_path):\n",
    "    df = pd.read_csv(data_path, sep = \";\")\n",
    "    cant_exp = df.shape[0] #Shape = (filas, columnas)\n",
    "    proms = []\n",
    "    #Ordeno las instancias por tiempo\n",
    "    df.sort_values(\"Tiempo\", inplace = \"True\")\n",
    "    #Descarto los valores en los extremos\n",
    "    df = df.iloc[poda : cant_exp - poda, :]\n",
    "\n",
    "    promedio = df[\"Tiempo\"].mean() #Promedio podado de las instancias\n",
    "    varianza = df[\"Tiempo\"].var()  #Varianza de los tiempos\n",
    "    v = df[\"V\"].iloc[0]    \n",
    "    \n",
    "    \n",
    "    ret_data = v, promedio, varianza\n",
    "    \n",
    "    return ret_data\n",
    "\n",
    "def procesar_carpeta_nVar(folder_path):\n",
    "    tam = []\n",
    "    proms = []\n",
    "    vars = []\n",
    "    for root, dirs, files in os.walk(folder_path):\n",
    "        for file in files:\n",
    "            if file.endswith(\".csv\"):\n",
    "                file = folder_path + \"/\" + file\n",
    "                f = open(file, 'r')\n",
    "                datos = procesar_csv_nVar(file)\n",
    "                tam.append(datos[0])\n",
    "                proms.append(datos[1])\n",
    "                vars.append(datos[2])\n",
    "                f.close()\n",
    "    \n",
    "    dict = {\"Tam\": tam, \"Proms\": proms, \"Vars\": vars}\n",
    "    df = pd.DataFrame(data = dict)\n",
    "    df.sort_values(\"Tam\", inplace = True)\n",
    "    return df\n",
    "\n",
    "#Experimentos 1.2, 3.2, %k utilizables o %const variable\n",
    "def procesar_csv_pctVar(data_path, var):  #var es string. Ejs: pctConst, pctK\n",
    "    df = pd.read_csv(data_path, sep = \";\")\n",
    "    cant_exp = df.shape[0] #Shape = (filas, columnas)\n",
    "    pct_prom = df[var].mean().round()\n",
    "    proms = []\n",
    "    #Ordeno las instancias por tiempo\n",
    "    df.sort_values(\"Tiempo\", inplace = \"True\")\n",
    "    #Descarto los valores en los extremos\n",
    "    df = df.iloc[poda : cant_exp - poda, :]\n",
    "\n",
    "    promedio = df[\"Tiempo\"].mean() #Promedio podado de las instancias\n",
    "    \n",
    "    ret_data = pct_prom, promedio\n",
    "    \n",
    "    return ret_data\n",
    "\n",
    "def procesar_carpeta_pctVar(folder_path, var):\n",
    "    pctVar = []\n",
    "    proms = []\n",
    "    for root, dirs, files in os.walk(folder_path):\n",
    "        for file in files:\n",
    "            if file.endswith(\".csv\"):\n",
    "                file = folder_path + \"/\" + file\n",
    "                f = open(file, 'r')\n",
    "                datos = procesar_csv_pctVar(file, var)\n",
    "                pctVar.append(datos[0])\n",
    "                proms.append(datos[1])\n",
    "                f.close()\n",
    "    \n",
    "    dict = {var: pctVar, \"Proms\": proms}\n",
    "    df = pd.DataFrame(data = dict)\n",
    "    df.sort_values(var, inplace = True)\n",
    "    return df      \n",
    "\n",
    "#Exp 1.1\n",
    "def procesaro_archivo_ej1_exp1(data_path):\n",
    "    df = pd.read_csv(data_path, sep = \";\")\n",
    "    cant_exp = df.shape[0] #Shape = (filas, columnas)\n",
    "    proms = []\n",
    "    #Ordeno las instancias por tiempo\n",
    "    df.sort_values(\"Tiempo\", inplace = \"True\")\n",
    "    #Descarto los valores en los extremos\n",
    "    df = df.iloc[poda : cant_exp - poda, :]\n",
    "\n",
    "    promedio = df[\"Tiempo\"].mean() #Promedio podado de las instancias\n",
    "    \n",
    "    return promedio\n",
    "\n",
    "def procesar_carpeta_ej1_exp1(folder_path):\n",
    "    #Settings\n",
    "    buenosCasos = []\n",
    "    malosCasos = []\n",
    "    cant_caminos = [5, 10, 15, 20, 25, 30, 35, 40, 50, 75, 80, 95, 100]\n",
    "    largo_camino = 20\n",
    "    for root, dirs, files in os.walk(folder_path):\n",
    "        for file in files:\n",
    "            if file.endswith(\".csv\"):\n",
    "                file = folder_path + \"/\" + file\n",
    "                f = open(file, 'r')\n",
    "                prom = procesaro_archivo_ej1_exp1(file)\n",
    "                caminos_exp = [int(s) for s in re.split('[_ .]', file)  if s.isdigit()]\n",
    "                caminos_exp\n",
    "                if \"buenCaso\" in file:\n",
    "                    buenosCasos.append((prom, caminos_exp))\n",
    "                else:\n",
    "                    malosCasos.append((prom, caminos_exp))\n",
    "                f.close()\n",
    "    \n",
    "    buenosCasos = sorted(buenosCasos, key = itemgetter(1))\n",
    "    malosCasos = sorted(malosCasos, key = itemgetter(1))\n",
    "    \n",
    "    return cant_caminos, largo_camino, buenosCasos, malosCasos\n",
    "\n",
    "#Toma un vector de tuplas (x, y, nombre) y devuelve una figura con cada tupla de datos\n",
    "def crear_fig(traces, xtitle, ytitle, fig_title):\n",
    "    data = []\n",
    "    for trace in traces:\n",
    "        #Para que todas las traces sean distintas ademas del color\n",
    "        i = 0\n",
    "        modo = str(i)\n",
    "        i += 1\n",
    "\n",
    "        new_trace = go.Scatter(\n",
    "            x = trace[0],\n",
    "            y = trace[1],\n",
    "            name = trace[2],\n",
    "            mode = modo\n",
    "                \n",
    "        )\n",
    "        data.append(new_trace)\n",
    "    \n",
    "    layout = go.Layout(\n",
    "        xaxis=dict(\n",
    "            tickmode = \"auto\",\n",
    "            #nticks = cant_exp,\n",
    "            ticks = \"inside\",\n",
    "            #tick0 = 0,\n",
    "            #ticklen = 8,\n",
    "            #dtick = 3,\n",
    "            title = xtitle,\n",
    "            tickangle = 0\n",
    "        ),\n",
    "        yaxis=dict(\n",
    "            tick0 = 0,\n",
    "            zeroline = \"False\",\n",
    "            ticks='inside',\n",
    "            ticklen=8,\n",
    "            tickwidth=3,\n",
    "            tickcolor='#000',\n",
    "            title = ytitle\n",
    "        ),\n",
    "        legend=dict(\n",
    "            x=10,\n",
    "            y=1,\n",
    "            traceorder='normal',\n",
    "            font=dict(\n",
    "                family='sans-serif',\n",
    "                size=12,\n",
    "                color='#000'\n",
    "            ),\n",
    "            bgcolor='#E2E2E2',\n",
    "            bordercolor='#FFFFFF',\n",
    "            borderwidth=2\n",
    "        ),\n",
    "        title = fig_title\n",
    "    )\n",
    "    \n",
    "    return go.Figure(data=data, layout=layout)\n",
    "\n",
    "#---------------- Script ----------------\n",
    "\n",
    "#Procesamiento de datos\n",
    "\n",
    "data_ej1_exp1 = procesar_carpeta_ej1_exp1(\"Outputs/Ej1/outsTiempo/exp1\")\n",
    "ej1_exp1_cantCaminos =  data_ej1_exp1[0]\n",
    "ej1_exp1_largoCaminos = data_ej1_exp1[1]\n",
    "ej1_exp1_buenosCasos =  [tiempo[0] for tiempo in data_ej1_exp1[2]]\n",
    "ej1_exp1_malosCasos =  [tiempo[0] for tiempo in data_ej1_exp1[3]]\n",
    "\n",
    "\n",
    "data_ejer1_exp2 = procesar_carpeta_pctVar(\"Outputs/Ej1/outsTiempo/exp2\", \"pctK\")\n",
    "ejer1_exp2_pctK =  data_ejer1_exp2[\"pctK\"]\n",
    "ejer1_exp2_proms =  data_ejer1_exp2[\"Proms\"]\n",
    "\n",
    "data_ejer2_exp1 = procesar_carpeta_nVar(\"Outputs/Ej2/outsTiempo/exp1\")\n",
    "ejer2_exp1_tams =  data_ejer2_exp1[\"Tam\"]\n",
    "ejer2_exp1_proms =  data_ejer2_exp1[\"Proms\"]\n",
    "\n",
    "data_ejer3_exp1 = procesar_carpeta_nVar(\"Outputs/Ej3/outsTiempo/exp1\")\n",
    "ejer3_exp1_tams =  data_ejer3_exp1[\"Tam\"]\n",
    "ejer3_exp1_proms =  data_ejer3_exp1[\"Proms\"]\n",
    "\n",
    "data_ejer3_exp2 = procesar_carpeta_pctVar(\"Outputs/Ej3/outsTiempo/exp2\", \"pctConst\")\n",
    "ejer3_exp2_pctConst =  data_ejer3_exp2[\"pctConst\"]\n",
    "ejer3_exp2_proms =  data_ejer3_exp2[\"Proms\"]\n",
    "\n",
    "# #Traces\n",
    "ejer1_exp1_buenosCasos_trace = (ej1_exp1_cantCaminos, ej1_exp1_buenosCasos, \"ejer1_exp1_buenosCasos\")\n",
    "ejer1_exp1_malosCasos_trace = (ej1_exp1_cantCaminos, ej1_exp1_malosCasos, \"ejer1_exp1_malosCasos\")\n",
    "\n",
    "\n",
    "ejer1_exp2_trace = (ejer1_exp2_pctK, ejer2_exp1_proms, \"ejer1_exp2\")\n",
    "\n",
    "ejer2_exp1_trace = (ejer2_exp1_tams, ejer2_exp1_proms, \"ejer2_exp1\")\n",
    "\n",
    "ejer3_exp1_trace = (ejer3_exp1_tams, ejer3_exp1_proms, \"ejer3_exp1\")\n",
    "ejer3_exp2_trace = (ejer3_exp2_pctConst, ejer3_exp2_proms, \"ejer3_exp2\")\n",
    "\n",
    "\n",
    "#Graficos\n",
    "\n",
    "#Exp 1.1\n",
    "nombre = \"ejer1_exp1 <br> Largo de los caminos = %d\" %ej1_exp1_largoCaminos\n",
    "\n",
    "traces = [ejer1_exp1_buenosCasos_trace, ejer1_exp1_malosCasos_trace]\n",
    "\n",
    "fig = crear_fig(traces, \"Cantidad de caminos\", \"Tiempo promedio (ms)\", nombre)\n",
    "\n",
    "plotly.offline.iplot(fig)\n",
    "\n",
    "#Exp 1.2\n",
    "nombre = \"ejer1_exp2\"\n",
    "\n",
    "traces = [ejer1_exp2_trace]\n",
    "\n",
    "fig = crear_fig(traces, \"Porcentaje de premiums utilizables\", \"Tiempo promedio (ms)\", nombre)\n",
    "\n",
    "plotly.offline.iplot(fig)\n",
    "\n",
    "#Exp 2.1\n",
    "nombre = \"ejer2_exp1\"\n",
    "\n",
    "traces = [ejer2_exp1_trace]\n",
    "\n",
    "fig = crear_fig(traces, \"Cantidad de vertices\", \"Tiempo promedio (ms)\", nombre)\n",
    "\n",
    "plotly.offline.iplot(fig)\n",
    "\n",
    "#Exp 3.1\n",
    "nombre = \"ejer3_exp1\"\n",
    "\n",
    "traces = [ejer3_exp1_trace]\n",
    "\n",
    "fig = crear_fig(traces, \"Cantidad de vertices\", \"Tiempo promedio (ms)\", nombre)\n",
    "\n",
    "plotly.offline.iplot(fig)\n",
    "\n",
    "#Exp 3.2\n",
    "nombre = \"ejer3_exp2 <br> n = 100\"\n",
    "\n",
    "traces = [ejer3_exp2_trace]\n",
    "\n",
    "fig = crear_fig(traces, \"Procentaje de rutas construidas\", \"Tiempo promedio (ms)\", nombre)\n",
    "\n",
    "plotly.offline.iplot(fig)\n",
    "\n"
   ]
  },
  {
   "cell_type": "code",
   "execution_count": 15,
   "metadata": {
    "collapsed": false,
    "deletable": true,
    "editable": true
   },
   "outputs": [
    {
     "data": {
      "text/plain": [
       "['hola', 'exp1', 'ejer2', '5', 'csv']"
      ]
     },
     "execution_count": 15,
     "metadata": {},
     "output_type": "execute_result"
    }
   ],
   "source": [
    "import re\n",
    "file = \"hola_exp1_ejer2_5.csv\"\n",
    "split = )\n",
    "split"
   ]
  },
  {
   "cell_type": "code",
   "execution_count": null,
   "metadata": {
    "collapsed": true
   },
   "outputs": [],
   "source": []
  }
 ],
 "metadata": {
  "kernelspec": {
   "display_name": "Python 2",
   "language": "python",
   "name": "python2"
  },
  "language_info": {
   "codemirror_mode": {
    "name": "ipython",
    "version": 2
   },
   "file_extension": ".py",
   "mimetype": "text/x-python",
   "name": "python",
   "nbconvert_exporter": "python",
   "pygments_lexer": "ipython2",
   "version": "2.7.12"
  }
 },
 "nbformat": 4,
 "nbformat_minor": 1
}
