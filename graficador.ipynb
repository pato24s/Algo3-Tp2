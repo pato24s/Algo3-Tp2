{
 "cells": [
  {
   "cell_type": "code",
   "execution_count": 9,
   "metadata": {
    "collapsed": false,
    "deletable": true,
    "editable": true,
    "scrolled": false
   },
   "outputs": [
    {
     "data": {
      "text/html": [
       "<script>requirejs.config({paths: { 'plotly': ['https://cdn.plot.ly/plotly-latest.min']},});if(!window.Plotly) {{require(['plotly'],function(plotly) {window.Plotly=plotly;});}}</script>"
      ],
      "text/vnd.plotly.v1+html": [
       "<script>requirejs.config({paths: { 'plotly': ['https://cdn.plot.ly/plotly-latest.min']},});if(!window.Plotly) {{require(['plotly'],function(plotly) {window.Plotly=plotly;});}}</script>"
      ]
     },
     "metadata": {},
     "output_type": "display_data"
    },
    {
     "data": {
      "application/vnd.plotly.v1+json": {
       "data": [
        {
         "legendgroup": "8",
         "name": "8_1",
         "type": "bar",
         "x": [
          8
         ],
         "y": [
          194266.875
         ]
        },
        {
         "legendgroup": "8",
         "name": "8_3",
         "type": "bar",
         "x": [
          8
         ],
         "y": [
          534175.325
         ]
        },
        {
         "legendgroup": "8",
         "name": "8_5",
         "type": "bar",
         "x": [
          8
         ],
         "y": [
          727771.225
         ]
        },
        {
         "legendgroup": "8",
         "name": "8_7",
         "type": "bar",
         "x": [
          8
         ],
         "y": [
          537344.55
         ]
        },
        {
         "legendgroup": "8",
         "name": "8_8",
         "type": "bar",
         "x": [
          8
         ],
         "y": [
          605068.575
         ]
        },
        {
         "legendgroup": "10",
         "name": "10_1",
         "type": "bar",
         "x": [
          10
         ],
         "y": [
          431154.8
         ]
        },
        {
         "legendgroup": "10",
         "name": "10_3",
         "type": "bar",
         "x": [
          10
         ],
         "y": [
          1295015.8
         ]
        },
        {
         "legendgroup": "10",
         "name": "10_5",
         "type": "bar",
         "x": [
          10
         ],
         "y": [
          2228128.475
         ]
        },
        {
         "legendgroup": "10",
         "name": "10_8",
         "type": "bar",
         "x": [
          10
         ],
         "y": [
          2224829.5
         ]
        },
        {
         "legendgroup": "10",
         "name": "10_10",
         "type": "bar",
         "x": [
          10
         ],
         "y": [
          1898310.4
         ]
        },
        {
         "legendgroup": "12",
         "name": "12_1",
         "type": "bar",
         "x": [
          12
         ],
         "y": [
          852632.025
         ]
        },
        {
         "legendgroup": "12",
         "name": "12_3",
         "type": "bar",
         "x": [
          12
         ],
         "y": [
          2681538.05
         ]
        },
        {
         "legendgroup": "12",
         "name": "12_5",
         "type": "bar",
         "x": [
          12
         ],
         "y": [
          5013725.825
         ]
        },
        {
         "legendgroup": "12",
         "name": "12_10",
         "type": "bar",
         "x": [
          12
         ],
         "y": [
          6426845.45
         ]
        },
        {
         "legendgroup": "12",
         "name": "12_12",
         "type": "bar",
         "x": [
          12
         ],
         "y": [
          5342080.475
         ]
        }
       ],
       "layout": {
        "barmode": "group",
        "title": "Ejercicio 1, experimento 2. <br>Largo de los caminos = cantidad de caminos - 1",
        "xaxis": {
         "title": "Cantidad de caminos"
        },
        "yaxis": {
         "title": "Tiempo (ns)"
        }
       }
      },
      "text/html": [
       "<div id=\"4b73e771-2588-4d82-81f6-13e4b6570877\" style=\"height: 525px; width: 100%;\" class=\"plotly-graph-div\"></div><script type=\"text/javascript\">require([\"plotly\"], function(Plotly) { window.PLOTLYENV=window.PLOTLYENV || {};window.PLOTLYENV.BASE_URL=\"https://plot.ly\";Plotly.newPlot(\"4b73e771-2588-4d82-81f6-13e4b6570877\", [{\"y\": [194266.875], \"x\": [8], \"legendgroup\": \"8\", \"type\": \"bar\", \"name\": \"8_1\"}, {\"y\": [534175.325], \"x\": [8], \"legendgroup\": \"8\", \"type\": \"bar\", \"name\": \"8_3\"}, {\"y\": [727771.225], \"x\": [8], \"legendgroup\": \"8\", \"type\": \"bar\", \"name\": \"8_5\"}, {\"y\": [537344.55], \"x\": [8], \"legendgroup\": \"8\", \"type\": \"bar\", \"name\": \"8_7\"}, {\"y\": [605068.575], \"x\": [8], \"legendgroup\": \"8\", \"type\": \"bar\", \"name\": \"8_8\"}, {\"y\": [431154.8], \"x\": [10], \"legendgroup\": \"10\", \"type\": \"bar\", \"name\": \"10_1\"}, {\"y\": [1295015.8], \"x\": [10], \"legendgroup\": \"10\", \"type\": \"bar\", \"name\": \"10_3\"}, {\"y\": [2228128.475], \"x\": [10], \"legendgroup\": \"10\", \"type\": \"bar\", \"name\": \"10_5\"}, {\"y\": [2224829.5], \"x\": [10], \"legendgroup\": \"10\", \"type\": \"bar\", \"name\": \"10_8\"}, {\"y\": [1898310.4], \"x\": [10], \"legendgroup\": \"10\", \"type\": \"bar\", \"name\": \"10_10\"}, {\"y\": [852632.025], \"x\": [12], \"legendgroup\": \"12\", \"type\": \"bar\", \"name\": \"12_1\"}, {\"y\": [2681538.05], \"x\": [12], \"legendgroup\": \"12\", \"type\": \"bar\", \"name\": \"12_3\"}, {\"y\": [5013725.825], \"x\": [12], \"legendgroup\": \"12\", \"type\": \"bar\", \"name\": \"12_5\"}, {\"y\": [6426845.45], \"x\": [12], \"legendgroup\": \"12\", \"type\": \"bar\", \"name\": \"12_10\"}, {\"y\": [5342080.475], \"x\": [12], \"legendgroup\": \"12\", \"type\": \"bar\", \"name\": \"12_12\"}], {\"barmode\": \"group\", \"title\": \"Ejercicio 1, experimento 2. <br>Largo de los caminos = cantidad de caminos - 1\", \"xaxis\": {\"title\": \"Cantidad de caminos\"}, \"yaxis\": {\"title\": \"Tiempo (ns)\"}}, {\"linkText\": \"Export to plot.ly\", \"showLink\": true})});</script>"
      ],
      "text/vnd.plotly.v1+html": [
       "<div id=\"4b73e771-2588-4d82-81f6-13e4b6570877\" style=\"height: 525px; width: 100%;\" class=\"plotly-graph-div\"></div><script type=\"text/javascript\">require([\"plotly\"], function(Plotly) { window.PLOTLYENV=window.PLOTLYENV || {};window.PLOTLYENV.BASE_URL=\"https://plot.ly\";Plotly.newPlot(\"4b73e771-2588-4d82-81f6-13e4b6570877\", [{\"y\": [194266.875], \"x\": [8], \"legendgroup\": \"8\", \"type\": \"bar\", \"name\": \"8_1\"}, {\"y\": [534175.325], \"x\": [8], \"legendgroup\": \"8\", \"type\": \"bar\", \"name\": \"8_3\"}, {\"y\": [727771.225], \"x\": [8], \"legendgroup\": \"8\", \"type\": \"bar\", \"name\": \"8_5\"}, {\"y\": [537344.55], \"x\": [8], \"legendgroup\": \"8\", \"type\": \"bar\", \"name\": \"8_7\"}, {\"y\": [605068.575], \"x\": [8], \"legendgroup\": \"8\", \"type\": \"bar\", \"name\": \"8_8\"}, {\"y\": [431154.8], \"x\": [10], \"legendgroup\": \"10\", \"type\": \"bar\", \"name\": \"10_1\"}, {\"y\": [1295015.8], \"x\": [10], \"legendgroup\": \"10\", \"type\": \"bar\", \"name\": \"10_3\"}, {\"y\": [2228128.475], \"x\": [10], \"legendgroup\": \"10\", \"type\": \"bar\", \"name\": \"10_5\"}, {\"y\": [2224829.5], \"x\": [10], \"legendgroup\": \"10\", \"type\": \"bar\", \"name\": \"10_8\"}, {\"y\": [1898310.4], \"x\": [10], \"legendgroup\": \"10\", \"type\": \"bar\", \"name\": \"10_10\"}, {\"y\": [852632.025], \"x\": [12], \"legendgroup\": \"12\", \"type\": \"bar\", \"name\": \"12_1\"}, {\"y\": [2681538.05], \"x\": [12], \"legendgroup\": \"12\", \"type\": \"bar\", \"name\": \"12_3\"}, {\"y\": [5013725.825], \"x\": [12], \"legendgroup\": \"12\", \"type\": \"bar\", \"name\": \"12_5\"}, {\"y\": [6426845.45], \"x\": [12], \"legendgroup\": \"12\", \"type\": \"bar\", \"name\": \"12_10\"}, {\"y\": [5342080.475], \"x\": [12], \"legendgroup\": \"12\", \"type\": \"bar\", \"name\": \"12_12\"}], {\"barmode\": \"group\", \"title\": \"Ejercicio 1, experimento 2. <br>Largo de los caminos = cantidad de caminos - 1\", \"xaxis\": {\"title\": \"Cantidad de caminos\"}, \"yaxis\": {\"title\": \"Tiempo (ns)\"}}, {\"linkText\": \"Export to plot.ly\", \"showLink\": true})});</script>"
      ]
     },
     "metadata": {},
     "output_type": "display_data"
    },
    {
     "data": {
      "text/html": [
       "<script>function downloadimage(format, height, width, filename) {var p = document.getElementById('4b73e771-2588-4d82-81f6-13e4b6570877');Plotly.downloadImage(p, {format: format, height: height, width: width, filename: filename});};if(document.readyState == 'complete') {{downloadimage('svg', 600, 800, 'Ej1Exp2Barras');}}</script>"
      ],
      "text/plain": [
       "<IPython.core.display.HTML object>"
      ]
     },
     "metadata": {},
     "output_type": "display_data"
    },
    {
     "name": "stdout",
     "output_type": "stream",
     "text": [
      "Antes de if\n",
      "Antes de if\n"
     ]
    }
   ],
   "source": [
    "import os\n",
    "import plotly\n",
    "import pandas as pd\n",
    "import numpy as np\n",
    "import plotly.plotly as py\n",
    "import plotly.figure_factory as ff\n",
    "import plotly.graph_objs as go\n",
    "import collections\n",
    "import re\n",
    "from operator import itemgetter\n",
    "\n",
    "from IPython.core.interactiveshell import InteractiveShell\n",
    "InteractiveShell.ast_node_interactivity = \"all\"\n",
    "\n",
    "plotly.tools.set_credentials_file(username='Fernet', api_key='zC7ogVfVT5UPcpu2VKse')\n",
    "plotly.offline.init_notebook_mode(connected=True)\n",
    "\n",
    "#---------------- Settings ----------------\n",
    "\n",
    "image_ext = \"svg\" #Extension para bajar los graficos\n",
    "poda = 5 #Cuantos datos se dejan a cada lado al podar\n",
    "#image_h = 1000\n",
    "#image_w = 1400\n",
    "image_h = 600\n",
    "image_w = 800\n",
    "\n",
    "#---------------- Funciones ----------------\n",
    "\n",
    "#Exp 1.1\n",
    "def procesar_archivo_ej1_exp1(data_path):\n",
    "    df = pd.read_csv(data_path, sep = \";\")\n",
    "    cant_exp = df.shape[0] #Shape = (filas, columnas)\n",
    "    proms = []\n",
    "    #Ordeno las instancias por tiempo\n",
    "    df.sort_values(\"Tiempo\", inplace = \"True\")\n",
    "    #Descarto los valores en los extremos\n",
    "    df = df.iloc[poda : cant_exp - poda, :]\n",
    "\n",
    "    promedio = df[\"Tiempo\"].mean() #Promedio podado de las instancias\n",
    "    \n",
    "    return promedio\n",
    "\n",
    "def procesar_carpeta_ej1_exp1(folder_path):\n",
    "    #Settings\n",
    "    cant_caminos = [5, 10, 15, 20, 25, 30, 35, 40, 50, 75, 80, 95, 100]\n",
    "    buenosCasos = []\n",
    "    malosCasos = []\n",
    "    largo_camino = 20\n",
    "    for root, dirs, files in os.walk(folder_path):\n",
    "        for file in files:\n",
    "            if file.endswith(\".csv\"):\n",
    "                file = folder_path + \"/\" + file\n",
    "                f = open(file, 'r')\n",
    "                prom = procesar_archivo_ej1_exp1(file)\n",
    "                caminos_exp = [int(s) for s in re.split('[_ .]', file)  if s.isdigit()]\n",
    "                if \"buenCaso\" in file:\n",
    "                    buenosCasos.append((prom, caminos_exp))\n",
    "                else:\n",
    "                    malosCasos.append((prom, caminos_exp))\n",
    "                f.close()\n",
    "    \n",
    "    buenosCasos = sorted(buenosCasos, key = itemgetter(1))\n",
    "    malosCasos = sorted(malosCasos, key = itemgetter(1))\n",
    "    \n",
    "    return cant_caminos, largo_camino, buenosCasos, malosCasos\n",
    "\n",
    "#Exp 1.2\n",
    "def procesar_archivo_ej1_exp2(data_path): # NO SE USA\n",
    "    df = pd.read_csv(data_path, sep = \";\")\n",
    "    cant_instancias = df.shape[0] #Shape = (filas, columnas)\n",
    "    #Cuanto cantidad de veces que no encontro solucion\n",
    "    sin_solucion = df[\"Sol\"].tolist().count(-1)\n",
    "    print sin_solucion\n",
    "    con_solucion = cant_instancias - sin_solucion\n",
    "    \n",
    "    return sin_solucion, con_solucion\n",
    "\n",
    "def procesar_carpeta_ej1_exp2(folder_path):\n",
    "    #Settings\n",
    "    casos = []\n",
    "    promedios = []\n",
    "    for root, dirs, files in os.walk(folder_path):\n",
    "        for file in files:\n",
    "            if file.endswith(\".csv\"):\n",
    "                file = folder_path + \"/\" + file\n",
    "                f = open(file, 'r')\n",
    "                prom = procesar_archivo_ej1_exp1(file)\n",
    "                datos_exp = tuple([int(s) for s in re.split('[_ .]', file)  if s.isdigit()])\n",
    "                casos.append(datos_exp)\n",
    "                promedios.append(prom)\n",
    "                f.close()\n",
    "    \n",
    "    ordenados = zip(casos, promedios)\n",
    "    ordenados.sort()\n",
    "    c, p = zip(*ordenados)\n",
    "    return c, p\n",
    "\n",
    "def crearFig_ej1_exp2(ej1_exp2_casos, ej1_exp2_proms, fig_title):\n",
    "    traces = []\n",
    "    grupos = []\n",
    "    for tup, prom in zip(ej1_exp2_casos, ej1_exp2_proms):\n",
    "        grupo = str(tup[0])\n",
    "        grupos.append(grupo)\n",
    "        k = str(tup[1])\n",
    "        trace = go.Bar(\n",
    "            x = [int(grupo)],\n",
    "            y = [prom],\n",
    "            name = grupo + \"_\" + k,\n",
    "            legendgroup = grupo\n",
    "        )\n",
    "        traces.append(trace)\n",
    "    \n",
    "    layout = go.Layout(\n",
    "        title = fig_title,\n",
    "        barmode = 'group',\n",
    "        xaxis = dict(\n",
    "            title = \"Cantidad de caminos\"\n",
    "        ),\n",
    "        yaxis = dict(\n",
    "            title = \"Tiempo (ns)\"\n",
    "        )\n",
    "    )\n",
    "    return go.Figure(data = traces, layout = layout)\n",
    "\n",
    "#Experimentos 2.1 y 3.1, n variable\n",
    "def procesar_archivo_tiempoVsTam(data_path):\n",
    "    df = pd.read_csv(data_path, sep = \";\")\n",
    "    cant_exp = df.shape[0] #Shape = (filas, columnas)\n",
    "    proms = []\n",
    "    #Ordeno las instancias por tiempo\n",
    "    df.sort_values(\"Tiempo\", inplace = \"True\")\n",
    "    #Descarto los valores en los extremos\n",
    "    df = df.iloc[poda : cant_exp - poda, :]\n",
    "\n",
    "    promedio = df[\"Tiempo\"].mean() #Promedio podado de las instancias\n",
    "    varianza = df[\"Tiempo\"].var()  #Varianza de los tiempos\n",
    "    v = df[\"V\"].iloc[0]    \n",
    "    \n",
    "    return v, promedio, varianza\n",
    "\n",
    "def procesar_carpeta_tiempoVsTam(folder_path):\n",
    "    #Settings\n",
    "    tams = []\n",
    "    promedios = []\n",
    "    varianzas = []\n",
    "    for root, dirs, files in os.walk(folder_path):\n",
    "        for file in files:\n",
    "            if file.endswith(\".csv\"):\n",
    "                file = folder_path + \"/\" + file\n",
    "                f = open(file, 'r')\n",
    "                tam, prom, var = procesar_archivo_tiempoVsTam(file)\n",
    "                tams.append(tam)\n",
    "                promedios.append(prom)\n",
    "                varianzas.append(var)\n",
    "                f.close()\n",
    "    \n",
    "    ordenados = zip(tams, promedios, varianzas)\n",
    "    ordenados.sort()\n",
    "    t, p, v = zip(*ordenados)\n",
    "    return t, p, v\n",
    "\n",
    "#Exp 2.2\n",
    "def procesar_archivo_ej2_exp2(data_path):\n",
    "    df = pd.read_csv(data_path, sep = \";\")\n",
    "    cant_exp = df.shape[0] #Shape = (filas, columnas)\n",
    "    proms = []\n",
    "    #Ordeno las instancias por tiempo\n",
    "    df.sort_values(\"Tiempo\", inplace = \"True\")\n",
    "    #Descarto los valores en los extremos\n",
    "    df = df.iloc[poda : cant_exp - poda, :]\n",
    "\n",
    "    promedio = df[\"Tiempo\"].mean() #Promedio podado de las instancias\n",
    "    varianza = df[\"Tiempo\"].var()  #Varianza de los tiempos\n",
    "    v = df[\"V\"].iloc[0]    \n",
    "    maxPeaje = df[\"MaxPeaje\"].iloc[0]\n",
    "    \n",
    "    return v, maxPeaje, promedio, varianza\n",
    "\n",
    "def procesar_carpeta_ej2_exp2(folder_path):\n",
    "    #Settings\n",
    "    maxPeajes = []\n",
    "    promedios = []\n",
    "    varianzas = []\n",
    "    for root, dirs, files in os.walk(folder_path):\n",
    "        for file in files:\n",
    "            if file.endswith(\".csv\"):\n",
    "                file = folder_path + \"/\" + file\n",
    "                f = open(file, 'r')\n",
    "                tam, maxPeaje, prom, var = procesar_archivo_ej2_exp2(file)\n",
    "                maxPeajes.append(maxPeaje)\n",
    "                promedios.append(prom)\n",
    "                varianzas.append(var)\n",
    "                f.close()\n",
    "    \n",
    "    ordenados = zip(maxPeajes, promedios, varianzas)\n",
    "    ordenados.sort()\n",
    "    mp, p, v = zip(*ordenados)\n",
    "    return tam, mp, p, v\n",
    "\n",
    "#Exp 3.2\n",
    "def crearFig_ej3_exp2(folder_path, xtitle, ytitle, fig_title):\n",
    "    for root, dirs, files in os.walk(folder_path):\n",
    "        for file in files:\n",
    "            if file.endswith(\".csv\"):\n",
    "                file = folder_path + \"/\" + file\n",
    "                f = open(file, 'r')\n",
    "                print \"Antes de if\"\n",
    "                if(\"AGM\" in re.split('_', file)):\n",
    "                    agm_v, agm_prom, agm_var = procesar_archivo_tiempoVsTam(file)\n",
    "                else:\n",
    "                    kn_v, kn_prom, kn_var = procesar_archivo_tiempoVsTam(file)\n",
    "                f.close()\n",
    "    \n",
    "    traces = []\n",
    "    grupos = []\n",
    "    agm_trace = go.Bar(\n",
    "            x = [\"AGM_\" + str(int(agm_v))],\n",
    "            y = [agm_prom],\n",
    "            name = \"AGM_\" + str(int(agm_v)),\n",
    "            width = [0.8]\n",
    "    )\n",
    "    kn_trace = go.Bar(\n",
    "            x = [\"K_\" + str(int(kn_v))],\n",
    "            y = [kn_prom],\n",
    "            name = \"K_\" + str(int(kn_v)),\n",
    "            width = [0.8]\n",
    "    )\n",
    "    traces.append(agm_trace)\n",
    "    traces.append(kn_trace)\n",
    "    \n",
    "    layout = go.Layout(\n",
    "        title = fig_title,\n",
    "        bargap = 0.5,\n",
    "        \n",
    "        xaxis = dict(\n",
    "            title = xtitle\n",
    "        ),\n",
    "        yaxis = dict(\n",
    "            title = ytitle\n",
    "        )\n",
    "    )\n",
    "    return go.Figure(data = traces, layout = layout)\n",
    "\n",
    "#Toma un vector de tuplas (x, y, nombre) y devuelve una figura con cada tupla de datos\n",
    "def crear_fig(traces, xtitle, ytitle, fig_title):\n",
    "    data = []\n",
    "    for trace in traces:\n",
    "        #Para que todas las traces sean distintas ademas del color\n",
    "        i = 0\n",
    "        modo = str(i)\n",
    "        i += 1\n",
    "\n",
    "        new_trace = go.Scatter(\n",
    "            x = trace[0],\n",
    "            y = trace[1],\n",
    "            name = trace[2],\n",
    "            mode = modo\n",
    "                \n",
    "        )\n",
    "        data.append(new_trace)\n",
    "    \n",
    "    layout = go.Layout(\n",
    "        xaxis=dict(\n",
    "            tickmode = \"auto\",\n",
    "            #nticks = cant_exp,\n",
    "            ticks = \"inside\",\n",
    "            #tick0 = 0,\n",
    "            #ticklen = 8,\n",
    "            #dtick = 3,\n",
    "            title = xtitle,\n",
    "            tickangle = 0\n",
    "        ),\n",
    "        yaxis=dict(\n",
    "            tick0 = 0,\n",
    "            zeroline = \"False\",\n",
    "            ticks='inside',\n",
    "            ticklen=8,\n",
    "            tickwidth=3,\n",
    "            tickcolor='#000',\n",
    "            title = ytitle\n",
    "        ),\n",
    "        legend=dict(\n",
    "            x=10,\n",
    "            y=1,\n",
    "            traceorder='normal',\n",
    "            font=dict(\n",
    "                family='sans-serif',\n",
    "                size=14,\n",
    "                color='#000'\n",
    "            ),\n",
    "            bgcolor='#E2E2E2',\n",
    "            bordercolor='#FFFFFF',\n",
    "            borderwidth=2\n",
    "        ),\n",
    "        title = fig_title\n",
    "    )\n",
    "    \n",
    "    return go.Figure(data=data, layout=layout)\n",
    "\n",
    "#---------------- Script ----------------\n",
    "\n",
    "#Procesamiento de datos\n",
    "\n",
    "data_ej1_exp1 = procesar_carpeta_ej1_exp1(\"Outputs/Ej1/outsTiempo/exp1\")\n",
    "ej1_exp1_cantCaminos =  data_ej1_exp1[0]\n",
    "ej1_exp1_largoCaminos = data_ej1_exp1[1]\n",
    "ej1_exp1_buenosCasos =  [tiempo[0] for tiempo in data_ej1_exp1[2]]\n",
    "ej1_exp1_malosCasos =  [tiempo[0] for tiempo in data_ej1_exp1[3]]\n",
    "\n",
    "\n",
    "data_ej1_exp2 = procesar_carpeta_ej1_exp2(\"Outputs/Ej1/outsTiempo/exp2\")\n",
    "ej1_exp2_casos = data_ej1_exp2[0] # Vector de  tuplas (cant_caminos, k)\n",
    "ej1_exp2_proms = data_ej1_exp2[1]\n",
    "\n",
    "data_ej2_exp1 = procesar_carpeta_tiempoVsTam(\"Outputs/Ej2/outsTiempo/exp1\")\n",
    "ej2_exp1_tams =  data_ej2_exp1[0]\n",
    "ej2_exp1_proms =  data_ej2_exp1[1]\n",
    "ej2_exp1_vars =  data_ej2_exp1[2]\n",
    "#ej2_exp1_vars\n",
    "\n",
    "data_ej2_exp2 = procesar_carpeta_ej2_exp2(\"Outputs/Ej2/outsTiempo/exp2\")\n",
    "ej2_exp2_tam =  data_ej2_exp2[0]\n",
    "ej2_exp2_maxPeajes =  data_ej2_exp2[1]\n",
    "ej2_exp2_proms =  data_ej2_exp2[2]\n",
    "ej2_exp2_vars =  data_ej2_exp2[3]\n",
    "\n",
    "data_ej3_exp1 = procesar_carpeta_tiempoVsTam(\"Outputs/Ej3/outsTiempo/exp1\")\n",
    "ej3_exp1_tams =  data_ej3_exp1[0]\n",
    "ej3_exp1_proms =  data_ej3_exp1[1]\n",
    "ej3_exp1_vars =  data_ej3_exp1[2]\n",
    "\n",
    "#Traces\n",
    "ejer1_exp1_buenosCasos_trace = (ej1_exp1_cantCaminos, ej1_exp1_buenosCasos, \"Casos favorables\")\n",
    "ejer1_exp1_malosCasos_trace = (ej1_exp1_cantCaminos, ej1_exp1_malosCasos, \"Casos desfavorables\")\n",
    "\n",
    "ej2_exp1_trace = (ej2_exp1_tams, ej2_exp1_proms, \"ejer2_exp1\")\n",
    "ej2_exp2_trace = (ej2_exp2_maxPeajes, ej2_exp2_proms, \"ejer2_exp2\")\n",
    "\n",
    "ej3_exp1_trace = (ej3_exp1_tams, ej3_exp1_proms, \"ejer3_exp1\")\n",
    "\n",
    "\n",
    "#Graficos\n",
    "\n",
    "#Exp 1.1\n",
    "nombre = \"Ejercicio 1, experimento 1. <br>Largo de los caminos = %d\" %ej1_exp1_largoCaminos\n",
    "\n",
    "traces = [ejer1_exp1_buenosCasos_trace, ejer1_exp1_malosCasos_trace]\n",
    "\n",
    "fig = crear_fig(traces, \"Cantidad de caminos\", \"Tiempo promedio (ns)\", nombre)\n",
    "\n",
    "#plotly.offline.iplot(fig)\n",
    "#plotly.offline.iplot(fig, image = image_ext, image_width = image_w, image_height = image_h, filename = \"Ej1Exp1Scatter\")\n",
    "\n",
    "#Exp 1.2\n",
    "nombre = \"Ejercicio 1, experimento 2. <br>Largo de los caminos = cantidad de caminos - 1\"\n",
    "\n",
    "fig = crearFig_ej1_exp2(ej1_exp2_casos, ej1_exp2_proms, nombre)\n",
    "\n",
    "#plotly.offline.iplot(fig)\n",
    "plotly.offline.iplot(fig, image = image_ext, image_width = image_w, image_height = image_h, filename = \"Ej1Exp2Barras\")\n",
    "\n",
    "#Exp 2.1\n",
    "nombre = \"Ejercicio 2, experimento 1.\"\n",
    "\n",
    "traces = [ej2_exp1_trace]\n",
    "\n",
    "fig = crear_fig(traces, \"Cantidad de vertices\", \"Tiempo promedio (ns)\", nombre)\n",
    "\n",
    "#plotly.offline.iplot(fig)\n",
    "#plotly.offline.iplot(fig, image = image_ext, image_width = image_w, image_height = image_h, filename = \"Ej2Exp1Scatter\")\n",
    "\n",
    "#Exp 2.2\n",
    "nombre = \"Ejercicio 2, experimento 2.<br> n = %d\" %ej2_exp2_tam\n",
    "\n",
    "traces = [ej2_exp2_trace]\n",
    "\n",
    "fig = crear_fig(traces, \"Costo del peaje más caro\", \"Tiempo promedio (ns)\", nombre)\n",
    "\n",
    "#plotly.offline.iplot(fig)\n",
    "#plotly.offline.iplot(fig, image = image_ext, image_width = image_w, image_height = image_h, filename = \"Ej2Exp2Scatter\")\n",
    "\n",
    "#Exp 3.1\n",
    "nombre = \"Ejercicio 3, experimento 1.\"\n",
    "\n",
    "traces = [ej3_exp1_trace]\n",
    "\n",
    "fig = crear_fig(traces, \"Cantidad de vertices\", \"Tiempo promedio (ns)\", nombre)\n",
    "\n",
    "#plotly.offline.iplot(fig)\n",
    "#plotly.offline.iplot(fig, image = image_ext, image_width = image_w, image_height = image_h, filename = \"Ej3Exp1Scatter\")\n",
    "\n",
    "#Exp 3.2\n",
    "nombre = \"Ejercicio 3, experimento 2.\"\n",
    "\n",
    "fig = crearFig_ej3_exp2(\"Outputs/Ej3/outsTiempo/exp2\", \"Tipo de grafo\", \"Tiempo (ns)\", nombre)\n",
    "\n",
    "#plotly.offline.iplot(fig)\n",
    "#plotly.offline.iplot(fig, image = image_ext, image_width = image_w, image_height = image_h, filename = \"Ej3Exp2Barras\")\n",
    "\n"
   ]
  },
  {
   "cell_type": "code",
   "execution_count": null,
   "metadata": {
    "collapsed": true,
    "deletable": true,
    "editable": true
   },
   "outputs": [],
   "source": []
  }
 ],
 "metadata": {
  "kernelspec": {
   "display_name": "Python 2",
   "language": "python",
   "name": "python2"
  },
  "language_info": {
   "codemirror_mode": {
    "name": "ipython",
    "version": 2
   },
   "file_extension": ".py",
   "mimetype": "text/x-python",
   "name": "python",
   "nbconvert_exporter": "python",
   "pygments_lexer": "ipython2",
   "version": "2.7.12"
  }
 },
 "nbformat": 4,
 "nbformat_minor": 1
}
